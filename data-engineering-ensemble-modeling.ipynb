{
 "cells": [
  {
   "cell_type": "code",
   "execution_count": 1,
   "id": "e1aedc40",
   "metadata": {
    "_cell_guid": "b1076dfc-b9ad-4769-8c92-a6c4dae69d19",
    "_uuid": "8f2839f25d086af736a60e9eeb907d3b93b6e0e5",
    "execution": {
     "iopub.execute_input": "2022-10-24T02:07:23.600624Z",
     "iopub.status.busy": "2022-10-24T02:07:23.600078Z",
     "iopub.status.idle": "2022-10-24T02:07:24.887396Z",
     "shell.execute_reply": "2022-10-24T02:07:24.886087Z"
    },
    "papermill": {
     "duration": 1.313872,
     "end_time": "2022-10-24T02:07:24.890543",
     "exception": false,
     "start_time": "2022-10-24T02:07:23.576671",
     "status": "completed"
    },
    "tags": []
   },
   "outputs": [],
   "source": [
    "#=======================================================================================\n",
    "# Importing the libaries:\n",
    "#=======================================================================================\n",
    "\n",
    "import numpy as np\n",
    "import pandas as pd\n",
    "import matplotlib.pyplot as plt\n",
    "import seaborn as sns\n",
    "import warnings\n",
    "import os\n",
    "warnings.filterwarnings(\"ignore\")\n",
    "\n",
    "#======================================================================================="
   ]
  },
  {
   "cell_type": "markdown",
   "id": "b15022e0",
   "metadata": {
    "papermill": {
     "duration": 0.019617,
     "end_time": "2022-10-24T02:07:24.930602",
     "exception": false,
     "start_time": "2022-10-24T02:07:24.910985",
     "status": "completed"
    },
    "tags": []
   },
   "source": [
    "<div style=\"color:#00ADB5;\n",
    "           display:fill;\n",
    "           border-radius:5px;\n",
    "           background-color:#393E46;\n",
    "           font-size:20px;\n",
    "           font-family:sans-serif;\n",
    "           letter-spacing:0.5px\">\n",
    "        <p style=\"padding: 10px;\n",
    "              color:white;\">\n",
    "            <b>1 ) Importing the data:</b>\n",
    "        </p>\n",
    "</div>\n"
   ]
  },
  {
   "cell_type": "code",
   "execution_count": 2,
   "id": "81ba4cbf",
   "metadata": {
    "execution": {
     "iopub.execute_input": "2022-10-24T02:07:24.972554Z",
     "iopub.status.busy": "2022-10-24T02:07:24.972101Z",
     "iopub.status.idle": "2022-10-24T02:07:25.006622Z",
     "shell.execute_reply": "2022-10-24T02:07:25.005532Z"
    },
    "papermill": {
     "duration": 0.059863,
     "end_time": "2022-10-24T02:07:25.010264",
     "exception": false,
     "start_time": "2022-10-24T02:07:24.950401",
     "status": "completed"
    },
    "tags": []
   },
   "outputs": [
    {
     "name": "stdout",
     "output_type": "stream",
     "text": [
      "Train data imported successfully!!\n",
      "--------------------------------------------------\n",
      "Test data imported successfully!!\n"
     ]
    }
   ],
   "source": [
    "#=======================================================================================\n",
    "# Reading the data:\n",
    "#=======================================================================================\n",
    "\n",
    "def read_data():\n",
    "    train_data = pd.read_csv(\"/kaggle/input/titanic/train.csv\")\n",
    "    print(\"Train data imported successfully!!\")\n",
    "    print(\"-\"*50)\n",
    "    test_data = pd.read_csv(\"/kaggle/input/titanic/test.csv\")\n",
    "    print(\"Test data imported successfully!!\")\n",
    "    return train_data , test_data\n",
    "\n",
    "train_data , test_data = read_data()\n",
    "combine = [train_data , test_data]\n",
    "\n",
    "#======================================================================================="
   ]
  },
  {
   "cell_type": "markdown",
   "id": "24632699",
   "metadata": {
    "papermill": {
     "duration": 0.020877,
     "end_time": "2022-10-24T02:07:25.053127",
     "exception": false,
     "start_time": "2022-10-24T02:07:25.032250",
     "status": "completed"
    },
    "tags": []
   },
   "source": [
    "<div style=\"color:#00ADB5;\n",
    "           display:fill;\n",
    "           border-radius:5px;\n",
    "           background-color:#393E46;\n",
    "           font-size:20px;\n",
    "           font-family:sans-serif;\n",
    "           letter-spacing:0.5px\">\n",
    "        <p style=\"padding: 10px;\n",
    "              color:white;\">\n",
    "            <b> 2 ) Discovering the data:</b>\n",
    "        </p>\n",
    "</div>\n"
   ]
  },
  {
   "cell_type": "code",
   "execution_count": 3,
   "id": "0baa315e",
   "metadata": {
    "execution": {
     "iopub.execute_input": "2022-10-24T02:07:25.097978Z",
     "iopub.status.busy": "2022-10-24T02:07:25.097531Z",
     "iopub.status.idle": "2022-10-24T02:07:25.126212Z",
     "shell.execute_reply": "2022-10-24T02:07:25.124951Z"
    },
    "papermill": {
     "duration": 0.054785,
     "end_time": "2022-10-24T02:07:25.129640",
     "exception": false,
     "start_time": "2022-10-24T02:07:25.074855",
     "status": "completed"
    },
    "tags": []
   },
   "outputs": [
    {
     "data": {
      "text/html": [
       "<div>\n",
       "<style scoped>\n",
       "    .dataframe tbody tr th:only-of-type {\n",
       "        vertical-align: middle;\n",
       "    }\n",
       "\n",
       "    .dataframe tbody tr th {\n",
       "        vertical-align: top;\n",
       "    }\n",
       "\n",
       "    .dataframe thead th {\n",
       "        text-align: right;\n",
       "    }\n",
       "</style>\n",
       "<table border=\"1\" class=\"dataframe\">\n",
       "  <thead>\n",
       "    <tr style=\"text-align: right;\">\n",
       "      <th></th>\n",
       "      <th>PassengerId</th>\n",
       "      <th>Survived</th>\n",
       "      <th>Pclass</th>\n",
       "      <th>Name</th>\n",
       "      <th>Sex</th>\n",
       "      <th>Age</th>\n",
       "      <th>SibSp</th>\n",
       "      <th>Parch</th>\n",
       "      <th>Ticket</th>\n",
       "      <th>Fare</th>\n",
       "      <th>Cabin</th>\n",
       "      <th>Embarked</th>\n",
       "    </tr>\n",
       "  </thead>\n",
       "  <tbody>\n",
       "    <tr>\n",
       "      <th>0</th>\n",
       "      <td>1</td>\n",
       "      <td>0</td>\n",
       "      <td>3</td>\n",
       "      <td>Braund, Mr. Owen Harris</td>\n",
       "      <td>male</td>\n",
       "      <td>22.0</td>\n",
       "      <td>1</td>\n",
       "      <td>0</td>\n",
       "      <td>A/5 21171</td>\n",
       "      <td>7.2500</td>\n",
       "      <td>NaN</td>\n",
       "      <td>S</td>\n",
       "    </tr>\n",
       "    <tr>\n",
       "      <th>1</th>\n",
       "      <td>2</td>\n",
       "      <td>1</td>\n",
       "      <td>1</td>\n",
       "      <td>Cumings, Mrs. John Bradley (Florence Briggs Th...</td>\n",
       "      <td>female</td>\n",
       "      <td>38.0</td>\n",
       "      <td>1</td>\n",
       "      <td>0</td>\n",
       "      <td>PC 17599</td>\n",
       "      <td>71.2833</td>\n",
       "      <td>C85</td>\n",
       "      <td>C</td>\n",
       "    </tr>\n",
       "    <tr>\n",
       "      <th>2</th>\n",
       "      <td>3</td>\n",
       "      <td>1</td>\n",
       "      <td>3</td>\n",
       "      <td>Heikkinen, Miss. Laina</td>\n",
       "      <td>female</td>\n",
       "      <td>26.0</td>\n",
       "      <td>0</td>\n",
       "      <td>0</td>\n",
       "      <td>STON/O2. 3101282</td>\n",
       "      <td>7.9250</td>\n",
       "      <td>NaN</td>\n",
       "      <td>S</td>\n",
       "    </tr>\n",
       "    <tr>\n",
       "      <th>3</th>\n",
       "      <td>4</td>\n",
       "      <td>1</td>\n",
       "      <td>1</td>\n",
       "      <td>Futrelle, Mrs. Jacques Heath (Lily May Peel)</td>\n",
       "      <td>female</td>\n",
       "      <td>35.0</td>\n",
       "      <td>1</td>\n",
       "      <td>0</td>\n",
       "      <td>113803</td>\n",
       "      <td>53.1000</td>\n",
       "      <td>C123</td>\n",
       "      <td>S</td>\n",
       "    </tr>\n",
       "    <tr>\n",
       "      <th>4</th>\n",
       "      <td>5</td>\n",
       "      <td>0</td>\n",
       "      <td>3</td>\n",
       "      <td>Allen, Mr. William Henry</td>\n",
       "      <td>male</td>\n",
       "      <td>35.0</td>\n",
       "      <td>0</td>\n",
       "      <td>0</td>\n",
       "      <td>373450</td>\n",
       "      <td>8.0500</td>\n",
       "      <td>NaN</td>\n",
       "      <td>S</td>\n",
       "    </tr>\n",
       "  </tbody>\n",
       "</table>\n",
       "</div>"
      ],
      "text/plain": [
       "   PassengerId  Survived  Pclass  \\\n",
       "0            1         0       3   \n",
       "1            2         1       1   \n",
       "2            3         1       3   \n",
       "3            4         1       1   \n",
       "4            5         0       3   \n",
       "\n",
       "                                                Name     Sex   Age  SibSp  \\\n",
       "0                            Braund, Mr. Owen Harris    male  22.0      1   \n",
       "1  Cumings, Mrs. John Bradley (Florence Briggs Th...  female  38.0      1   \n",
       "2                             Heikkinen, Miss. Laina  female  26.0      0   \n",
       "3       Futrelle, Mrs. Jacques Heath (Lily May Peel)  female  35.0      1   \n",
       "4                           Allen, Mr. William Henry    male  35.0      0   \n",
       "\n",
       "   Parch            Ticket     Fare Cabin Embarked  \n",
       "0      0         A/5 21171   7.2500   NaN        S  \n",
       "1      0          PC 17599  71.2833   C85        C  \n",
       "2      0  STON/O2. 3101282   7.9250   NaN        S  \n",
       "3      0            113803  53.1000  C123        S  \n",
       "4      0            373450   8.0500   NaN        S  "
      ]
     },
     "execution_count": 3,
     "metadata": {},
     "output_type": "execute_result"
    }
   ],
   "source": [
    "train_data.head()"
   ]
  },
  {
   "cell_type": "code",
   "execution_count": 4,
   "id": "db3d49ad",
   "metadata": {
    "execution": {
     "iopub.execute_input": "2022-10-24T02:07:25.175613Z",
     "iopub.status.busy": "2022-10-24T02:07:25.174782Z",
     "iopub.status.idle": "2022-10-24T02:07:25.194552Z",
     "shell.execute_reply": "2022-10-24T02:07:25.192591Z"
    },
    "papermill": {
     "duration": 0.04638,
     "end_time": "2022-10-24T02:07:25.197649",
     "exception": false,
     "start_time": "2022-10-24T02:07:25.151269",
     "status": "completed"
    },
    "tags": []
   },
   "outputs": [
    {
     "data": {
      "text/html": [
       "<div>\n",
       "<style scoped>\n",
       "    .dataframe tbody tr th:only-of-type {\n",
       "        vertical-align: middle;\n",
       "    }\n",
       "\n",
       "    .dataframe tbody tr th {\n",
       "        vertical-align: top;\n",
       "    }\n",
       "\n",
       "    .dataframe thead th {\n",
       "        text-align: right;\n",
       "    }\n",
       "</style>\n",
       "<table border=\"1\" class=\"dataframe\">\n",
       "  <thead>\n",
       "    <tr style=\"text-align: right;\">\n",
       "      <th></th>\n",
       "      <th>PassengerId</th>\n",
       "      <th>Pclass</th>\n",
       "      <th>Name</th>\n",
       "      <th>Sex</th>\n",
       "      <th>Age</th>\n",
       "      <th>SibSp</th>\n",
       "      <th>Parch</th>\n",
       "      <th>Ticket</th>\n",
       "      <th>Fare</th>\n",
       "      <th>Cabin</th>\n",
       "      <th>Embarked</th>\n",
       "    </tr>\n",
       "  </thead>\n",
       "  <tbody>\n",
       "    <tr>\n",
       "      <th>0</th>\n",
       "      <td>892</td>\n",
       "      <td>3</td>\n",
       "      <td>Kelly, Mr. James</td>\n",
       "      <td>male</td>\n",
       "      <td>34.5</td>\n",
       "      <td>0</td>\n",
       "      <td>0</td>\n",
       "      <td>330911</td>\n",
       "      <td>7.8292</td>\n",
       "      <td>NaN</td>\n",
       "      <td>Q</td>\n",
       "    </tr>\n",
       "    <tr>\n",
       "      <th>1</th>\n",
       "      <td>893</td>\n",
       "      <td>3</td>\n",
       "      <td>Wilkes, Mrs. James (Ellen Needs)</td>\n",
       "      <td>female</td>\n",
       "      <td>47.0</td>\n",
       "      <td>1</td>\n",
       "      <td>0</td>\n",
       "      <td>363272</td>\n",
       "      <td>7.0000</td>\n",
       "      <td>NaN</td>\n",
       "      <td>S</td>\n",
       "    </tr>\n",
       "    <tr>\n",
       "      <th>2</th>\n",
       "      <td>894</td>\n",
       "      <td>2</td>\n",
       "      <td>Myles, Mr. Thomas Francis</td>\n",
       "      <td>male</td>\n",
       "      <td>62.0</td>\n",
       "      <td>0</td>\n",
       "      <td>0</td>\n",
       "      <td>240276</td>\n",
       "      <td>9.6875</td>\n",
       "      <td>NaN</td>\n",
       "      <td>Q</td>\n",
       "    </tr>\n",
       "    <tr>\n",
       "      <th>3</th>\n",
       "      <td>895</td>\n",
       "      <td>3</td>\n",
       "      <td>Wirz, Mr. Albert</td>\n",
       "      <td>male</td>\n",
       "      <td>27.0</td>\n",
       "      <td>0</td>\n",
       "      <td>0</td>\n",
       "      <td>315154</td>\n",
       "      <td>8.6625</td>\n",
       "      <td>NaN</td>\n",
       "      <td>S</td>\n",
       "    </tr>\n",
       "    <tr>\n",
       "      <th>4</th>\n",
       "      <td>896</td>\n",
       "      <td>3</td>\n",
       "      <td>Hirvonen, Mrs. Alexander (Helga E Lindqvist)</td>\n",
       "      <td>female</td>\n",
       "      <td>22.0</td>\n",
       "      <td>1</td>\n",
       "      <td>1</td>\n",
       "      <td>3101298</td>\n",
       "      <td>12.2875</td>\n",
       "      <td>NaN</td>\n",
       "      <td>S</td>\n",
       "    </tr>\n",
       "  </tbody>\n",
       "</table>\n",
       "</div>"
      ],
      "text/plain": [
       "   PassengerId  Pclass                                          Name     Sex  \\\n",
       "0          892       3                              Kelly, Mr. James    male   \n",
       "1          893       3              Wilkes, Mrs. James (Ellen Needs)  female   \n",
       "2          894       2                     Myles, Mr. Thomas Francis    male   \n",
       "3          895       3                              Wirz, Mr. Albert    male   \n",
       "4          896       3  Hirvonen, Mrs. Alexander (Helga E Lindqvist)  female   \n",
       "\n",
       "    Age  SibSp  Parch   Ticket     Fare Cabin Embarked  \n",
       "0  34.5      0      0   330911   7.8292   NaN        Q  \n",
       "1  47.0      1      0   363272   7.0000   NaN        S  \n",
       "2  62.0      0      0   240276   9.6875   NaN        Q  \n",
       "3  27.0      0      0   315154   8.6625   NaN        S  \n",
       "4  22.0      1      1  3101298  12.2875   NaN        S  "
      ]
     },
     "execution_count": 4,
     "metadata": {},
     "output_type": "execute_result"
    }
   ],
   "source": [
    "test_data.head()"
   ]
  },
  {
   "cell_type": "code",
   "execution_count": 5,
   "id": "42908177",
   "metadata": {
    "execution": {
     "iopub.execute_input": "2022-10-24T02:07:25.241799Z",
     "iopub.status.busy": "2022-10-24T02:07:25.241091Z",
     "iopub.status.idle": "2022-10-24T02:07:25.248304Z",
     "shell.execute_reply": "2022-10-24T02:07:25.246929Z"
    },
    "papermill": {
     "duration": 0.032686,
     "end_time": "2022-10-24T02:07:25.251691",
     "exception": false,
     "start_time": "2022-10-24T02:07:25.219005",
     "status": "completed"
    },
    "tags": []
   },
   "outputs": [
    {
     "name": "stdout",
     "output_type": "stream",
     "text": [
      "Train data features are:\n",
      "\n",
      "['PassengerId' 'Survived' 'Pclass' 'Name' 'Sex' 'Age' 'SibSp' 'Parch'\n",
      " 'Ticket' 'Fare' 'Cabin' 'Embarked']\n",
      "\n",
      " ================================================================================ \n",
      "\n",
      "Test data features are:\n",
      "\n",
      "['PassengerId' 'Pclass' 'Name' 'Sex' 'Age' 'SibSp' 'Parch' 'Ticket' 'Fare'\n",
      " 'Cabin' 'Embarked']\n"
     ]
    }
   ],
   "source": [
    "#=======================================================================================\n",
    "# Discovering the features:\n",
    "#=======================================================================================\n",
    "\n",
    "print(\"Train data features are:\\n\")\n",
    "print(train_data.columns.values)\n",
    "print('\\n' ,\"=\"*80 , '\\n')\n",
    "print(\"Test data features are:\\n\")\n",
    "print(test_data.columns.values)"
   ]
  },
  {
   "cell_type": "code",
   "execution_count": 6,
   "id": "e91dc080",
   "metadata": {
    "execution": {
     "iopub.execute_input": "2022-10-24T02:07:25.296324Z",
     "iopub.status.busy": "2022-10-24T02:07:25.295905Z",
     "iopub.status.idle": "2022-10-24T02:07:25.335576Z",
     "shell.execute_reply": "2022-10-24T02:07:25.334241Z"
    },
    "papermill": {
     "duration": 0.064382,
     "end_time": "2022-10-24T02:07:25.338163",
     "exception": false,
     "start_time": "2022-10-24T02:07:25.273781",
     "status": "completed"
    },
    "tags": []
   },
   "outputs": [
    {
     "name": "stdout",
     "output_type": "stream",
     "text": [
      "<class 'pandas.core.frame.DataFrame'>\n",
      "RangeIndex: 891 entries, 0 to 890\n",
      "Data columns (total 12 columns):\n",
      " #   Column       Non-Null Count  Dtype  \n",
      "---  ------       --------------  -----  \n",
      " 0   PassengerId  891 non-null    int64  \n",
      " 1   Survived     891 non-null    int64  \n",
      " 2   Pclass       891 non-null    int64  \n",
      " 3   Name         891 non-null    object \n",
      " 4   Sex          891 non-null    object \n",
      " 5   Age          714 non-null    float64\n",
      " 6   SibSp        891 non-null    int64  \n",
      " 7   Parch        891 non-null    int64  \n",
      " 8   Ticket       891 non-null    object \n",
      " 9   Fare         891 non-null    float64\n",
      " 10  Cabin        204 non-null    object \n",
      " 11  Embarked     889 non-null    object \n",
      "dtypes: float64(2), int64(5), object(5)\n",
      "memory usage: 83.7+ KB\n",
      "________________________________________ \n",
      "\n",
      "<class 'pandas.core.frame.DataFrame'>\n",
      "RangeIndex: 418 entries, 0 to 417\n",
      "Data columns (total 11 columns):\n",
      " #   Column       Non-Null Count  Dtype  \n",
      "---  ------       --------------  -----  \n",
      " 0   PassengerId  418 non-null    int64  \n",
      " 1   Pclass       418 non-null    int64  \n",
      " 2   Name         418 non-null    object \n",
      " 3   Sex          418 non-null    object \n",
      " 4   Age          332 non-null    float64\n",
      " 5   SibSp        418 non-null    int64  \n",
      " 6   Parch        418 non-null    int64  \n",
      " 7   Ticket       418 non-null    object \n",
      " 8   Fare         417 non-null    float64\n",
      " 9   Cabin        91 non-null     object \n",
      " 10  Embarked     418 non-null    object \n",
      "dtypes: float64(2), int64(4), object(5)\n",
      "memory usage: 36.0+ KB\n"
     ]
    }
   ],
   "source": [
    "#=======================================================================================\n",
    "# Discovering the features types:\n",
    "#=======================================================================================\n",
    "\n",
    "train_data.info()\n",
    "print('_'*40 , '\\n')\n",
    "test_data.info()"
   ]
  },
  {
   "cell_type": "markdown",
   "id": "2fdd6925",
   "metadata": {
    "papermill": {
     "duration": 0.020744,
     "end_time": "2022-10-24T02:07:25.380051",
     "exception": false,
     "start_time": "2022-10-24T02:07:25.359307",
     "status": "completed"
    },
    "tags": []
   },
   "source": [
    "#### Features discovering results:\n",
    "\n",
    "- Features of the test data are the same as features of the training data except for the Survived feature (because it's the target).\n",
    "- Features types:\n",
    "    - Categorical:\n",
    "        - Pclass (ordinal)\n",
    "        - Name (nominal)\n",
    "        - Sex (nominal)\n",
    "    - Numerical:\n",
    "        - Age (continuous)\n",
    "        - Fare (continuous)\n",
    "        - SibSp (discrete)\n",
    "        - Parch (discrete)\n",
    "    - Mixed:\n",
    "        - Ticket (numeric and alphanumeric)\n",
    "        - Cabin (alphanumeric)\n",
    "        \n",
    "**Insights:** Features types are very important for EDA step."
   ]
  },
  {
   "cell_type": "code",
   "execution_count": 7,
   "id": "99b49d2c",
   "metadata": {
    "execution": {
     "iopub.execute_input": "2022-10-24T02:07:25.425835Z",
     "iopub.status.busy": "2022-10-24T02:07:25.425403Z",
     "iopub.status.idle": "2022-10-24T02:07:25.438769Z",
     "shell.execute_reply": "2022-10-24T02:07:25.437491Z"
    },
    "papermill": {
     "duration": 0.038722,
     "end_time": "2022-10-24T02:07:25.441761",
     "exception": false,
     "start_time": "2022-10-24T02:07:25.403039",
     "status": "completed"
    },
    "tags": []
   },
   "outputs": [
    {
     "name": "stdout",
     "output_type": "stream",
     "text": [
      "Train data missed values:\n",
      "\n",
      "PassengerId      0\n",
      "Survived         0\n",
      "Pclass           0\n",
      "Name             0\n",
      "Sex              0\n",
      "Age            177\n",
      "SibSp            0\n",
      "Parch            0\n",
      "Ticket           0\n",
      "Fare             0\n",
      "Cabin          687\n",
      "Embarked         2\n",
      "dtype: int64\n",
      "\n",
      " ________________________________________ \n",
      "\n",
      "Test data missed values:\n",
      "PassengerId      0\n",
      "Pclass           0\n",
      "Name             0\n",
      "Sex              0\n",
      "Age             86\n",
      "SibSp            0\n",
      "Parch            0\n",
      "Ticket           0\n",
      "Fare             1\n",
      "Cabin          327\n",
      "Embarked         0\n",
      "dtype: int64\n"
     ]
    }
   ],
   "source": [
    "#=======================================================================================\n",
    "# Discovering the missed values:\n",
    "#=======================================================================================\n",
    "\n",
    "print(\"Train data missed values:\\n\")\n",
    "print(train_data.isnull().sum())\n",
    "print('\\n','_'*40 , '\\n')\n",
    "print(\"Test data missed values:\")\n",
    "print(test_data.isnull().sum())"
   ]
  },
  {
   "cell_type": "markdown",
   "id": "33da2aeb",
   "metadata": {
    "papermill": {
     "duration": 0.022259,
     "end_time": "2022-10-24T02:07:25.488058",
     "exception": false,
     "start_time": "2022-10-24T02:07:25.465799",
     "status": "completed"
    },
    "tags": []
   },
   "source": [
    "#### Missed values discovering results:\n",
    "- Train Data:\n",
    "    - Age: 177/891 missed values (19.8% are missed).\n",
    "    - Cabin: 687/891 missed values (77.1% are missed).\n",
    "    - Embarked: 2/891 missed values.\n",
    "- Test Data:\n",
    "    - Age: 86/418 missed values (20.5% are missed).\n",
    "    - Cabin: 327/418 missed values (78.2% are missed).\n",
    "    - Fare: 1/418 missed values.\n",
    "    \n",
    "**Insights:** Now we know what are the missed values, And we are going to discover the correlations to do what is appropriate."
   ]
  },
  {
   "cell_type": "code",
   "execution_count": 8,
   "id": "c83d6d11",
   "metadata": {
    "execution": {
     "iopub.execute_input": "2022-10-24T02:07:25.531892Z",
     "iopub.status.busy": "2022-10-24T02:07:25.531469Z",
     "iopub.status.idle": "2022-10-24T02:07:25.572419Z",
     "shell.execute_reply": "2022-10-24T02:07:25.570789Z"
    },
    "papermill": {
     "duration": 0.06712,
     "end_time": "2022-10-24T02:07:25.575893",
     "exception": false,
     "start_time": "2022-10-24T02:07:25.508773",
     "status": "completed"
    },
    "tags": []
   },
   "outputs": [
    {
     "data": {
      "text/html": [
       "<div>\n",
       "<style scoped>\n",
       "    .dataframe tbody tr th:only-of-type {\n",
       "        vertical-align: middle;\n",
       "    }\n",
       "\n",
       "    .dataframe tbody tr th {\n",
       "        vertical-align: top;\n",
       "    }\n",
       "\n",
       "    .dataframe thead th {\n",
       "        text-align: right;\n",
       "    }\n",
       "</style>\n",
       "<table border=\"1\" class=\"dataframe\">\n",
       "  <thead>\n",
       "    <tr style=\"text-align: right;\">\n",
       "      <th></th>\n",
       "      <th>PassengerId</th>\n",
       "      <th>Survived</th>\n",
       "      <th>Pclass</th>\n",
       "      <th>Age</th>\n",
       "      <th>SibSp</th>\n",
       "      <th>Parch</th>\n",
       "      <th>Fare</th>\n",
       "    </tr>\n",
       "  </thead>\n",
       "  <tbody>\n",
       "    <tr>\n",
       "      <th>count</th>\n",
       "      <td>891.000000</td>\n",
       "      <td>891.000000</td>\n",
       "      <td>891.000000</td>\n",
       "      <td>714.000000</td>\n",
       "      <td>891.000000</td>\n",
       "      <td>891.000000</td>\n",
       "      <td>891.000000</td>\n",
       "    </tr>\n",
       "    <tr>\n",
       "      <th>mean</th>\n",
       "      <td>446.000000</td>\n",
       "      <td>0.383838</td>\n",
       "      <td>2.308642</td>\n",
       "      <td>29.699118</td>\n",
       "      <td>0.523008</td>\n",
       "      <td>0.381594</td>\n",
       "      <td>32.204208</td>\n",
       "    </tr>\n",
       "    <tr>\n",
       "      <th>std</th>\n",
       "      <td>257.353842</td>\n",
       "      <td>0.486592</td>\n",
       "      <td>0.836071</td>\n",
       "      <td>14.526497</td>\n",
       "      <td>1.102743</td>\n",
       "      <td>0.806057</td>\n",
       "      <td>49.693429</td>\n",
       "    </tr>\n",
       "    <tr>\n",
       "      <th>min</th>\n",
       "      <td>1.000000</td>\n",
       "      <td>0.000000</td>\n",
       "      <td>1.000000</td>\n",
       "      <td>0.420000</td>\n",
       "      <td>0.000000</td>\n",
       "      <td>0.000000</td>\n",
       "      <td>0.000000</td>\n",
       "    </tr>\n",
       "    <tr>\n",
       "      <th>25%</th>\n",
       "      <td>223.500000</td>\n",
       "      <td>0.000000</td>\n",
       "      <td>2.000000</td>\n",
       "      <td>20.125000</td>\n",
       "      <td>0.000000</td>\n",
       "      <td>0.000000</td>\n",
       "      <td>7.910400</td>\n",
       "    </tr>\n",
       "    <tr>\n",
       "      <th>50%</th>\n",
       "      <td>446.000000</td>\n",
       "      <td>0.000000</td>\n",
       "      <td>3.000000</td>\n",
       "      <td>28.000000</td>\n",
       "      <td>0.000000</td>\n",
       "      <td>0.000000</td>\n",
       "      <td>14.454200</td>\n",
       "    </tr>\n",
       "    <tr>\n",
       "      <th>75%</th>\n",
       "      <td>668.500000</td>\n",
       "      <td>1.000000</td>\n",
       "      <td>3.000000</td>\n",
       "      <td>38.000000</td>\n",
       "      <td>1.000000</td>\n",
       "      <td>0.000000</td>\n",
       "      <td>31.000000</td>\n",
       "    </tr>\n",
       "    <tr>\n",
       "      <th>max</th>\n",
       "      <td>891.000000</td>\n",
       "      <td>1.000000</td>\n",
       "      <td>3.000000</td>\n",
       "      <td>80.000000</td>\n",
       "      <td>8.000000</td>\n",
       "      <td>6.000000</td>\n",
       "      <td>512.329200</td>\n",
       "    </tr>\n",
       "  </tbody>\n",
       "</table>\n",
       "</div>"
      ],
      "text/plain": [
       "       PassengerId    Survived      Pclass         Age       SibSp  \\\n",
       "count   891.000000  891.000000  891.000000  714.000000  891.000000   \n",
       "mean    446.000000    0.383838    2.308642   29.699118    0.523008   \n",
       "std     257.353842    0.486592    0.836071   14.526497    1.102743   \n",
       "min       1.000000    0.000000    1.000000    0.420000    0.000000   \n",
       "25%     223.500000    0.000000    2.000000   20.125000    0.000000   \n",
       "50%     446.000000    0.000000    3.000000   28.000000    0.000000   \n",
       "75%     668.500000    1.000000    3.000000   38.000000    1.000000   \n",
       "max     891.000000    1.000000    3.000000   80.000000    8.000000   \n",
       "\n",
       "            Parch        Fare  \n",
       "count  891.000000  891.000000  \n",
       "mean     0.381594   32.204208  \n",
       "std      0.806057   49.693429  \n",
       "min      0.000000    0.000000  \n",
       "25%      0.000000    7.910400  \n",
       "50%      0.000000   14.454200  \n",
       "75%      0.000000   31.000000  \n",
       "max      6.000000  512.329200  "
      ]
     },
     "execution_count": 8,
     "metadata": {},
     "output_type": "execute_result"
    }
   ],
   "source": [
    "#=======================================================================================\n",
    "# Discovering the numerical data distribution :\n",
    "#=======================================================================================\n",
    "\n",
    "train_data.describe()"
   ]
  },
  {
   "cell_type": "markdown",
   "id": "b0fc809c",
   "metadata": {
    "papermill": {
     "duration": 0.020746,
     "end_time": "2022-10-24T02:07:25.618162",
     "exception": false,
     "start_time": "2022-10-24T02:07:25.597416",
     "status": "completed"
    },
    "tags": []
   },
   "source": [
    "#### Numerical data distribution discovering results:\n",
    "  - The survival rate for this data is 38.3%.\n",
    "  - More than 75% of the passengers are below 38 years old.\n",
    "  - There are too few old passengers.\n",
    "  - Most passengers travel alone.\n",
    "  - There are a few outliers in the Fare feature.\n",
    "\n",
    "**insights:**  \n",
    "  - Age feature has right skewness, So if we are going to fill missing values we will not use the average.\n",
    "  - There are outliers in Fare, Age, SibSp and Parch features. This inspire us for EDA Step."
   ]
  },
  {
   "cell_type": "code",
   "execution_count": 9,
   "id": "a1648c65",
   "metadata": {
    "execution": {
     "iopub.execute_input": "2022-10-24T02:07:25.664967Z",
     "iopub.status.busy": "2022-10-24T02:07:25.663555Z",
     "iopub.status.idle": "2022-10-24T02:07:25.689174Z",
     "shell.execute_reply": "2022-10-24T02:07:25.688003Z"
    },
    "papermill": {
     "duration": 0.051783,
     "end_time": "2022-10-24T02:07:25.691736",
     "exception": false,
     "start_time": "2022-10-24T02:07:25.639953",
     "status": "completed"
    },
    "tags": []
   },
   "outputs": [
    {
     "data": {
      "text/html": [
       "<div>\n",
       "<style scoped>\n",
       "    .dataframe tbody tr th:only-of-type {\n",
       "        vertical-align: middle;\n",
       "    }\n",
       "\n",
       "    .dataframe tbody tr th {\n",
       "        vertical-align: top;\n",
       "    }\n",
       "\n",
       "    .dataframe thead th {\n",
       "        text-align: right;\n",
       "    }\n",
       "</style>\n",
       "<table border=\"1\" class=\"dataframe\">\n",
       "  <thead>\n",
       "    <tr style=\"text-align: right;\">\n",
       "      <th></th>\n",
       "      <th>Name</th>\n",
       "      <th>Sex</th>\n",
       "      <th>Ticket</th>\n",
       "      <th>Cabin</th>\n",
       "      <th>Embarked</th>\n",
       "    </tr>\n",
       "  </thead>\n",
       "  <tbody>\n",
       "    <tr>\n",
       "      <th>count</th>\n",
       "      <td>891</td>\n",
       "      <td>891</td>\n",
       "      <td>891</td>\n",
       "      <td>204</td>\n",
       "      <td>889</td>\n",
       "    </tr>\n",
       "    <tr>\n",
       "      <th>unique</th>\n",
       "      <td>891</td>\n",
       "      <td>2</td>\n",
       "      <td>681</td>\n",
       "      <td>147</td>\n",
       "      <td>3</td>\n",
       "    </tr>\n",
       "    <tr>\n",
       "      <th>top</th>\n",
       "      <td>Braund, Mr. Owen Harris</td>\n",
       "      <td>male</td>\n",
       "      <td>347082</td>\n",
       "      <td>B96 B98</td>\n",
       "      <td>S</td>\n",
       "    </tr>\n",
       "    <tr>\n",
       "      <th>freq</th>\n",
       "      <td>1</td>\n",
       "      <td>577</td>\n",
       "      <td>7</td>\n",
       "      <td>4</td>\n",
       "      <td>644</td>\n",
       "    </tr>\n",
       "  </tbody>\n",
       "</table>\n",
       "</div>"
      ],
      "text/plain": [
       "                           Name   Sex  Ticket    Cabin Embarked\n",
       "count                       891   891     891      204      889\n",
       "unique                      891     2     681      147        3\n",
       "top     Braund, Mr. Owen Harris  male  347082  B96 B98        S\n",
       "freq                          1   577       7        4      644"
      ]
     },
     "execution_count": 9,
     "metadata": {},
     "output_type": "execute_result"
    }
   ],
   "source": [
    "#=======================================================================================\n",
    "# Discovering the categorical data distribution :\n",
    "#=======================================================================================\n",
    "\n",
    "train_data.describe(include=['O'])"
   ]
  },
  {
   "cell_type": "markdown",
   "id": "085f0c50",
   "metadata": {
    "papermill": {
     "duration": 0.022019,
     "end_time": "2022-10-24T02:07:25.735904",
     "exception": false,
     "start_time": "2022-10-24T02:07:25.713885",
     "status": "completed"
    },
    "tags": []
   },
   "source": [
    "#### Categorical data distribution discovering results:\n",
    " - There are no duplicated names.\n",
    " - 64.7% of the passengers are males\n",
    " - There are duplicated values in the Ticket feature (23.5% are duplicated).\n",
    " - There are duplicated values in the Cabin feature (27.9% are duplicated).\n",
    " - 72.4% of the passengers used \"S\" Embarked.\n",
    "\n",
    "**insights:**\n",
    " - Names uniqueness gives us unsight for Data Engineering Step.\n",
    " - Duplicate values in Ticket and Cabin features give us insights to make the right decision when filling missed values.\n",
    " - we will fill missed Embarked values with 'S' type."
   ]
  },
  {
   "cell_type": "markdown",
   "id": "8e8c7cf4",
   "metadata": {
    "papermill": {
     "duration": 0.021604,
     "end_time": "2022-10-24T02:07:25.778397",
     "exception": false,
     "start_time": "2022-10-24T02:07:25.756793",
     "status": "completed"
    },
    "tags": []
   },
   "source": [
    "<div style=\"color:#00ADB5;\n",
    "           display:fill;\n",
    "           border-radius:5px;\n",
    "           background-color:#393E46;\n",
    "           font-size:20px;\n",
    "           font-family:sans-serif;\n",
    "           letter-spacing:0.5px\">\n",
    "        <p style=\"padding: 10px;\n",
    "              color:white;\">\n",
    "            <b> 3 ) Exploratory Data Analysis (EDA):</b>\n",
    "        </p>\n",
    "</div>\n",
    "\n"
   ]
  },
  {
   "cell_type": "code",
   "execution_count": 10,
   "id": "9e2d906a",
   "metadata": {
    "execution": {
     "iopub.execute_input": "2022-10-24T02:07:25.822677Z",
     "iopub.status.busy": "2022-10-24T02:07:25.822189Z",
     "iopub.status.idle": "2022-10-24T02:07:26.205880Z",
     "shell.execute_reply": "2022-10-24T02:07:26.204523Z"
    },
    "papermill": {
     "duration": 0.409527,
     "end_time": "2022-10-24T02:07:26.209074",
     "exception": false,
     "start_time": "2022-10-24T02:07:25.799547",
     "status": "completed"
    },
    "tags": []
   },
   "outputs": [
    {
     "data": {
      "image/png": "[encoded data removed]",
      "text/plain": [
       "<Figure size 576x288 with 2 Axes>"
      ]
     },
     "metadata": {
      "needs_background": "light"
     },
     "output_type": "display_data"
    }
   ],
   "source": [
    "# ===================================================================\n",
    "# Count of survived\n",
    "# ===================================================================\n",
    "f,ax=plt.subplots(1,2,figsize=(8,4))\n",
    "train_data['Survived'].replace({0:\"died\",1:\"survived\"}).value_counts().plot.pie(explode=[0,0.1],autopct='%1.1f%%',ax=ax[0],shadow=True)\n",
    "ax[0].set_ylabel('')\n",
    "sns.countplot(x = train_data[\"Survived\"].replace({0:\"died\",1:\"survived\"}) , ax = ax[1])\n",
    "ax[1].set_ylabel('')\n",
    "ax[1].set_xlabel('')\n",
    "plt.show()"
   ]
  },
  {
   "cell_type": "markdown",
   "id": "fd26395f",
   "metadata": {
    "papermill": {
     "duration": 0.021919,
     "end_time": "2022-10-24T02:07:26.254696",
     "exception": false,
     "start_time": "2022-10-24T02:07:26.232777",
     "status": "completed"
    },
    "tags": []
   },
   "source": [
    "We saw before that only 338 (38%) of the passengers survived, We need to dig down more to get better insights from the data and see which categories of the passengers did survive and who didn't.\n",
    "\n"
   ]
  },
  {
   "cell_type": "markdown",
   "id": "cd7b81e2",
   "metadata": {
    "papermill": {
     "duration": 0.021779,
     "end_time": "2022-10-24T02:07:26.298040",
     "exception": false,
     "start_time": "2022-10-24T02:07:26.276261",
     "status": "completed"
    },
    "tags": []
   },
   "source": [
    "<div style=\"color:black;\n",
    "           border-radius:0px;\n",
    "           background-color:#00ADB5;\n",
    "           font-size:14px;\n",
    "           font-family:sans-serif;\n",
    "           letter-spacing:0.5px\">\n",
    "        <p style=\"padding: 6px;\n",
    "              color:white;\">\n",
    "            <b>Discovering the features correlation with Survived:</b>\n",
    "        </p>\n",
    "</div>\n"
   ]
  },
  {
   "cell_type": "code",
   "execution_count": 11,
   "id": "696e7aed",
   "metadata": {
    "execution": {
     "iopub.execute_input": "2022-10-24T02:07:26.343100Z",
     "iopub.status.busy": "2022-10-24T02:07:26.342529Z",
     "iopub.status.idle": "2022-10-24T02:07:26.351720Z",
     "shell.execute_reply": "2022-10-24T02:07:26.350709Z"
    },
    "papermill": {
     "duration": 0.034555,
     "end_time": "2022-10-24T02:07:26.354254",
     "exception": false,
     "start_time": "2022-10-24T02:07:26.319699",
     "status": "completed"
    },
    "tags": []
   },
   "outputs": [],
   "source": [
    "# Helper functions:\n",
    "def survived_bar_plot(feature):\n",
    "    plt.figure(figsize = (6,4))\n",
    "    sns.barplot(data = train_data , x = feature , y = \"Survived\").set_title(f\"{feature} Vs Survived\")\n",
    "    plt.show()\n",
    "def survived_table(feature):\n",
    "    return train_data[[feature, \"Survived\"]].groupby([feature], as_index=False).mean().sort_values(by='Survived', ascending=False).style.background_gradient(low=0.75,high=1)\n",
    "def survived_hist_plot(feature):\n",
    "    plt.figure(figsize = (6,4))\n",
    "    sns.histplot(data = train_data , x = feature , hue = \"Survived\",binwidth=5,palette = sns.color_palette([\"yellow\" , \"green\"]) ,multiple = \"stack\" ).set_title(f\"{feature} Vs Survived\")\n",
    "    plt.show()"
   ]
  },
  {
   "cell_type": "markdown",
   "id": "c6175aae",
   "metadata": {
    "papermill": {
     "duration": 0.021873,
     "end_time": "2022-10-24T02:07:26.398146",
     "exception": false,
     "start_time": "2022-10-24T02:07:26.376273",
     "status": "completed"
    },
    "tags": []
   },
   "source": [
    "#### Sex Vs Survived:"
   ]
  },
  {
   "cell_type": "code",
   "execution_count": 12,
   "id": "ebcd8410",
   "metadata": {
    "execution": {
     "iopub.execute_input": "2022-10-24T02:07:26.443881Z",
     "iopub.status.busy": "2022-10-24T02:07:26.442616Z",
     "iopub.status.idle": "2022-10-24T02:07:26.699088Z",
     "shell.execute_reply": "2022-10-24T02:07:26.698166Z"
    },
    "papermill": {
     "duration": 0.281828,
     "end_time": "2022-10-24T02:07:26.701650",
     "exception": false,
     "start_time": "2022-10-24T02:07:26.419822",
     "status": "completed"
    },
    "tags": []
   },
   "outputs": [
    {
     "data": {
      "image/png": "[encoded data removed]",
      "text/plain": [
       "<Figure size 432x288 with 1 Axes>"
      ]
     },
     "metadata": {
      "needs_background": "light"
     },
     "output_type": "display_data"
    }
   ],
   "source": [
    "survived_bar_plot('Sex')"
   ]
  },
  {
   "cell_type": "code",
   "execution_count": 13,
   "id": "ad6fb9ec",
   "metadata": {
    "execution": {
     "iopub.execute_input": "2022-10-24T02:07:26.749040Z",
     "iopub.status.busy": "2022-10-24T02:07:26.747804Z",
     "iopub.status.idle": "2022-10-24T02:07:26.826239Z",
     "shell.execute_reply": "2022-10-24T02:07:26.824859Z"
    },
    "papermill": {
     "duration": 0.105034,
     "end_time": "2022-10-24T02:07:26.828863",
     "exception": false,
     "start_time": "2022-10-24T02:07:26.723829",
     "status": "completed"
    },
    "tags": []
   },
   "outputs": [
    {
     "data": {
      "text/html": [
       "<style type=\"text/css\">\n",
       "#T_5e1f7_row0_col1 {\n",
       "  background-color: #328dbf;\n",
       "  color: #f1f1f1;\n",
       "}\n",
       "#T_5e1f7_row1_col1 {\n",
       "  background-color: #c9cee4;\n",
       "  color: #000000;\n",
       "}\n",
       "</style>\n",
       "<table id=\"T_5e1f7_\">\n",
       "  <thead>\n",
       "    <tr>\n",
       "      <th class=\"blank level0\" >&nbsp;</th>\n",
       "      <th class=\"col_heading level0 col0\" >Sex</th>\n",
       "      <th class=\"col_heading level0 col1\" >Survived</th>\n",
       "    </tr>\n",
       "  </thead>\n",
       "  <tbody>\n",
       "    <tr>\n",
       "      <th id=\"T_5e1f7_level0_row0\" class=\"row_heading level0 row0\" >0</th>\n",
       "      <td id=\"T_5e1f7_row0_col0\" class=\"data row0 col0\" >female</td>\n",
       "      <td id=\"T_5e1f7_row0_col1\" class=\"data row0 col1\" >0.742038</td>\n",
       "    </tr>\n",
       "    <tr>\n",
       "      <th id=\"T_5e1f7_level0_row1\" class=\"row_heading level0 row1\" >1</th>\n",
       "      <td id=\"T_5e1f7_row1_col0\" class=\"data row1 col0\" >male</td>\n",
       "      <td id=\"T_5e1f7_row1_col1\" class=\"data row1 col1\" >0.188908</td>\n",
       "    </tr>\n",
       "  </tbody>\n",
       "</table>\n"
      ],
      "text/plain": [
       "<pandas.io.formats.style.Styler at 0x7f85797b9850>"
      ]
     },
     "execution_count": 13,
     "metadata": {},
     "output_type": "execute_result"
    }
   ],
   "source": [
    "survived_table(\"Sex\")"
   ]
  },
  {
   "cell_type": "markdown",
   "id": "d2feeb08",
   "metadata": {
    "papermill": {
     "duration": 0.02266,
     "end_time": "2022-10-24T02:07:26.873390",
     "exception": false,
     "start_time": "2022-10-24T02:07:26.850730",
     "status": "completed"
    },
    "tags": []
   },
   "source": [
    "Females have higher Survival rate (74%)"
   ]
  },
  {
   "cell_type": "markdown",
   "id": "2c12e1d2",
   "metadata": {
    "papermill": {
     "duration": 0.02139,
     "end_time": "2022-10-24T02:07:26.916597",
     "exception": false,
     "start_time": "2022-10-24T02:07:26.895207",
     "status": "completed"
    },
    "tags": []
   },
   "source": [
    "#### Pclass Vs Survived:"
   ]
  },
  {
   "cell_type": "code",
   "execution_count": 14,
   "id": "2762060d",
   "metadata": {
    "execution": {
     "iopub.execute_input": "2022-10-24T02:07:26.963010Z",
     "iopub.status.busy": "2022-10-24T02:07:26.962165Z",
     "iopub.status.idle": "2022-10-24T02:07:27.248780Z",
     "shell.execute_reply": "2022-10-24T02:07:27.247536Z"
    },
    "papermill": {
     "duration": 0.313067,
     "end_time": "2022-10-24T02:07:27.251492",
     "exception": false,
     "start_time": "2022-10-24T02:07:26.938425",
     "status": "completed"
    },
    "tags": []
   },
   "outputs": [
    {
     "data": {
      "image/png": "[encoded data removed]",
      "text/plain": [
       "<Figure size 432x288 with 1 Axes>"
      ]
     },
     "metadata": {
      "needs_background": "light"
     },
     "output_type": "display_data"
    }
   ],
   "source": [
    "survived_bar_plot(\"Pclass\")"
   ]
  },
  {
   "cell_type": "code",
   "execution_count": 15,
   "id": "fe96bb4c",
   "metadata": {
    "execution": {
     "iopub.execute_input": "2022-10-24T02:07:27.298936Z",
     "iopub.status.busy": "2022-10-24T02:07:27.297718Z",
     "iopub.status.idle": "2022-10-24T02:07:27.316129Z",
     "shell.execute_reply": "2022-10-24T02:07:27.314955Z"
    },
    "papermill": {
     "duration": 0.044974,
     "end_time": "2022-10-24T02:07:27.318519",
     "exception": false,
     "start_time": "2022-10-24T02:07:27.273545",
     "status": "completed"
    },
    "tags": []
   },
   "outputs": [
    {
     "data": {
      "text/html": [
       "<style type=\"text/css\">\n",
       "#T_14dd7_row0_col0, #T_14dd7_row2_col1 {\n",
       "  background-color: #c9cee4;\n",
       "  color: #000000;\n",
       "}\n",
       "#T_14dd7_row0_col1, #T_14dd7_row2_col0 {\n",
       "  background-color: #328dbf;\n",
       "  color: #f1f1f1;\n",
       "}\n",
       "#T_14dd7_row1_col0 {\n",
       "  background-color: #86b0d3;\n",
       "  color: #000000;\n",
       "}\n",
       "#T_14dd7_row1_col1 {\n",
       "  background-color: #78abd0;\n",
       "  color: #f1f1f1;\n",
       "}\n",
       "</style>\n",
       "<table id=\"T_14dd7_\">\n",
       "  <thead>\n",
       "    <tr>\n",
       "      <th class=\"blank level0\" >&nbsp;</th>\n",
       "      <th class=\"col_heading level0 col0\" >Pclass</th>\n",
       "      <th class=\"col_heading level0 col1\" >Survived</th>\n",
       "    </tr>\n",
       "  </thead>\n",
       "  <tbody>\n",
       "    <tr>\n",
       "      <th id=\"T_14dd7_level0_row0\" class=\"row_heading level0 row0\" >0</th>\n",
       "      <td id=\"T_14dd7_row0_col0\" class=\"data row0 col0\" >1</td>\n",
       "      <td id=\"T_14dd7_row0_col1\" class=\"data row0 col1\" >0.629630</td>\n",
       "    </tr>\n",
       "    <tr>\n",
       "      <th id=\"T_14dd7_level0_row1\" class=\"row_heading level0 row1\" >1</th>\n",
       "      <td id=\"T_14dd7_row1_col0\" class=\"data row1 col0\" >2</td>\n",
       "      <td id=\"T_14dd7_row1_col1\" class=\"data row1 col1\" >0.472826</td>\n",
       "    </tr>\n",
       "    <tr>\n",
       "      <th id=\"T_14dd7_level0_row2\" class=\"row_heading level0 row2\" >2</th>\n",
       "      <td id=\"T_14dd7_row2_col0\" class=\"data row2 col0\" >3</td>\n",
       "      <td id=\"T_14dd7_row2_col1\" class=\"data row2 col1\" >0.242363</td>\n",
       "    </tr>\n",
       "  </tbody>\n",
       "</table>\n"
      ],
      "text/plain": [
       "<pandas.io.formats.style.Styler at 0x7f857bafcad0>"
      ]
     },
     "execution_count": 15,
     "metadata": {},
     "output_type": "execute_result"
    }
   ],
   "source": [
    "survived_table(\"Pclass\")"
   ]
  },
  {
   "cell_type": "markdown",
   "id": "cee6c05a",
   "metadata": {
    "papermill": {
     "duration": 0.023013,
     "end_time": "2022-10-24T02:07:27.365050",
     "exception": false,
     "start_time": "2022-10-24T02:07:27.342037",
     "status": "completed"
    },
    "tags": []
   },
   "source": [
    "First Pclass passengers are more likely to survive then Seconde Pclass then Third."
   ]
  },
  {
   "cell_type": "markdown",
   "id": "6bfa0414",
   "metadata": {
    "papermill": {
     "duration": 0.022381,
     "end_time": "2022-10-24T02:07:27.409599",
     "exception": false,
     "start_time": "2022-10-24T02:07:27.387218",
     "status": "completed"
    },
    "tags": []
   },
   "source": [
    "#### Embarked:"
   ]
  },
  {
   "cell_type": "code",
   "execution_count": 16,
   "id": "93ea7538",
   "metadata": {
    "execution": {
     "iopub.execute_input": "2022-10-24T02:07:27.458552Z",
     "iopub.status.busy": "2022-10-24T02:07:27.457881Z",
     "iopub.status.idle": "2022-10-24T02:07:27.738292Z",
     "shell.execute_reply": "2022-10-24T02:07:27.736886Z"
    },
    "papermill": {
     "duration": 0.30702,
     "end_time": "2022-10-24T02:07:27.741010",
     "exception": false,
     "start_time": "2022-10-24T02:07:27.433990",
     "status": "completed"
    },
    "tags": []
   },
   "outputs": [
    {
     "data": {
      "image/png": "[encoded data removed]",
      "text/plain": [
       "<Figure size 432x288 with 1 Axes>"
      ]
     },
     "metadata": {
      "needs_background": "light"
     },
     "output_type": "display_data"
    }
   ],
   "source": [
    "survived_bar_plot(\"Embarked\")"
   ]
  },
  {
   "cell_type": "code",
   "execution_count": 17,
   "id": "647918e2",
   "metadata": {
    "execution": {
     "iopub.execute_input": "2022-10-24T02:07:27.789027Z",
     "iopub.status.busy": "2022-10-24T02:07:27.788617Z",
     "iopub.status.idle": "2022-10-24T02:07:27.807054Z",
     "shell.execute_reply": "2022-10-24T02:07:27.805700Z"
    },
    "papermill": {
     "duration": 0.04584,
     "end_time": "2022-10-24T02:07:27.809794",
     "exception": false,
     "start_time": "2022-10-24T02:07:27.763954",
     "status": "completed"
    },
    "tags": []
   },
   "outputs": [
    {
     "data": {
      "text/html": [
       "<style type=\"text/css\">\n",
       "#T_00c6a_row0_col1 {\n",
       "  background-color: #328dbf;\n",
       "  color: #f1f1f1;\n",
       "}\n",
       "#T_00c6a_row1_col1 {\n",
       "  background-color: #abbfdc;\n",
       "  color: #000000;\n",
       "}\n",
       "#T_00c6a_row2_col1 {\n",
       "  background-color: #c9cee4;\n",
       "  color: #000000;\n",
       "}\n",
       "</style>\n",
       "<table id=\"T_00c6a_\">\n",
       "  <thead>\n",
       "    <tr>\n",
       "      <th class=\"blank level0\" >&nbsp;</th>\n",
       "      <th class=\"col_heading level0 col0\" >Embarked</th>\n",
       "      <th class=\"col_heading level0 col1\" >Survived</th>\n",
       "    </tr>\n",
       "  </thead>\n",
       "  <tbody>\n",
       "    <tr>\n",
       "      <th id=\"T_00c6a_level0_row0\" class=\"row_heading level0 row0\" >0</th>\n",
       "      <td id=\"T_00c6a_row0_col0\" class=\"data row0 col0\" >C</td>\n",
       "      <td id=\"T_00c6a_row0_col1\" class=\"data row0 col1\" >0.553571</td>\n",
       "    </tr>\n",
       "    <tr>\n",
       "      <th id=\"T_00c6a_level0_row1\" class=\"row_heading level0 row1\" >1</th>\n",
       "      <td id=\"T_00c6a_row1_col0\" class=\"data row1 col0\" >Q</td>\n",
       "      <td id=\"T_00c6a_row1_col1\" class=\"data row1 col1\" >0.389610</td>\n",
       "    </tr>\n",
       "    <tr>\n",
       "      <th id=\"T_00c6a_level0_row2\" class=\"row_heading level0 row2\" >2</th>\n",
       "      <td id=\"T_00c6a_row2_col0\" class=\"data row2 col0\" >S</td>\n",
       "      <td id=\"T_00c6a_row2_col1\" class=\"data row2 col1\" >0.336957</td>\n",
       "    </tr>\n",
       "  </tbody>\n",
       "</table>\n"
      ],
      "text/plain": [
       "<pandas.io.formats.style.Styler at 0x7f8579751a10>"
      ]
     },
     "execution_count": 17,
     "metadata": {},
     "output_type": "execute_result"
    }
   ],
   "source": [
    "survived_table(\"Embarked\")"
   ]
  },
  {
   "cell_type": "markdown",
   "id": "aa1e0cbc",
   "metadata": {
    "papermill": {
     "duration": 0.023263,
     "end_time": "2022-10-24T02:07:27.856608",
     "exception": false,
     "start_time": "2022-10-24T02:07:27.833345",
     "status": "completed"
    },
    "tags": []
   },
   "source": [
    "Passengers who used C Embarked are most likely to survive, Then Q, Then S. (This reasong maybe undirect, I thinks that most of 1 Pclass passengers used C Embarked)"
   ]
  },
  {
   "cell_type": "markdown",
   "id": "fad7605e",
   "metadata": {
    "papermill": {
     "duration": 0.022556,
     "end_time": "2022-10-24T02:07:27.903076",
     "exception": false,
     "start_time": "2022-10-24T02:07:27.880520",
     "status": "completed"
    },
    "tags": []
   },
   "source": [
    "#### Parch:"
   ]
  },
  {
   "cell_type": "code",
   "execution_count": 18,
   "id": "ac6e26af",
   "metadata": {
    "execution": {
     "iopub.execute_input": "2022-10-24T02:07:27.951841Z",
     "iopub.status.busy": "2022-10-24T02:07:27.951401Z",
     "iopub.status.idle": "2022-10-24T02:07:28.320711Z",
     "shell.execute_reply": "2022-10-24T02:07:28.319250Z"
    },
    "papermill": {
     "duration": 0.396743,
     "end_time": "2022-10-24T02:07:28.323382",
     "exception": false,
     "start_time": "2022-10-24T02:07:27.926639",
     "status": "completed"
    },
    "tags": []
   },
   "outputs": [
    {
     "data": {
      "image/png": "[encoded data removed]",
      "text/plain": [
       "<Figure size 432x288 with 1 Axes>"
      ]
     },
     "metadata": {
      "needs_background": "light"
     },
     "output_type": "display_data"
    }
   ],
   "source": [
    "survived_bar_plot(\"Parch\")"
   ]
  },
  {
   "cell_type": "code",
   "execution_count": 19,
   "id": "2afeb8e4",
   "metadata": {
    "execution": {
     "iopub.execute_input": "2022-10-24T02:07:28.373618Z",
     "iopub.status.busy": "2022-10-24T02:07:28.373148Z",
     "iopub.status.idle": "2022-10-24T02:07:28.393319Z",
     "shell.execute_reply": "2022-10-24T02:07:28.392391Z"
    },
    "papermill": {
     "duration": 0.048483,
     "end_time": "2022-10-24T02:07:28.395569",
     "exception": false,
     "start_time": "2022-10-24T02:07:28.347086",
     "status": "completed"
    },
    "tags": []
   },
   "outputs": [
    {
     "data": {
      "text/html": [
       "<style type=\"text/css\">\n",
       "#T_9f275_row0_col0 {\n",
       "  background-color: #86b0d3;\n",
       "  color: #000000;\n",
       "}\n",
       "#T_9f275_row0_col1, #T_9f275_row6_col0 {\n",
       "  background-color: #328dbf;\n",
       "  color: #f1f1f1;\n",
       "}\n",
       "#T_9f275_row1_col0 {\n",
       "  background-color: #b4c4df;\n",
       "  color: #000000;\n",
       "}\n",
       "#T_9f275_row1_col1 {\n",
       "  background-color: #3f93c2;\n",
       "  color: #f1f1f1;\n",
       "}\n",
       "#T_9f275_row2_col0, #T_9f275_row4_col1 {\n",
       "  background-color: #9fbad9;\n",
       "  color: #000000;\n",
       "}\n",
       "#T_9f275_row2_col1, #T_9f275_row4_col0 {\n",
       "  background-color: #4e9ac6;\n",
       "  color: #f1f1f1;\n",
       "}\n",
       "#T_9f275_row3_col0, #T_9f275_row5_col1, #T_9f275_row6_col1 {\n",
       "  background-color: #c9cee4;\n",
       "  color: #000000;\n",
       "}\n",
       "#T_9f275_row3_col1 {\n",
       "  background-color: #7bacd1;\n",
       "  color: #f1f1f1;\n",
       "}\n",
       "#T_9f275_row5_col0 {\n",
       "  background-color: #6da6cd;\n",
       "  color: #f1f1f1;\n",
       "}\n",
       "</style>\n",
       "<table id=\"T_9f275_\">\n",
       "  <thead>\n",
       "    <tr>\n",
       "      <th class=\"blank level0\" >&nbsp;</th>\n",
       "      <th class=\"col_heading level0 col0\" >Parch</th>\n",
       "      <th class=\"col_heading level0 col1\" >Survived</th>\n",
       "    </tr>\n",
       "  </thead>\n",
       "  <tbody>\n",
       "    <tr>\n",
       "      <th id=\"T_9f275_level0_row0\" class=\"row_heading level0 row0\" >3</th>\n",
       "      <td id=\"T_9f275_row0_col0\" class=\"data row0 col0\" >3</td>\n",
       "      <td id=\"T_9f275_row0_col1\" class=\"data row0 col1\" >0.600000</td>\n",
       "    </tr>\n",
       "    <tr>\n",
       "      <th id=\"T_9f275_level0_row1\" class=\"row_heading level0 row1\" >1</th>\n",
       "      <td id=\"T_9f275_row1_col0\" class=\"data row1 col0\" >1</td>\n",
       "      <td id=\"T_9f275_row1_col1\" class=\"data row1 col1\" >0.550847</td>\n",
       "    </tr>\n",
       "    <tr>\n",
       "      <th id=\"T_9f275_level0_row2\" class=\"row_heading level0 row2\" >2</th>\n",
       "      <td id=\"T_9f275_row2_col0\" class=\"data row2 col0\" >2</td>\n",
       "      <td id=\"T_9f275_row2_col1\" class=\"data row2 col1\" >0.500000</td>\n",
       "    </tr>\n",
       "    <tr>\n",
       "      <th id=\"T_9f275_level0_row3\" class=\"row_heading level0 row3\" >0</th>\n",
       "      <td id=\"T_9f275_row3_col0\" class=\"data row3 col0\" >0</td>\n",
       "      <td id=\"T_9f275_row3_col1\" class=\"data row3 col1\" >0.343658</td>\n",
       "    </tr>\n",
       "    <tr>\n",
       "      <th id=\"T_9f275_level0_row4\" class=\"row_heading level0 row4\" >5</th>\n",
       "      <td id=\"T_9f275_row4_col0\" class=\"data row4 col0\" >5</td>\n",
       "      <td id=\"T_9f275_row4_col1\" class=\"data row4 col1\" >0.200000</td>\n",
       "    </tr>\n",
       "    <tr>\n",
       "      <th id=\"T_9f275_level0_row5\" class=\"row_heading level0 row5\" >4</th>\n",
       "      <td id=\"T_9f275_row5_col0\" class=\"data row5 col0\" >4</td>\n",
       "      <td id=\"T_9f275_row5_col1\" class=\"data row5 col1\" >0.000000</td>\n",
       "    </tr>\n",
       "    <tr>\n",
       "      <th id=\"T_9f275_level0_row6\" class=\"row_heading level0 row6\" >6</th>\n",
       "      <td id=\"T_9f275_row6_col0\" class=\"data row6 col0\" >6</td>\n",
       "      <td id=\"T_9f275_row6_col1\" class=\"data row6 col1\" >0.000000</td>\n",
       "    </tr>\n",
       "  </tbody>\n",
       "</table>\n"
      ],
      "text/plain": [
       "<pandas.io.formats.style.Styler at 0x7f8579550bd0>"
      ]
     },
     "execution_count": 19,
     "metadata": {},
     "output_type": "execute_result"
    }
   ],
   "source": [
    "survived_table(\"Parch\")"
   ]
  },
  {
   "cell_type": "markdown",
   "id": "6bbb4043",
   "metadata": {
    "papermill": {
     "duration": 0.023386,
     "end_time": "2022-10-24T02:07:28.442695",
     "exception": false,
     "start_time": "2022-10-24T02:07:28.419309",
     "status": "completed"
    },
    "tags": []
   },
   "source": [
    "Parch feature has zero correlation for some values, Maybe we can use it to derive more useful feature."
   ]
  },
  {
   "cell_type": "markdown",
   "id": "db8c9ece",
   "metadata": {
    "papermill": {
     "duration": 0.024272,
     "end_time": "2022-10-24T02:07:28.493873",
     "exception": false,
     "start_time": "2022-10-24T02:07:28.469601",
     "status": "completed"
    },
    "tags": []
   },
   "source": [
    "#### SibSp:"
   ]
  },
  {
   "cell_type": "code",
   "execution_count": 20,
   "id": "1e5dbe0f",
   "metadata": {
    "execution": {
     "iopub.execute_input": "2022-10-24T02:07:28.547171Z",
     "iopub.status.busy": "2022-10-24T02:07:28.546292Z",
     "iopub.status.idle": "2022-10-24T02:07:28.567132Z",
     "shell.execute_reply": "2022-10-24T02:07:28.565780Z"
    },
    "papermill": {
     "duration": 0.049467,
     "end_time": "2022-10-24T02:07:28.570167",
     "exception": false,
     "start_time": "2022-10-24T02:07:28.520700",
     "status": "completed"
    },
    "tags": []
   },
   "outputs": [
    {
     "data": {
      "text/html": [
       "<style type=\"text/css\">\n",
       "#T_7dd53_row0_col0 {\n",
       "  background-color: #b9c6e0;\n",
       "  color: #000000;\n",
       "}\n",
       "#T_7dd53_row0_col1, #T_7dd53_row6_col0 {\n",
       "  background-color: #328dbf;\n",
       "  color: #f1f1f1;\n",
       "}\n",
       "#T_7dd53_row1_col0 {\n",
       "  background-color: #a9bfdc;\n",
       "  color: #000000;\n",
       "}\n",
       "#T_7dd53_row1_col1 {\n",
       "  background-color: #4897c4;\n",
       "  color: #f1f1f1;\n",
       "}\n",
       "#T_7dd53_row2_col0, #T_7dd53_row5_col1, #T_7dd53_row6_col1 {\n",
       "  background-color: #c9cee4;\n",
       "  color: #000000;\n",
       "}\n",
       "#T_7dd53_row2_col1 {\n",
       "  background-color: #71a8ce;\n",
       "  color: #f1f1f1;\n",
       "}\n",
       "#T_7dd53_row3_col0 {\n",
       "  background-color: #99b8d8;\n",
       "  color: #000000;\n",
       "}\n",
       "#T_7dd53_row3_col1 {\n",
       "  background-color: #8bb2d4;\n",
       "  color: #000000;\n",
       "}\n",
       "#T_7dd53_row4_col0 {\n",
       "  background-color: #86b0d3;\n",
       "  color: #000000;\n",
       "}\n",
       "#T_7dd53_row4_col1 {\n",
       "  background-color: #a2bcda;\n",
       "  color: #000000;\n",
       "}\n",
       "#T_7dd53_row5_col0 {\n",
       "  background-color: #73a9cf;\n",
       "  color: #f1f1f1;\n",
       "}\n",
       "</style>\n",
       "<table id=\"T_7dd53_\">\n",
       "  <thead>\n",
       "    <tr>\n",
       "      <th class=\"blank level0\" >&nbsp;</th>\n",
       "      <th class=\"col_heading level0 col0\" >SibSp</th>\n",
       "      <th class=\"col_heading level0 col1\" >Survived</th>\n",
       "    </tr>\n",
       "  </thead>\n",
       "  <tbody>\n",
       "    <tr>\n",
       "      <th id=\"T_7dd53_level0_row0\" class=\"row_heading level0 row0\" >1</th>\n",
       "      <td id=\"T_7dd53_row0_col0\" class=\"data row0 col0\" >1</td>\n",
       "      <td id=\"T_7dd53_row0_col1\" class=\"data row0 col1\" >0.535885</td>\n",
       "    </tr>\n",
       "    <tr>\n",
       "      <th id=\"T_7dd53_level0_row1\" class=\"row_heading level0 row1\" >2</th>\n",
       "      <td id=\"T_7dd53_row1_col0\" class=\"data row1 col0\" >2</td>\n",
       "      <td id=\"T_7dd53_row1_col1\" class=\"data row1 col1\" >0.464286</td>\n",
       "    </tr>\n",
       "    <tr>\n",
       "      <th id=\"T_7dd53_level0_row2\" class=\"row_heading level0 row2\" >0</th>\n",
       "      <td id=\"T_7dd53_row2_col0\" class=\"data row2 col0\" >0</td>\n",
       "      <td id=\"T_7dd53_row2_col1\" class=\"data row2 col1\" >0.345395</td>\n",
       "    </tr>\n",
       "    <tr>\n",
       "      <th id=\"T_7dd53_level0_row3\" class=\"row_heading level0 row3\" >3</th>\n",
       "      <td id=\"T_7dd53_row3_col0\" class=\"data row3 col0\" >3</td>\n",
       "      <td id=\"T_7dd53_row3_col1\" class=\"data row3 col1\" >0.250000</td>\n",
       "    </tr>\n",
       "    <tr>\n",
       "      <th id=\"T_7dd53_level0_row4\" class=\"row_heading level0 row4\" >4</th>\n",
       "      <td id=\"T_7dd53_row4_col0\" class=\"data row4 col0\" >4</td>\n",
       "      <td id=\"T_7dd53_row4_col1\" class=\"data row4 col1\" >0.166667</td>\n",
       "    </tr>\n",
       "    <tr>\n",
       "      <th id=\"T_7dd53_level0_row5\" class=\"row_heading level0 row5\" >5</th>\n",
       "      <td id=\"T_7dd53_row5_col0\" class=\"data row5 col0\" >5</td>\n",
       "      <td id=\"T_7dd53_row5_col1\" class=\"data row5 col1\" >0.000000</td>\n",
       "    </tr>\n",
       "    <tr>\n",
       "      <th id=\"T_7dd53_level0_row6\" class=\"row_heading level0 row6\" >6</th>\n",
       "      <td id=\"T_7dd53_row6_col0\" class=\"data row6 col0\" >8</td>\n",
       "      <td id=\"T_7dd53_row6_col1\" class=\"data row6 col1\" >0.000000</td>\n",
       "    </tr>\n",
       "  </tbody>\n",
       "</table>\n"
      ],
      "text/plain": [
       "<pandas.io.formats.style.Styler at 0x7f85795bdf10>"
      ]
     },
     "execution_count": 20,
     "metadata": {},
     "output_type": "execute_result"
    }
   ],
   "source": [
    "survived_table(\"SibSp\")"
   ]
  },
  {
   "cell_type": "code",
   "execution_count": 21,
   "id": "bb1f812b",
   "metadata": {
    "execution": {
     "iopub.execute_input": "2022-10-24T02:07:28.624364Z",
     "iopub.status.busy": "2022-10-24T02:07:28.623476Z",
     "iopub.status.idle": "2022-10-24T02:07:29.026760Z",
     "shell.execute_reply": "2022-10-24T02:07:29.025799Z"
    },
    "papermill": {
     "duration": 0.433615,
     "end_time": "2022-10-24T02:07:29.029372",
     "exception": false,
     "start_time": "2022-10-24T02:07:28.595757",
     "status": "completed"
    },
    "tags": []
   },
   "outputs": [
    {
     "data": {
      "image/png": "[encoded data removed]",
      "text/plain": [
       "<Figure size 432x288 with 1 Axes>"
      ]
     },
     "metadata": {
      "needs_background": "light"
     },
     "output_type": "display_data"
    }
   ],
   "source": [
    "survived_bar_plot(\"SibSp\")"
   ]
  },
  {
   "cell_type": "markdown",
   "id": "6ca74518",
   "metadata": {
    "papermill": {
     "duration": 0.023171,
     "end_time": "2022-10-24T02:07:29.077220",
     "exception": false,
     "start_time": "2022-10-24T02:07:29.054049",
     "status": "completed"
    },
    "tags": []
   },
   "source": [
    "SibSp feature has zero correlation for some values too, Maybe we can use it to derive more useful feature."
   ]
  },
  {
   "cell_type": "markdown",
   "id": "c064524e",
   "metadata": {
    "papermill": {
     "duration": 0.023239,
     "end_time": "2022-10-24T02:07:29.123878",
     "exception": false,
     "start_time": "2022-10-24T02:07:29.100639",
     "status": "completed"
    },
    "tags": []
   },
   "source": [
    "#### Age:"
   ]
  },
  {
   "cell_type": "code",
   "execution_count": 22,
   "id": "8c6c3f08",
   "metadata": {
    "execution": {
     "iopub.execute_input": "2022-10-24T02:07:29.174236Z",
     "iopub.status.busy": "2022-10-24T02:07:29.173804Z",
     "iopub.status.idle": "2022-10-24T02:07:29.502980Z",
     "shell.execute_reply": "2022-10-24T02:07:29.501699Z"
    },
    "papermill": {
     "duration": 0.358226,
     "end_time": "2022-10-24T02:07:29.506122",
     "exception": false,
     "start_time": "2022-10-24T02:07:29.147896",
     "status": "completed"
    },
    "tags": []
   },
   "outputs": [
    {
     "data": {
      "image/png": "[encoded data removed]",
      "text/plain": [
       "<Figure size 432x288 with 1 Axes>"
      ]
     },
     "metadata": {},
     "output_type": "display_data"
    }
   ],
   "source": [
    "sns.set_style(\"dark\") # to remove the grid.\n",
    "survived_hist_plot(\"Age\") # Note: This plot is stack plot."
   ]
  },
  {
   "cell_type": "markdown",
   "id": "682f8933",
   "metadata": {
    "papermill": {
     "duration": 0.024614,
     "end_time": "2022-10-24T02:07:29.555769",
     "exception": false,
     "start_time": "2022-10-24T02:07:29.531155",
     "status": "completed"
    },
    "tags": []
   },
   "source": [
    "- Infants (age<=5) and childrens (between 10 and 15 years old) are most likely to survive.\n",
    "- elder passengers (>75) survived.\n",
    "- most passengers are between 15 and 40 years old.\n",
    "\n",
    "**insights:** It's good to convert the age feature to age band groups of length 5."
   ]
  },
  {
   "cell_type": "markdown",
   "id": "3761fb26",
   "metadata": {
    "papermill": {
     "duration": 0.024684,
     "end_time": "2022-10-24T02:07:29.605571",
     "exception": false,
     "start_time": "2022-10-24T02:07:29.580887",
     "status": "completed"
    },
    "tags": []
   },
   "source": [
    "<div style=\"color:black;\n",
    "           border-radius:0px;\n",
    "           background-color:#00ADB5;\n",
    "           font-size:14px;\n",
    "           font-family:sans-serif;\n",
    "           letter-spacing:0.5px\">\n",
    "        <p style=\"padding: 6px;\n",
    "              color:white;\">\n",
    "            <b>Discovering the correlation between the features:</b>\n",
    "        </p>\n",
    "</div>\n"
   ]
  },
  {
   "cell_type": "code",
   "execution_count": 23,
   "id": "e7d43f70",
   "metadata": {
    "execution": {
     "iopub.execute_input": "2022-10-24T02:07:29.655567Z",
     "iopub.status.busy": "2022-10-24T02:07:29.655065Z",
     "iopub.status.idle": "2022-10-24T02:07:30.146548Z",
     "shell.execute_reply": "2022-10-24T02:07:30.145236Z"
    },
    "papermill": {
     "duration": 0.519414,
     "end_time": "2022-10-24T02:07:30.149043",
     "exception": false,
     "start_time": "2022-10-24T02:07:29.629629",
     "status": "completed"
    },
    "tags": []
   },
   "outputs": [
    {
     "data": {
      "text/plain": [
       "<AxesSubplot:>"
      ]
     },
     "execution_count": 23,
     "metadata": {},
     "output_type": "execute_result"
    },
    {
     "data": {
      "image/png": "[encoded data removed]",
      "text/plain": [
       "<Figure size 720x432 with 2 Axes>"
      ]
     },
     "metadata": {},
     "output_type": "display_data"
    }
   ],
   "source": [
    "#=======================================================================================\n",
    "# Discovering the correlations:\n",
    "#=======================================================================================\n",
    "\n",
    "sns.set(rc = {'figure.figsize':(10,6)})\n",
    "sns.heatmap(train_data.corr(), annot = True, fmt='.2g',cmap= 'YlGnBu')"
   ]
  },
  {
   "cell_type": "markdown",
   "id": "aeb590ac",
   "metadata": {
    "papermill": {
     "duration": 0.024422,
     "end_time": "2022-10-24T02:07:30.198541",
     "exception": false,
     "start_time": "2022-10-24T02:07:30.174119",
     "status": "completed"
    },
    "tags": []
   },
   "source": [
    "- Passenger Id has no correlation with any feature.\n",
    "- PClass has strong negative correlation with age and Fare.\n",
    "- Age has negative correlation with parch and sibsp."
   ]
  },
  {
   "cell_type": "markdown",
   "id": "22252c00",
   "metadata": {
    "papermill": {
     "duration": 0.024634,
     "end_time": "2022-10-24T02:07:30.249464",
     "exception": false,
     "start_time": "2022-10-24T02:07:30.224830",
     "status": "completed"
    },
    "tags": []
   },
   "source": [
    "#### Pclass - Age - Survived:"
   ]
  },
  {
   "cell_type": "code",
   "execution_count": 24,
   "id": "dfce9bd1",
   "metadata": {
    "execution": {
     "iopub.execute_input": "2022-10-24T02:07:30.301578Z",
     "iopub.status.busy": "2022-10-24T02:07:30.301110Z",
     "iopub.status.idle": "2022-10-24T02:07:31.192659Z",
     "shell.execute_reply": "2022-10-24T02:07:31.191145Z"
    },
    "papermill": {
     "duration": 0.920867,
     "end_time": "2022-10-24T02:07:31.195101",
     "exception": false,
     "start_time": "2022-10-24T02:07:30.274234",
     "status": "completed"
    },
    "tags": []
   },
   "outputs": [
    {
     "data": {
      "image/png": "[encoded data removed]",
      "text/plain": [
       "<Figure size 1008x288 with 3 Axes>"
      ]
     },
     "metadata": {},
     "output_type": "display_data"
    }
   ],
   "source": [
    "plot , ax = plt.subplots(1 , 3 , figsize=(14,4))\n",
    "sns.histplot(data = train_data.loc[train_data[\"Pclass\"]==1] , x = \"Age\" , hue = \"Survived\",binwidth=5,ax = ax[0],palette = sns.color_palette([\"yellow\" , \"green\"]),multiple = \"stack\").set_title(\"1-Pclass\")\n",
    "sns.histplot(data = train_data.loc[train_data[\"Pclass\"]==2] , x = \"Age\" , hue = \"Survived\",binwidth=5,ax = ax[1],palette = sns.color_palette([\"yellow\" , \"green\"]),multiple = \"stack\").set_title(\"2-Pclass\")\n",
    "sns.histplot(data = train_data.loc[train_data[\"Pclass\"]==3] , x = \"Age\" , hue = \"Survived\",binwidth=5,ax = ax[2],palette = sns.color_palette([\"yellow\" , \"green\"]),multiple = \"stack\").set_title(\"3-Pclass\")\n",
    "plt.show()"
   ]
  },
  {
   "cell_type": "markdown",
   "id": "a89a0300",
   "metadata": {
    "papermill": {
     "duration": 0.026277,
     "end_time": "2022-10-24T02:07:31.248013",
     "exception": false,
     "start_time": "2022-10-24T02:07:31.221736",
     "status": "completed"
    },
    "tags": []
   },
   "source": [
    "- Pclass=3 had most passengers, Most if them did not survive.\n",
    "- Infant passengers in Pclass=2 and Pclass=3 mostly survived.\n",
    "- Most passengers in Pclass=1 survived."
   ]
  },
  {
   "cell_type": "markdown",
   "id": "d9e702e8",
   "metadata": {
    "papermill": {
     "duration": 0.025258,
     "end_time": "2022-10-24T02:07:31.298820",
     "exception": false,
     "start_time": "2022-10-24T02:07:31.273562",
     "status": "completed"
    },
    "tags": []
   },
   "source": [
    "#### Sex - Age - Survived:"
   ]
  },
  {
   "cell_type": "code",
   "execution_count": 25,
   "id": "a112c5c4",
   "metadata": {
    "execution": {
     "iopub.execute_input": "2022-10-24T02:07:31.354018Z",
     "iopub.status.busy": "2022-10-24T02:07:31.353558Z",
     "iopub.status.idle": "2022-10-24T02:07:32.160758Z",
     "shell.execute_reply": "2022-10-24T02:07:32.159245Z"
    },
    "papermill": {
     "duration": 0.838954,
     "end_time": "2022-10-24T02:07:32.163862",
     "exception": false,
     "start_time": "2022-10-24T02:07:31.324908",
     "status": "completed"
    },
    "tags": []
   },
   "outputs": [
    {
     "data": {
      "text/plain": [
       "Text(0.5, 1.0, 'Females')"
      ]
     },
     "execution_count": 25,
     "metadata": {},
     "output_type": "execute_result"
    },
    {
     "data": {
      "image/png": "[encoded data removed]",
      "text/plain": [
       "<Figure size 1008x216 with 2 Axes>"
      ]
     },
     "metadata": {},
     "output_type": "display_data"
    }
   ],
   "source": [
    "plot , ax = plt.subplots(1 , 2 , figsize=(14,3))\n",
    "sns.histplot(data = train_data.loc[train_data[\"Sex\"]==\"male\"] , x = \"Age\" , hue = \"Survived\",binwidth=5,ax = ax[0],palette = sns.color_palette([\"yellow\" , \"green\"]),multiple = \"stack\").set_title(\"Males\")\n",
    "sns.histplot(data = train_data.loc[train_data[\"Sex\"]==\"female\"] , x = \"Age\" , hue = \"Survived\",binwidth=5,ax = ax[1],palette = sns.color_palette([\"yellow\" , \"green\"]),multiple = \"stack\").set_title(\"Females\")"
   ]
  },
  {
   "cell_type": "markdown",
   "id": "c26899ca",
   "metadata": {
    "papermill": {
     "duration": 0.026442,
     "end_time": "2022-10-24T02:07:32.217320",
     "exception": false,
     "start_time": "2022-10-24T02:07:32.190878",
     "status": "completed"
    },
    "tags": []
   },
   "source": [
    "- as we saw before, Females are most likely to survive.\n",
    "- Elder passengers (>=70) are all males.\n"
   ]
  },
  {
   "cell_type": "markdown",
   "id": "4837edba",
   "metadata": {
    "papermill": {
     "duration": 0.026807,
     "end_time": "2022-10-24T02:07:32.271328",
     "exception": false,
     "start_time": "2022-10-24T02:07:32.244521",
     "status": "completed"
    },
    "tags": []
   },
   "source": [
    "<div style=\"color:#00ADB5;\n",
    "           display:fill;\n",
    "           border-radius:5px;\n",
    "           background-color:#393E46;\n",
    "           font-size:20px;\n",
    "           font-family:sans-serif;\n",
    "           letter-spacing:0.5px\">\n",
    "        <p style=\"padding: 10px;\n",
    "              color:white;\">\n",
    "            <b> 4 ) Wrangling The Data:</b>\n",
    "        </p>\n",
    "</div>\n",
    "\n"
   ]
  },
  {
   "cell_type": "markdown",
   "id": "0a53eff0",
   "metadata": {
    "execution": {
     "iopub.execute_input": "2022-07-23T07:32:14.514297Z",
     "iopub.status.busy": "2022-07-23T07:32:14.513892Z",
     "iopub.status.idle": "2022-07-23T07:32:14.522214Z",
     "shell.execute_reply": "2022-07-23T07:32:14.520489Z",
     "shell.execute_reply.started": "2022-07-23T07:32:14.514264Z"
    },
    "papermill": {
     "duration": 0.025562,
     "end_time": "2022-10-24T02:07:32.323516",
     "exception": false,
     "start_time": "2022-10-24T02:07:32.297954",
     "status": "completed"
    },
    "tags": []
   },
   "source": [
    "<div style=\"color:black;\n",
    "           border-radius:0px;\n",
    "           background-color:#00ADB5;\n",
    "           font-size:14px;\n",
    "           font-family:sans-serif;\n",
    "           letter-spacing:0.5px\">\n",
    "        <p style=\"padding: 6px;\n",
    "              color:white;\">\n",
    "            <b> Drop unuseful features:</b>\n",
    "        </p>\n",
    "</div>\n"
   ]
  },
  {
   "cell_type": "code",
   "execution_count": 26,
   "id": "bd462ff2",
   "metadata": {
    "execution": {
     "iopub.execute_input": "2022-10-24T02:07:32.379930Z",
     "iopub.status.busy": "2022-10-24T02:07:32.379455Z",
     "iopub.status.idle": "2022-10-24T02:07:32.391905Z",
     "shell.execute_reply": "2022-10-24T02:07:32.389792Z"
    },
    "papermill": {
     "duration": 0.046136,
     "end_time": "2022-10-24T02:07:32.395676",
     "exception": false,
     "start_time": "2022-10-24T02:07:32.349540",
     "status": "completed"
    },
    "tags": []
   },
   "outputs": [
    {
     "name": "stdout",
     "output_type": "stream",
     "text": [
      "Dropping features Done !!\n"
     ]
    }
   ],
   "source": [
    "train_data.drop(columns = [\"PassengerId\"] , inplace = True)\n",
    "\n",
    "for dataset in combine:\n",
    "    dataset.drop(columns = [\"Ticket\" , \"Cabin\"] , inplace = True)\n",
    "    \n",
    "print(\"Dropping features Done !!\")"
   ]
  },
  {
   "cell_type": "markdown",
   "id": "b739f8c8",
   "metadata": {
    "papermill": {
     "duration": 0.026786,
     "end_time": "2022-10-24T02:07:32.449470",
     "exception": false,
     "start_time": "2022-10-24T02:07:32.422684",
     "status": "completed"
    },
    "tags": []
   },
   "source": [
    "<div style=\"color:black;\n",
    "           border-radius:0px;\n",
    "           background-color:#00ADB5;\n",
    "           font-size:14px;\n",
    "           font-family:sans-serif;\n",
    "           letter-spacing:0.5px\">\n",
    "        <p style=\"padding: 6px;\n",
    "              color:white;\">\n",
    "            <b>Converting Categorical Features to Numerical and Filling Missed Values:</b>\n",
    "        </p>\n",
    "</div>\n"
   ]
  },
  {
   "cell_type": "markdown",
   "id": "c3bc0b86",
   "metadata": {
    "papermill": {
     "duration": 0.027863,
     "end_time": "2022-10-24T02:07:32.505960",
     "exception": false,
     "start_time": "2022-10-24T02:07:32.478097",
     "status": "completed"
    },
    "tags": []
   },
   "source": [
    "#### Embarked:"
   ]
  },
  {
   "cell_type": "code",
   "execution_count": 27,
   "id": "d752f805",
   "metadata": {
    "execution": {
     "iopub.execute_input": "2022-10-24T02:07:32.563639Z",
     "iopub.status.busy": "2022-10-24T02:07:32.563215Z",
     "iopub.status.idle": "2022-10-24T02:07:32.575927Z",
     "shell.execute_reply": "2022-10-24T02:07:32.574657Z"
    },
    "papermill": {
     "duration": 0.044098,
     "end_time": "2022-10-24T02:07:32.578182",
     "exception": false,
     "start_time": "2022-10-24T02:07:32.534084",
     "status": "completed"
    },
    "tags": []
   },
   "outputs": [],
   "source": [
    "train_data.Embarked.fillna(train_data.Embarked.dropna().max(), inplace=True)\n",
    "for dataset in combine:\n",
    "    dataset['Embarked'] = dataset['Embarked'].dropna().map({'S':0,'C':1,'Q':2}).astype(int)"
   ]
  },
  {
   "cell_type": "markdown",
   "id": "38ff1feb",
   "metadata": {
    "papermill": {
     "duration": 0.02683,
     "end_time": "2022-10-24T02:07:32.631030",
     "exception": false,
     "start_time": "2022-10-24T02:07:32.604200",
     "status": "completed"
    },
    "tags": []
   },
   "source": [
    "#### Sex:"
   ]
  },
  {
   "cell_type": "code",
   "execution_count": 28,
   "id": "461422bb",
   "metadata": {
    "execution": {
     "iopub.execute_input": "2022-10-24T02:07:32.685059Z",
     "iopub.status.busy": "2022-10-24T02:07:32.684646Z",
     "iopub.status.idle": "2022-10-24T02:07:32.693750Z",
     "shell.execute_reply": "2022-10-24T02:07:32.692420Z"
    },
    "papermill": {
     "duration": 0.038602,
     "end_time": "2022-10-24T02:07:32.695960",
     "exception": false,
     "start_time": "2022-10-24T02:07:32.657358",
     "status": "completed"
    },
    "tags": []
   },
   "outputs": [],
   "source": [
    "for dataset in combine:\n",
    "    dataset['Sex'] = dataset['Sex'].map( {'female': 1, 'male': 0} ).astype(int)    "
   ]
  },
  {
   "cell_type": "markdown",
   "id": "91d32d56",
   "metadata": {
    "papermill": {
     "duration": 0.027842,
     "end_time": "2022-10-24T02:07:32.749947",
     "exception": false,
     "start_time": "2022-10-24T02:07:32.722105",
     "status": "completed"
    },
    "tags": []
   },
   "source": [
    "#### Age:"
   ]
  },
  {
   "cell_type": "code",
   "execution_count": 29,
   "id": "18252d5e",
   "metadata": {
    "execution": {
     "iopub.execute_input": "2022-10-24T02:07:32.805249Z",
     "iopub.status.busy": "2022-10-24T02:07:32.804800Z",
     "iopub.status.idle": "2022-10-24T02:07:32.849975Z",
     "shell.execute_reply": "2022-10-24T02:07:32.848405Z"
    },
    "papermill": {
     "duration": 0.077091,
     "end_time": "2022-10-24T02:07:32.853002",
     "exception": false,
     "start_time": "2022-10-24T02:07:32.775911",
     "status": "completed"
    },
    "tags": []
   },
   "outputs": [],
   "source": [
    "\n",
    "guess_ages = np.zeros((2,3))\n",
    "\n",
    "for dataset in combine:\n",
    "    for i in range(0, 2):\n",
    "        for j in range(0, 3):\n",
    "            guess_df = dataset[(dataset['Sex'] == i) & \\\n",
    "                                  (dataset['Pclass'] == j+1)]['Age'].dropna()\n",
    "\n",
    "            age_guess = guess_df.median()\n",
    "\n",
    "            # Convert random age float to nearest .5 age\n",
    "            guess_ages[i,j] = int( age_guess/0.5 + 0.5 ) * 0.5\n",
    "            \n",
    "    for i in range(0, 2):\n",
    "        for j in range(0, 3):\n",
    "            dataset.loc[ (dataset.Age.isnull()) & (dataset.Sex == i) & (dataset.Pclass == j+1),\\\n",
    "                    'Age'] = guess_ages[i,j]\n",
    "\n",
    "    dataset['Age'] = dataset['Age'].astype(int)"
   ]
  },
  {
   "cell_type": "markdown",
   "id": "a12f8052",
   "metadata": {
    "papermill": {
     "duration": 0.027041,
     "end_time": "2022-10-24T02:07:32.907294",
     "exception": false,
     "start_time": "2022-10-24T02:07:32.880253",
     "status": "completed"
    },
    "tags": []
   },
   "source": [
    "#### Fare:"
   ]
  },
  {
   "cell_type": "code",
   "execution_count": 30,
   "id": "be28c43a",
   "metadata": {
    "execution": {
     "iopub.execute_input": "2022-10-24T02:07:32.961130Z",
     "iopub.status.busy": "2022-10-24T02:07:32.960703Z",
     "iopub.status.idle": "2022-10-24T02:07:32.968067Z",
     "shell.execute_reply": "2022-10-24T02:07:32.966532Z"
    },
    "papermill": {
     "duration": 0.037283,
     "end_time": "2022-10-24T02:07:32.970609",
     "exception": false,
     "start_time": "2022-10-24T02:07:32.933326",
     "status": "completed"
    },
    "tags": []
   },
   "outputs": [],
   "source": [
    "test_data.Fare.fillna(test_data.Fare.dropna().median() , inplace= True)"
   ]
  },
  {
   "cell_type": "code",
   "execution_count": 31,
   "id": "2bb014e0",
   "metadata": {
    "execution": {
     "iopub.execute_input": "2022-10-24T02:07:33.026360Z",
     "iopub.status.busy": "2022-10-24T02:07:33.025898Z",
     "iopub.status.idle": "2022-10-24T02:07:33.038875Z",
     "shell.execute_reply": "2022-10-24T02:07:33.037743Z"
    },
    "papermill": {
     "duration": 0.045032,
     "end_time": "2022-10-24T02:07:33.042284",
     "exception": false,
     "start_time": "2022-10-24T02:07:32.997252",
     "status": "completed"
    },
    "tags": []
   },
   "outputs": [
    {
     "name": "stdout",
     "output_type": "stream",
     "text": [
      "Survived    0\n",
      "Pclass      0\n",
      "Name        0\n",
      "Sex         0\n",
      "Age         0\n",
      "SibSp       0\n",
      "Parch       0\n",
      "Fare        0\n",
      "Embarked    0\n",
      "dtype: int64\n",
      "--------------------------------------------------\n",
      "PassengerId    0\n",
      "Pclass         0\n",
      "Name           0\n",
      "Sex            0\n",
      "Age            0\n",
      "SibSp          0\n",
      "Parch          0\n",
      "Fare           0\n",
      "Embarked       0\n",
      "dtype: int64\n"
     ]
    }
   ],
   "source": [
    "print(train_data.isnull().sum())\n",
    "print(\"-\" * 50)\n",
    "print(test_data.isnull().sum())"
   ]
  },
  {
   "cell_type": "markdown",
   "id": "026a31e0",
   "metadata": {
    "papermill": {
     "duration": 0.028821,
     "end_time": "2022-10-24T02:07:33.101554",
     "exception": false,
     "start_time": "2022-10-24T02:07:33.072733",
     "status": "completed"
    },
    "tags": []
   },
   "source": [
    "No more missed values !!"
   ]
  },
  {
   "cell_type": "code",
   "execution_count": 32,
   "id": "b3a5a030",
   "metadata": {
    "execution": {
     "iopub.execute_input": "2022-10-24T02:07:33.158763Z",
     "iopub.status.busy": "2022-10-24T02:07:33.158314Z",
     "iopub.status.idle": "2022-10-24T02:07:33.173257Z",
     "shell.execute_reply": "2022-10-24T02:07:33.171863Z"
    },
    "papermill": {
     "duration": 0.047361,
     "end_time": "2022-10-24T02:07:33.176243",
     "exception": false,
     "start_time": "2022-10-24T02:07:33.128882",
     "status": "completed"
    },
    "tags": []
   },
   "outputs": [
    {
     "data": {
      "text/html": [
       "<div>\n",
       "<style scoped>\n",
       "    .dataframe tbody tr th:only-of-type {\n",
       "        vertical-align: middle;\n",
       "    }\n",
       "\n",
       "    .dataframe tbody tr th {\n",
       "        vertical-align: top;\n",
       "    }\n",
       "\n",
       "    .dataframe thead th {\n",
       "        text-align: right;\n",
       "    }\n",
       "</style>\n",
       "<table border=\"1\" class=\"dataframe\">\n",
       "  <thead>\n",
       "    <tr style=\"text-align: right;\">\n",
       "      <th></th>\n",
       "      <th>Survived</th>\n",
       "      <th>Pclass</th>\n",
       "      <th>Name</th>\n",
       "      <th>Sex</th>\n",
       "      <th>Age</th>\n",
       "      <th>SibSp</th>\n",
       "      <th>Parch</th>\n",
       "      <th>Fare</th>\n",
       "      <th>Embarked</th>\n",
       "    </tr>\n",
       "  </thead>\n",
       "  <tbody>\n",
       "    <tr>\n",
       "      <th>0</th>\n",
       "      <td>0</td>\n",
       "      <td>3</td>\n",
       "      <td>Braund, Mr. Owen Harris</td>\n",
       "      <td>0</td>\n",
       "      <td>22</td>\n",
       "      <td>1</td>\n",
       "      <td>0</td>\n",
       "      <td>7.2500</td>\n",
       "      <td>0</td>\n",
       "    </tr>\n",
       "    <tr>\n",
       "      <th>1</th>\n",
       "      <td>1</td>\n",
       "      <td>1</td>\n",
       "      <td>Cumings, Mrs. John Bradley (Florence Briggs Th...</td>\n",
       "      <td>1</td>\n",
       "      <td>38</td>\n",
       "      <td>1</td>\n",
       "      <td>0</td>\n",
       "      <td>71.2833</td>\n",
       "      <td>1</td>\n",
       "    </tr>\n",
       "    <tr>\n",
       "      <th>2</th>\n",
       "      <td>1</td>\n",
       "      <td>3</td>\n",
       "      <td>Heikkinen, Miss. Laina</td>\n",
       "      <td>1</td>\n",
       "      <td>26</td>\n",
       "      <td>0</td>\n",
       "      <td>0</td>\n",
       "      <td>7.9250</td>\n",
       "      <td>0</td>\n",
       "    </tr>\n",
       "    <tr>\n",
       "      <th>3</th>\n",
       "      <td>1</td>\n",
       "      <td>1</td>\n",
       "      <td>Futrelle, Mrs. Jacques Heath (Lily May Peel)</td>\n",
       "      <td>1</td>\n",
       "      <td>35</td>\n",
       "      <td>1</td>\n",
       "      <td>0</td>\n",
       "      <td>53.1000</td>\n",
       "      <td>0</td>\n",
       "    </tr>\n",
       "    <tr>\n",
       "      <th>4</th>\n",
       "      <td>0</td>\n",
       "      <td>3</td>\n",
       "      <td>Allen, Mr. William Henry</td>\n",
       "      <td>0</td>\n",
       "      <td>35</td>\n",
       "      <td>0</td>\n",
       "      <td>0</td>\n",
       "      <td>8.0500</td>\n",
       "      <td>0</td>\n",
       "    </tr>\n",
       "  </tbody>\n",
       "</table>\n",
       "</div>"
      ],
      "text/plain": [
       "   Survived  Pclass                                               Name  Sex  \\\n",
       "0         0       3                            Braund, Mr. Owen Harris    0   \n",
       "1         1       1  Cumings, Mrs. John Bradley (Florence Briggs Th...    1   \n",
       "2         1       3                             Heikkinen, Miss. Laina    1   \n",
       "3         1       1       Futrelle, Mrs. Jacques Heath (Lily May Peel)    1   \n",
       "4         0       3                           Allen, Mr. William Henry    0   \n",
       "\n",
       "   Age  SibSp  Parch     Fare  Embarked  \n",
       "0   22      1      0   7.2500         0  \n",
       "1   38      1      0  71.2833         1  \n",
       "2   26      0      0   7.9250         0  \n",
       "3   35      1      0  53.1000         0  \n",
       "4   35      0      0   8.0500         0  "
      ]
     },
     "execution_count": 32,
     "metadata": {},
     "output_type": "execute_result"
    }
   ],
   "source": [
    "train_data.head()"
   ]
  },
  {
   "cell_type": "markdown",
   "id": "edde8cb4",
   "metadata": {
    "papermill": {
     "duration": 0.02733,
     "end_time": "2022-10-24T02:07:33.230142",
     "exception": false,
     "start_time": "2022-10-24T02:07:33.202812",
     "status": "completed"
    },
    "tags": []
   },
   "source": [
    "<div style=\"color:black;\n",
    "           border-radius:0px;\n",
    "           background-color:#00ADB5;\n",
    "           font-size:14px;\n",
    "           font-family:sans-serif;\n",
    "           letter-spacing:0.5px\">\n",
    "        <p style=\"padding: 6px;\n",
    "              color:white;\">\n",
    "            <b>Creating Bands:</b>\n",
    "        </p>\n",
    "</div>\n"
   ]
  },
  {
   "cell_type": "markdown",
   "id": "ae225426",
   "metadata": {
    "papermill": {
     "duration": 0.029237,
     "end_time": "2022-10-24T02:07:33.288516",
     "exception": false,
     "start_time": "2022-10-24T02:07:33.259279",
     "status": "completed"
    },
    "tags": []
   },
   "source": [
    "#### Age Band:"
   ]
  },
  {
   "cell_type": "code",
   "execution_count": 33,
   "id": "e893fa37",
   "metadata": {
    "execution": {
     "iopub.execute_input": "2022-10-24T02:07:33.343956Z",
     "iopub.status.busy": "2022-10-24T02:07:33.343506Z",
     "iopub.status.idle": "2022-10-24T02:07:33.375035Z",
     "shell.execute_reply": "2022-10-24T02:07:33.373888Z"
    },
    "papermill": {
     "duration": 0.062506,
     "end_time": "2022-10-24T02:07:33.377723",
     "exception": false,
     "start_time": "2022-10-24T02:07:33.315217",
     "status": "completed"
    },
    "tags": []
   },
   "outputs": [
    {
     "data": {
      "text/html": [
       "<div>\n",
       "<style scoped>\n",
       "    .dataframe tbody tr th:only-of-type {\n",
       "        vertical-align: middle;\n",
       "    }\n",
       "\n",
       "    .dataframe tbody tr th {\n",
       "        vertical-align: top;\n",
       "    }\n",
       "\n",
       "    .dataframe thead th {\n",
       "        text-align: right;\n",
       "    }\n",
       "</style>\n",
       "<table border=\"1\" class=\"dataframe\">\n",
       "  <thead>\n",
       "    <tr style=\"text-align: right;\">\n",
       "      <th></th>\n",
       "      <th>AgeBand</th>\n",
       "      <th>Survived</th>\n",
       "    </tr>\n",
       "  </thead>\n",
       "  <tbody>\n",
       "    <tr>\n",
       "      <th>0</th>\n",
       "      <td>(-0.08, 16.0]</td>\n",
       "      <td>0.550000</td>\n",
       "    </tr>\n",
       "    <tr>\n",
       "      <th>1</th>\n",
       "      <td>(16.0, 32.0]</td>\n",
       "      <td>0.337374</td>\n",
       "    </tr>\n",
       "    <tr>\n",
       "      <th>2</th>\n",
       "      <td>(32.0, 48.0]</td>\n",
       "      <td>0.412037</td>\n",
       "    </tr>\n",
       "    <tr>\n",
       "      <th>3</th>\n",
       "      <td>(48.0, 64.0]</td>\n",
       "      <td>0.434783</td>\n",
       "    </tr>\n",
       "    <tr>\n",
       "      <th>4</th>\n",
       "      <td>(64.0, 80.0]</td>\n",
       "      <td>0.090909</td>\n",
       "    </tr>\n",
       "  </tbody>\n",
       "</table>\n",
       "</div>"
      ],
      "text/plain": [
       "         AgeBand  Survived\n",
       "0  (-0.08, 16.0]  0.550000\n",
       "1   (16.0, 32.0]  0.337374\n",
       "2   (32.0, 48.0]  0.412037\n",
       "3   (48.0, 64.0]  0.434783\n",
       "4   (64.0, 80.0]  0.090909"
      ]
     },
     "execution_count": 33,
     "metadata": {},
     "output_type": "execute_result"
    }
   ],
   "source": [
    "train_data['AgeBand'] = pd.cut(train_data['Age'], 5)\n",
    "train_data[['AgeBand', 'Survived']].groupby(['AgeBand'], as_index=False).mean().sort_values(by='AgeBand', ascending=True)"
   ]
  },
  {
   "cell_type": "code",
   "execution_count": 34,
   "id": "e8edfaa0",
   "metadata": {
    "execution": {
     "iopub.execute_input": "2022-10-24T02:07:33.434288Z",
     "iopub.status.busy": "2022-10-24T02:07:33.432813Z",
     "iopub.status.idle": "2022-10-24T02:07:33.463029Z",
     "shell.execute_reply": "2022-10-24T02:07:33.461312Z"
    },
    "papermill": {
     "duration": 0.061183,
     "end_time": "2022-10-24T02:07:33.466047",
     "exception": false,
     "start_time": "2022-10-24T02:07:33.404864",
     "status": "completed"
    },
    "tags": []
   },
   "outputs": [
    {
     "data": {
      "text/html": [
       "<div>\n",
       "<style scoped>\n",
       "    .dataframe tbody tr th:only-of-type {\n",
       "        vertical-align: middle;\n",
       "    }\n",
       "\n",
       "    .dataframe tbody tr th {\n",
       "        vertical-align: top;\n",
       "    }\n",
       "\n",
       "    .dataframe thead th {\n",
       "        text-align: right;\n",
       "    }\n",
       "</style>\n",
       "<table border=\"1\" class=\"dataframe\">\n",
       "  <thead>\n",
       "    <tr style=\"text-align: right;\">\n",
       "      <th></th>\n",
       "      <th>Survived</th>\n",
       "      <th>Pclass</th>\n",
       "      <th>Name</th>\n",
       "      <th>Sex</th>\n",
       "      <th>Age</th>\n",
       "      <th>SibSp</th>\n",
       "      <th>Parch</th>\n",
       "      <th>Fare</th>\n",
       "      <th>Embarked</th>\n",
       "      <th>AgeBand</th>\n",
       "    </tr>\n",
       "  </thead>\n",
       "  <tbody>\n",
       "    <tr>\n",
       "      <th>0</th>\n",
       "      <td>0</td>\n",
       "      <td>3</td>\n",
       "      <td>Braund, Mr. Owen Harris</td>\n",
       "      <td>0</td>\n",
       "      <td>1</td>\n",
       "      <td>1</td>\n",
       "      <td>0</td>\n",
       "      <td>7.2500</td>\n",
       "      <td>0</td>\n",
       "      <td>(16.0, 32.0]</td>\n",
       "    </tr>\n",
       "    <tr>\n",
       "      <th>1</th>\n",
       "      <td>1</td>\n",
       "      <td>1</td>\n",
       "      <td>Cumings, Mrs. John Bradley (Florence Briggs Th...</td>\n",
       "      <td>1</td>\n",
       "      <td>2</td>\n",
       "      <td>1</td>\n",
       "      <td>0</td>\n",
       "      <td>71.2833</td>\n",
       "      <td>1</td>\n",
       "      <td>(32.0, 48.0]</td>\n",
       "    </tr>\n",
       "    <tr>\n",
       "      <th>2</th>\n",
       "      <td>1</td>\n",
       "      <td>3</td>\n",
       "      <td>Heikkinen, Miss. Laina</td>\n",
       "      <td>1</td>\n",
       "      <td>1</td>\n",
       "      <td>0</td>\n",
       "      <td>0</td>\n",
       "      <td>7.9250</td>\n",
       "      <td>0</td>\n",
       "      <td>(16.0, 32.0]</td>\n",
       "    </tr>\n",
       "    <tr>\n",
       "      <th>3</th>\n",
       "      <td>1</td>\n",
       "      <td>1</td>\n",
       "      <td>Futrelle, Mrs. Jacques Heath (Lily May Peel)</td>\n",
       "      <td>1</td>\n",
       "      <td>2</td>\n",
       "      <td>1</td>\n",
       "      <td>0</td>\n",
       "      <td>53.1000</td>\n",
       "      <td>0</td>\n",
       "      <td>(32.0, 48.0]</td>\n",
       "    </tr>\n",
       "    <tr>\n",
       "      <th>4</th>\n",
       "      <td>0</td>\n",
       "      <td>3</td>\n",
       "      <td>Allen, Mr. William Henry</td>\n",
       "      <td>0</td>\n",
       "      <td>2</td>\n",
       "      <td>0</td>\n",
       "      <td>0</td>\n",
       "      <td>8.0500</td>\n",
       "      <td>0</td>\n",
       "      <td>(32.0, 48.0]</td>\n",
       "    </tr>\n",
       "  </tbody>\n",
       "</table>\n",
       "</div>"
      ],
      "text/plain": [
       "   Survived  Pclass                                               Name  Sex  \\\n",
       "0         0       3                            Braund, Mr. Owen Harris    0   \n",
       "1         1       1  Cumings, Mrs. John Bradley (Florence Briggs Th...    1   \n",
       "2         1       3                             Heikkinen, Miss. Laina    1   \n",
       "3         1       1       Futrelle, Mrs. Jacques Heath (Lily May Peel)    1   \n",
       "4         0       3                           Allen, Mr. William Henry    0   \n",
       "\n",
       "   Age  SibSp  Parch     Fare  Embarked       AgeBand  \n",
       "0    1      1      0   7.2500         0  (16.0, 32.0]  \n",
       "1    2      1      0  71.2833         1  (32.0, 48.0]  \n",
       "2    1      0      0   7.9250         0  (16.0, 32.0]  \n",
       "3    2      1      0  53.1000         0  (32.0, 48.0]  \n",
       "4    2      0      0   8.0500         0  (32.0, 48.0]  "
      ]
     },
     "execution_count": 34,
     "metadata": {},
     "output_type": "execute_result"
    }
   ],
   "source": [
    "for dataset in combine:    \n",
    "    dataset.loc[ dataset['Age'] <= 16, 'Age'] = 0\n",
    "    dataset.loc[(dataset['Age'] > 16) & (dataset['Age'] <= 32), 'Age'] = 1\n",
    "    dataset.loc[(dataset['Age'] > 32) & (dataset['Age'] <= 48), 'Age'] = 2\n",
    "    dataset.loc[(dataset['Age'] > 48) & (dataset['Age'] <= 64), 'Age'] = 3\n",
    "    dataset.loc[ dataset['Age'] > 64, 'Age']\n",
    "train_data.head()"
   ]
  },
  {
   "cell_type": "code",
   "execution_count": 35,
   "id": "04bcade6",
   "metadata": {
    "execution": {
     "iopub.execute_input": "2022-10-24T02:07:33.522554Z",
     "iopub.status.busy": "2022-10-24T02:07:33.521796Z",
     "iopub.status.idle": "2022-10-24T02:07:33.527852Z",
     "shell.execute_reply": "2022-10-24T02:07:33.526739Z"
    },
    "papermill": {
     "duration": 0.037502,
     "end_time": "2022-10-24T02:07:33.530615",
     "exception": false,
     "start_time": "2022-10-24T02:07:33.493113",
     "status": "completed"
    },
    "tags": []
   },
   "outputs": [],
   "source": [
    "train_data.drop(['AgeBand'], axis=1 , inplace = True)"
   ]
  },
  {
   "cell_type": "markdown",
   "id": "11ce7b21",
   "metadata": {
    "papermill": {
     "duration": 0.026419,
     "end_time": "2022-10-24T02:07:33.583802",
     "exception": false,
     "start_time": "2022-10-24T02:07:33.557383",
     "status": "completed"
    },
    "tags": []
   },
   "source": [
    "#### Fare Band:"
   ]
  },
  {
   "cell_type": "code",
   "execution_count": 36,
   "id": "dbc98cc5",
   "metadata": {
    "execution": {
     "iopub.execute_input": "2022-10-24T02:07:33.640041Z",
     "iopub.status.busy": "2022-10-24T02:07:33.639291Z",
     "iopub.status.idle": "2022-10-24T02:07:33.660956Z",
     "shell.execute_reply": "2022-10-24T02:07:33.660024Z"
    },
    "papermill": {
     "duration": 0.053006,
     "end_time": "2022-10-24T02:07:33.663376",
     "exception": false,
     "start_time": "2022-10-24T02:07:33.610370",
     "status": "completed"
    },
    "tags": []
   },
   "outputs": [
    {
     "data": {
      "text/html": [
       "<div>\n",
       "<style scoped>\n",
       "    .dataframe tbody tr th:only-of-type {\n",
       "        vertical-align: middle;\n",
       "    }\n",
       "\n",
       "    .dataframe tbody tr th {\n",
       "        vertical-align: top;\n",
       "    }\n",
       "\n",
       "    .dataframe thead th {\n",
       "        text-align: right;\n",
       "    }\n",
       "</style>\n",
       "<table border=\"1\" class=\"dataframe\">\n",
       "  <thead>\n",
       "    <tr style=\"text-align: right;\">\n",
       "      <th></th>\n",
       "      <th>FareBand</th>\n",
       "      <th>Survived</th>\n",
       "    </tr>\n",
       "  </thead>\n",
       "  <tbody>\n",
       "    <tr>\n",
       "      <th>3</th>\n",
       "      <td>(31.0, 512.329]</td>\n",
       "      <td>0.581081</td>\n",
       "    </tr>\n",
       "    <tr>\n",
       "      <th>2</th>\n",
       "      <td>(14.454, 31.0]</td>\n",
       "      <td>0.454955</td>\n",
       "    </tr>\n",
       "    <tr>\n",
       "      <th>1</th>\n",
       "      <td>(7.91, 14.454]</td>\n",
       "      <td>0.303571</td>\n",
       "    </tr>\n",
       "    <tr>\n",
       "      <th>0</th>\n",
       "      <td>(-0.001, 7.91]</td>\n",
       "      <td>0.197309</td>\n",
       "    </tr>\n",
       "  </tbody>\n",
       "</table>\n",
       "</div>"
      ],
      "text/plain": [
       "          FareBand  Survived\n",
       "3  (31.0, 512.329]  0.581081\n",
       "2   (14.454, 31.0]  0.454955\n",
       "1   (7.91, 14.454]  0.303571\n",
       "0   (-0.001, 7.91]  0.197309"
      ]
     },
     "execution_count": 36,
     "metadata": {},
     "output_type": "execute_result"
    }
   ],
   "source": [
    "train_data['FareBand'] = pd.qcut(train_data['Fare'], 4)\n",
    "train_data[['FareBand', 'Survived']].groupby(['FareBand'], as_index=False).mean().sort_values(by='FareBand', ascending=False)"
   ]
  },
  {
   "cell_type": "code",
   "execution_count": 37,
   "id": "307cff97",
   "metadata": {
    "execution": {
     "iopub.execute_input": "2022-10-24T02:07:33.722821Z",
     "iopub.status.busy": "2022-10-24T02:07:33.722080Z",
     "iopub.status.idle": "2022-10-24T02:07:33.738110Z",
     "shell.execute_reply": "2022-10-24T02:07:33.736731Z"
    },
    "papermill": {
     "duration": 0.049387,
     "end_time": "2022-10-24T02:07:33.740923",
     "exception": false,
     "start_time": "2022-10-24T02:07:33.691536",
     "status": "completed"
    },
    "tags": []
   },
   "outputs": [],
   "source": [
    "for dataset in combine:\n",
    "    dataset.loc[ dataset['Fare'] <= 7.91, 'Fare'] = 0\n",
    "    dataset.loc[(dataset['Fare'] > 7.91) & (dataset['Fare'] <= 14.454), 'Fare'] = 1\n",
    "    dataset.loc[(dataset['Fare'] > 14.454) & (dataset['Fare'] <= 31), 'Fare']   = 2\n",
    "    dataset.loc[ dataset['Fare'] > 31, 'Fare'] = 3\n",
    "    dataset['Fare'] = dataset['Fare'].astype(int)\n",
    "\n",
    "train_data.drop(['FareBand'], axis=1 , inplace = True)\n"
   ]
  },
  {
   "cell_type": "code",
   "execution_count": 38,
   "id": "8bb9642a",
   "metadata": {
    "execution": {
     "iopub.execute_input": "2022-10-24T02:07:33.800175Z",
     "iopub.status.busy": "2022-10-24T02:07:33.799760Z",
     "iopub.status.idle": "2022-10-24T02:07:33.813513Z",
     "shell.execute_reply": "2022-10-24T02:07:33.812160Z"
    },
    "papermill": {
     "duration": 0.045681,
     "end_time": "2022-10-24T02:07:33.815967",
     "exception": false,
     "start_time": "2022-10-24T02:07:33.770286",
     "status": "completed"
    },
    "tags": []
   },
   "outputs": [
    {
     "data": {
      "text/html": [
       "<div>\n",
       "<style scoped>\n",
       "    .dataframe tbody tr th:only-of-type {\n",
       "        vertical-align: middle;\n",
       "    }\n",
       "\n",
       "    .dataframe tbody tr th {\n",
       "        vertical-align: top;\n",
       "    }\n",
       "\n",
       "    .dataframe thead th {\n",
       "        text-align: right;\n",
       "    }\n",
       "</style>\n",
       "<table border=\"1\" class=\"dataframe\">\n",
       "  <thead>\n",
       "    <tr style=\"text-align: right;\">\n",
       "      <th></th>\n",
       "      <th>Survived</th>\n",
       "      <th>Pclass</th>\n",
       "      <th>Name</th>\n",
       "      <th>Sex</th>\n",
       "      <th>Age</th>\n",
       "      <th>SibSp</th>\n",
       "      <th>Parch</th>\n",
       "      <th>Fare</th>\n",
       "      <th>Embarked</th>\n",
       "    </tr>\n",
       "  </thead>\n",
       "  <tbody>\n",
       "    <tr>\n",
       "      <th>0</th>\n",
       "      <td>0</td>\n",
       "      <td>3</td>\n",
       "      <td>Braund, Mr. Owen Harris</td>\n",
       "      <td>0</td>\n",
       "      <td>1</td>\n",
       "      <td>1</td>\n",
       "      <td>0</td>\n",
       "      <td>0</td>\n",
       "      <td>0</td>\n",
       "    </tr>\n",
       "    <tr>\n",
       "      <th>1</th>\n",
       "      <td>1</td>\n",
       "      <td>1</td>\n",
       "      <td>Cumings, Mrs. John Bradley (Florence Briggs Th...</td>\n",
       "      <td>1</td>\n",
       "      <td>2</td>\n",
       "      <td>1</td>\n",
       "      <td>0</td>\n",
       "      <td>3</td>\n",
       "      <td>1</td>\n",
       "    </tr>\n",
       "    <tr>\n",
       "      <th>2</th>\n",
       "      <td>1</td>\n",
       "      <td>3</td>\n",
       "      <td>Heikkinen, Miss. Laina</td>\n",
       "      <td>1</td>\n",
       "      <td>1</td>\n",
       "      <td>0</td>\n",
       "      <td>0</td>\n",
       "      <td>1</td>\n",
       "      <td>0</td>\n",
       "    </tr>\n",
       "    <tr>\n",
       "      <th>3</th>\n",
       "      <td>1</td>\n",
       "      <td>1</td>\n",
       "      <td>Futrelle, Mrs. Jacques Heath (Lily May Peel)</td>\n",
       "      <td>1</td>\n",
       "      <td>2</td>\n",
       "      <td>1</td>\n",
       "      <td>0</td>\n",
       "      <td>3</td>\n",
       "      <td>0</td>\n",
       "    </tr>\n",
       "    <tr>\n",
       "      <th>4</th>\n",
       "      <td>0</td>\n",
       "      <td>3</td>\n",
       "      <td>Allen, Mr. William Henry</td>\n",
       "      <td>0</td>\n",
       "      <td>2</td>\n",
       "      <td>0</td>\n",
       "      <td>0</td>\n",
       "      <td>1</td>\n",
       "      <td>0</td>\n",
       "    </tr>\n",
       "  </tbody>\n",
       "</table>\n",
       "</div>"
      ],
      "text/plain": [
       "   Survived  Pclass                                               Name  Sex  \\\n",
       "0         0       3                            Braund, Mr. Owen Harris    0   \n",
       "1         1       1  Cumings, Mrs. John Bradley (Florence Briggs Th...    1   \n",
       "2         1       3                             Heikkinen, Miss. Laina    1   \n",
       "3         1       1       Futrelle, Mrs. Jacques Heath (Lily May Peel)    1   \n",
       "4         0       3                           Allen, Mr. William Henry    0   \n",
       "\n",
       "   Age  SibSp  Parch  Fare  Embarked  \n",
       "0    1      1      0     0         0  \n",
       "1    2      1      0     3         1  \n",
       "2    1      0      0     1         0  \n",
       "3    2      1      0     3         0  \n",
       "4    2      0      0     1         0  "
      ]
     },
     "execution_count": 38,
     "metadata": {},
     "output_type": "execute_result"
    }
   ],
   "source": [
    "train_data.head()"
   ]
  },
  {
   "cell_type": "markdown",
   "id": "99008abd",
   "metadata": {
    "papermill": {
     "duration": 0.027332,
     "end_time": "2022-10-24T02:07:33.871118",
     "exception": false,
     "start_time": "2022-10-24T02:07:33.843786",
     "status": "completed"
    },
    "tags": []
   },
   "source": [
    "<div style=\"color:black;\n",
    "           border-radius:0px;\n",
    "           background-color:#00ADB5;\n",
    "           font-size:14px;\n",
    "           font-family:sans-serif;\n",
    "           letter-spacing:0.5px\">\n",
    "        <p style=\"padding: 6px;\n",
    "              color:white;\">\n",
    "            <b>Data Engineering:</b>\n",
    "        </p>\n",
    "</div>\n"
   ]
  },
  {
   "cell_type": "markdown",
   "id": "1eaac60f",
   "metadata": {
    "papermill": {
     "duration": 0.026567,
     "end_time": "2022-10-24T02:07:33.924516",
     "exception": false,
     "start_time": "2022-10-24T02:07:33.897949",
     "status": "completed"
    },
    "tags": []
   },
   "source": [
    "#### Family Size:"
   ]
  },
  {
   "cell_type": "code",
   "execution_count": 39,
   "id": "7ee9a2fc",
   "metadata": {
    "execution": {
     "iopub.execute_input": "2022-10-24T02:07:33.982133Z",
     "iopub.status.busy": "2022-10-24T02:07:33.980989Z",
     "iopub.status.idle": "2022-10-24T02:07:34.001017Z",
     "shell.execute_reply": "2022-10-24T02:07:34.000055Z"
    },
    "papermill": {
     "duration": 0.052221,
     "end_time": "2022-10-24T02:07:34.003392",
     "exception": false,
     "start_time": "2022-10-24T02:07:33.951171",
     "status": "completed"
    },
    "tags": []
   },
   "outputs": [
    {
     "data": {
      "text/html": [
       "<div>\n",
       "<style scoped>\n",
       "    .dataframe tbody tr th:only-of-type {\n",
       "        vertical-align: middle;\n",
       "    }\n",
       "\n",
       "    .dataframe tbody tr th {\n",
       "        vertical-align: top;\n",
       "    }\n",
       "\n",
       "    .dataframe thead th {\n",
       "        text-align: right;\n",
       "    }\n",
       "</style>\n",
       "<table border=\"1\" class=\"dataframe\">\n",
       "  <thead>\n",
       "    <tr style=\"text-align: right;\">\n",
       "      <th></th>\n",
       "      <th>FamilySize</th>\n",
       "      <th>Survived</th>\n",
       "    </tr>\n",
       "  </thead>\n",
       "  <tbody>\n",
       "    <tr>\n",
       "      <th>3</th>\n",
       "      <td>4</td>\n",
       "      <td>0.724138</td>\n",
       "    </tr>\n",
       "    <tr>\n",
       "      <th>2</th>\n",
       "      <td>3</td>\n",
       "      <td>0.578431</td>\n",
       "    </tr>\n",
       "    <tr>\n",
       "      <th>1</th>\n",
       "      <td>2</td>\n",
       "      <td>0.552795</td>\n",
       "    </tr>\n",
       "    <tr>\n",
       "      <th>6</th>\n",
       "      <td>7</td>\n",
       "      <td>0.333333</td>\n",
       "    </tr>\n",
       "    <tr>\n",
       "      <th>0</th>\n",
       "      <td>1</td>\n",
       "      <td>0.303538</td>\n",
       "    </tr>\n",
       "    <tr>\n",
       "      <th>4</th>\n",
       "      <td>5</td>\n",
       "      <td>0.200000</td>\n",
       "    </tr>\n",
       "    <tr>\n",
       "      <th>5</th>\n",
       "      <td>6</td>\n",
       "      <td>0.136364</td>\n",
       "    </tr>\n",
       "    <tr>\n",
       "      <th>7</th>\n",
       "      <td>8</td>\n",
       "      <td>0.000000</td>\n",
       "    </tr>\n",
       "    <tr>\n",
       "      <th>8</th>\n",
       "      <td>11</td>\n",
       "      <td>0.000000</td>\n",
       "    </tr>\n",
       "  </tbody>\n",
       "</table>\n",
       "</div>"
      ],
      "text/plain": [
       "   FamilySize  Survived\n",
       "3           4  0.724138\n",
       "2           3  0.578431\n",
       "1           2  0.552795\n",
       "6           7  0.333333\n",
       "0           1  0.303538\n",
       "4           5  0.200000\n",
       "5           6  0.136364\n",
       "7           8  0.000000\n",
       "8          11  0.000000"
      ]
     },
     "execution_count": 39,
     "metadata": {},
     "output_type": "execute_result"
    }
   ],
   "source": [
    "for dataset in combine:\n",
    "    dataset['FamilySize'] = dataset['SibSp'] + dataset['Parch'] + 1\n",
    "\n",
    "train_data.drop(['Parch', 'SibSp'], axis=1 , inplace = True)\n",
    "test_data.drop(['Parch', 'SibSp'], axis=1 , inplace = True)    \n",
    "\n",
    "train_data[['FamilySize', 'Survived']].groupby(['FamilySize'], as_index=False).mean().sort_values(by='Survived', ascending=False)\n"
   ]
  },
  {
   "cell_type": "code",
   "execution_count": 40,
   "id": "f5fd199d",
   "metadata": {
    "execution": {
     "iopub.execute_input": "2022-10-24T02:07:34.061934Z",
     "iopub.status.busy": "2022-10-24T02:07:34.061207Z",
     "iopub.status.idle": "2022-10-24T02:07:34.088757Z",
     "shell.execute_reply": "2022-10-24T02:07:34.087823Z"
    },
    "papermill": {
     "duration": 0.061527,
     "end_time": "2022-10-24T02:07:34.092808",
     "exception": false,
     "start_time": "2022-10-24T02:07:34.031281",
     "status": "completed"
    },
    "tags": []
   },
   "outputs": [],
   "source": [
    "# Create new feature of family size\n",
    "for dataset in combine:\n",
    "    dataset['Single'] = dataset['FamilySize'].map(lambda s: 1 if s == 1 else 0)\n",
    "    dataset['SmallF'] = dataset['FamilySize'].map(lambda s: 1 if  s == 2  else 0)\n",
    "    dataset['MedF'] = dataset['FamilySize'].map(lambda s: 1 if 3 <= s <= 4 else 0)\n",
    "    dataset['LargeF'] = dataset['FamilySize'].map(lambda s: 1 if s >= 5 else 0)\n",
    "    \n",
    "train_data.drop(columns = [\"FamilySize\"] , inplace = True)\n",
    "test_data.drop(columns = [\"FamilySize\"] , inplace = True)"
   ]
  },
  {
   "cell_type": "markdown",
   "id": "a4fff555",
   "metadata": {
    "papermill": {
     "duration": 0.035829,
     "end_time": "2022-10-24T02:07:34.166249",
     "exception": false,
     "start_time": "2022-10-24T02:07:34.130420",
     "status": "completed"
    },
    "tags": []
   },
   "source": [
    "#### Name Title:"
   ]
  },
  {
   "cell_type": "code",
   "execution_count": 41,
   "id": "30834b3d",
   "metadata": {
    "execution": {
     "iopub.execute_input": "2022-10-24T02:07:34.223782Z",
     "iopub.status.busy": "2022-10-24T02:07:34.223052Z",
     "iopub.status.idle": "2022-10-24T02:07:34.258118Z",
     "shell.execute_reply": "2022-10-24T02:07:34.256968Z"
    },
    "papermill": {
     "duration": 0.066344,
     "end_time": "2022-10-24T02:07:34.260539",
     "exception": false,
     "start_time": "2022-10-24T02:07:34.194195",
     "status": "completed"
    },
    "tags": []
   },
   "outputs": [
    {
     "data": {
      "text/html": [
       "<div>\n",
       "<style scoped>\n",
       "    .dataframe tbody tr th:only-of-type {\n",
       "        vertical-align: middle;\n",
       "    }\n",
       "\n",
       "    .dataframe tbody tr th {\n",
       "        vertical-align: top;\n",
       "    }\n",
       "\n",
       "    .dataframe thead th {\n",
       "        text-align: right;\n",
       "    }\n",
       "</style>\n",
       "<table border=\"1\" class=\"dataframe\">\n",
       "  <thead>\n",
       "    <tr style=\"text-align: right;\">\n",
       "      <th>Sex</th>\n",
       "      <th>0</th>\n",
       "      <th>1</th>\n",
       "    </tr>\n",
       "    <tr>\n",
       "      <th>Title</th>\n",
       "      <th></th>\n",
       "      <th></th>\n",
       "    </tr>\n",
       "  </thead>\n",
       "  <tbody>\n",
       "    <tr>\n",
       "      <th>Capt</th>\n",
       "      <td>1</td>\n",
       "      <td>0</td>\n",
       "    </tr>\n",
       "    <tr>\n",
       "      <th>Col</th>\n",
       "      <td>2</td>\n",
       "      <td>0</td>\n",
       "    </tr>\n",
       "    <tr>\n",
       "      <th>Countess</th>\n",
       "      <td>0</td>\n",
       "      <td>1</td>\n",
       "    </tr>\n",
       "    <tr>\n",
       "      <th>Don</th>\n",
       "      <td>1</td>\n",
       "      <td>0</td>\n",
       "    </tr>\n",
       "    <tr>\n",
       "      <th>Dr</th>\n",
       "      <td>6</td>\n",
       "      <td>1</td>\n",
       "    </tr>\n",
       "    <tr>\n",
       "      <th>Jonkheer</th>\n",
       "      <td>1</td>\n",
       "      <td>0</td>\n",
       "    </tr>\n",
       "    <tr>\n",
       "      <th>Lady</th>\n",
       "      <td>0</td>\n",
       "      <td>1</td>\n",
       "    </tr>\n",
       "    <tr>\n",
       "      <th>Major</th>\n",
       "      <td>2</td>\n",
       "      <td>0</td>\n",
       "    </tr>\n",
       "    <tr>\n",
       "      <th>Master</th>\n",
       "      <td>40</td>\n",
       "      <td>0</td>\n",
       "    </tr>\n",
       "    <tr>\n",
       "      <th>Miss</th>\n",
       "      <td>0</td>\n",
       "      <td>182</td>\n",
       "    </tr>\n",
       "    <tr>\n",
       "      <th>Mlle</th>\n",
       "      <td>0</td>\n",
       "      <td>2</td>\n",
       "    </tr>\n",
       "    <tr>\n",
       "      <th>Mme</th>\n",
       "      <td>0</td>\n",
       "      <td>1</td>\n",
       "    </tr>\n",
       "    <tr>\n",
       "      <th>Mr</th>\n",
       "      <td>517</td>\n",
       "      <td>0</td>\n",
       "    </tr>\n",
       "    <tr>\n",
       "      <th>Mrs</th>\n",
       "      <td>0</td>\n",
       "      <td>125</td>\n",
       "    </tr>\n",
       "    <tr>\n",
       "      <th>Ms</th>\n",
       "      <td>0</td>\n",
       "      <td>1</td>\n",
       "    </tr>\n",
       "    <tr>\n",
       "      <th>Rev</th>\n",
       "      <td>6</td>\n",
       "      <td>0</td>\n",
       "    </tr>\n",
       "    <tr>\n",
       "      <th>Sir</th>\n",
       "      <td>1</td>\n",
       "      <td>0</td>\n",
       "    </tr>\n",
       "  </tbody>\n",
       "</table>\n",
       "</div>"
      ],
      "text/plain": [
       "Sex         0    1\n",
       "Title             \n",
       "Capt        1    0\n",
       "Col         2    0\n",
       "Countess    0    1\n",
       "Don         1    0\n",
       "Dr          6    1\n",
       "Jonkheer    1    0\n",
       "Lady        0    1\n",
       "Major       2    0\n",
       "Master     40    0\n",
       "Miss        0  182\n",
       "Mlle        0    2\n",
       "Mme         0    1\n",
       "Mr        517    0\n",
       "Mrs         0  125\n",
       "Ms          0    1\n",
       "Rev         6    0\n",
       "Sir         1    0"
      ]
     },
     "execution_count": 41,
     "metadata": {},
     "output_type": "execute_result"
    }
   ],
   "source": [
    "for dataset in combine:\n",
    "    dataset['Title'] = dataset.Name.str.extract(' ([A-Za-z]+)\\.', expand=False)\n",
    "\n",
    "pd.crosstab(train_data['Title'], train_data['Sex'])"
   ]
  },
  {
   "cell_type": "code",
   "execution_count": 42,
   "id": "627eaeb6",
   "metadata": {
    "execution": {
     "iopub.execute_input": "2022-10-24T02:07:34.317671Z",
     "iopub.status.busy": "2022-10-24T02:07:34.316954Z",
     "iopub.status.idle": "2022-10-24T02:07:34.339586Z",
     "shell.execute_reply": "2022-10-24T02:07:34.338307Z"
    },
    "papermill": {
     "duration": 0.053984,
     "end_time": "2022-10-24T02:07:34.341986",
     "exception": false,
     "start_time": "2022-10-24T02:07:34.288002",
     "status": "completed"
    },
    "tags": []
   },
   "outputs": [
    {
     "data": {
      "text/html": [
       "<div>\n",
       "<style scoped>\n",
       "    .dataframe tbody tr th:only-of-type {\n",
       "        vertical-align: middle;\n",
       "    }\n",
       "\n",
       "    .dataframe tbody tr th {\n",
       "        vertical-align: top;\n",
       "    }\n",
       "\n",
       "    .dataframe thead th {\n",
       "        text-align: right;\n",
       "    }\n",
       "</style>\n",
       "<table border=\"1\" class=\"dataframe\">\n",
       "  <thead>\n",
       "    <tr style=\"text-align: right;\">\n",
       "      <th></th>\n",
       "      <th>Title</th>\n",
       "      <th>Survived</th>\n",
       "    </tr>\n",
       "  </thead>\n",
       "  <tbody>\n",
       "    <tr>\n",
       "      <th>0</th>\n",
       "      <td>Master</td>\n",
       "      <td>0.575000</td>\n",
       "    </tr>\n",
       "    <tr>\n",
       "      <th>1</th>\n",
       "      <td>Miss</td>\n",
       "      <td>0.702703</td>\n",
       "    </tr>\n",
       "    <tr>\n",
       "      <th>2</th>\n",
       "      <td>Mr</td>\n",
       "      <td>0.156673</td>\n",
       "    </tr>\n",
       "    <tr>\n",
       "      <th>3</th>\n",
       "      <td>Mrs</td>\n",
       "      <td>0.793651</td>\n",
       "    </tr>\n",
       "    <tr>\n",
       "      <th>4</th>\n",
       "      <td>Rare</td>\n",
       "      <td>0.347826</td>\n",
       "    </tr>\n",
       "  </tbody>\n",
       "</table>\n",
       "</div>"
      ],
      "text/plain": [
       "    Title  Survived\n",
       "0  Master  0.575000\n",
       "1    Miss  0.702703\n",
       "2      Mr  0.156673\n",
       "3     Mrs  0.793651\n",
       "4    Rare  0.347826"
      ]
     },
     "execution_count": 42,
     "metadata": {},
     "output_type": "execute_result"
    }
   ],
   "source": [
    "for dataset in combine:\n",
    "    dataset['Title'] = dataset['Title'].replace(['Lady', 'Countess','Capt', 'Col',\\\n",
    "    'Don', 'Dr', 'Major', 'Rev', 'Sir', 'Jonkheer', 'Dona'], 'Rare')\n",
    "\n",
    "    dataset['Title'] = dataset['Title'].replace('Mlle', 'Miss')\n",
    "    dataset['Title'] = dataset['Title'].replace('Ms', 'Miss')\n",
    "    dataset['Title'] = dataset['Title'].replace('Mme', 'Mrs')\n",
    "    \n",
    "train_data[['Title', 'Survived']].groupby(['Title'], as_index=False).mean()"
   ]
  },
  {
   "cell_type": "code",
   "execution_count": 43,
   "id": "3d25b936",
   "metadata": {
    "execution": {
     "iopub.execute_input": "2022-10-24T02:07:34.400182Z",
     "iopub.status.busy": "2022-10-24T02:07:34.399496Z",
     "iopub.status.idle": "2022-10-24T02:07:34.408859Z",
     "shell.execute_reply": "2022-10-24T02:07:34.407794Z"
    },
    "papermill": {
     "duration": 0.041689,
     "end_time": "2022-10-24T02:07:34.411743",
     "exception": false,
     "start_time": "2022-10-24T02:07:34.370054",
     "status": "completed"
    },
    "tags": []
   },
   "outputs": [],
   "source": [
    "title_mapping = {\"Mr\": 1, \"Miss\": 2, \"Mrs\": 3, \"Master\": 4, \"Rare\": 5}\n",
    "for dataset in combine:\n",
    "    dataset['Title'] = dataset['Title'].map(title_mapping)\n",
    "    dataset['Title'] = dataset['Title'].fillna(0)\n"
   ]
  },
  {
   "cell_type": "code",
   "execution_count": 44,
   "id": "5dfc681b",
   "metadata": {
    "execution": {
     "iopub.execute_input": "2022-10-24T02:07:34.471295Z",
     "iopub.status.busy": "2022-10-24T02:07:34.470636Z",
     "iopub.status.idle": "2022-10-24T02:07:34.478922Z",
     "shell.execute_reply": "2022-10-24T02:07:34.477778Z"
    },
    "papermill": {
     "duration": 0.041425,
     "end_time": "2022-10-24T02:07:34.481797",
     "exception": false,
     "start_time": "2022-10-24T02:07:34.440372",
     "status": "completed"
    },
    "tags": []
   },
   "outputs": [],
   "source": [
    "train_data.drop(['Name'], axis=1 , inplace = True)\n",
    "test_data.drop(['Name'], axis=1 , inplace = True)    "
   ]
  },
  {
   "cell_type": "code",
   "execution_count": 45,
   "id": "b9642c95",
   "metadata": {
    "execution": {
     "iopub.execute_input": "2022-10-24T02:07:34.541000Z",
     "iopub.status.busy": "2022-10-24T02:07:34.540575Z",
     "iopub.status.idle": "2022-10-24T02:07:34.555993Z",
     "shell.execute_reply": "2022-10-24T02:07:34.554781Z"
    },
    "papermill": {
     "duration": 0.048094,
     "end_time": "2022-10-24T02:07:34.558669",
     "exception": false,
     "start_time": "2022-10-24T02:07:34.510575",
     "status": "completed"
    },
    "tags": []
   },
   "outputs": [
    {
     "data": {
      "text/html": [
       "<div>\n",
       "<style scoped>\n",
       "    .dataframe tbody tr th:only-of-type {\n",
       "        vertical-align: middle;\n",
       "    }\n",
       "\n",
       "    .dataframe tbody tr th {\n",
       "        vertical-align: top;\n",
       "    }\n",
       "\n",
       "    .dataframe thead th {\n",
       "        text-align: right;\n",
       "    }\n",
       "</style>\n",
       "<table border=\"1\" class=\"dataframe\">\n",
       "  <thead>\n",
       "    <tr style=\"text-align: right;\">\n",
       "      <th></th>\n",
       "      <th>Survived</th>\n",
       "      <th>Pclass</th>\n",
       "      <th>Sex</th>\n",
       "      <th>Age</th>\n",
       "      <th>Fare</th>\n",
       "      <th>Embarked</th>\n",
       "      <th>Single</th>\n",
       "      <th>SmallF</th>\n",
       "      <th>MedF</th>\n",
       "      <th>LargeF</th>\n",
       "      <th>Title</th>\n",
       "    </tr>\n",
       "  </thead>\n",
       "  <tbody>\n",
       "    <tr>\n",
       "      <th>0</th>\n",
       "      <td>0</td>\n",
       "      <td>3</td>\n",
       "      <td>0</td>\n",
       "      <td>1</td>\n",
       "      <td>0</td>\n",
       "      <td>0</td>\n",
       "      <td>0</td>\n",
       "      <td>1</td>\n",
       "      <td>0</td>\n",
       "      <td>0</td>\n",
       "      <td>1</td>\n",
       "    </tr>\n",
       "    <tr>\n",
       "      <th>1</th>\n",
       "      <td>1</td>\n",
       "      <td>1</td>\n",
       "      <td>1</td>\n",
       "      <td>2</td>\n",
       "      <td>3</td>\n",
       "      <td>1</td>\n",
       "      <td>0</td>\n",
       "      <td>1</td>\n",
       "      <td>0</td>\n",
       "      <td>0</td>\n",
       "      <td>3</td>\n",
       "    </tr>\n",
       "    <tr>\n",
       "      <th>2</th>\n",
       "      <td>1</td>\n",
       "      <td>3</td>\n",
       "      <td>1</td>\n",
       "      <td>1</td>\n",
       "      <td>1</td>\n",
       "      <td>0</td>\n",
       "      <td>1</td>\n",
       "      <td>0</td>\n",
       "      <td>0</td>\n",
       "      <td>0</td>\n",
       "      <td>2</td>\n",
       "    </tr>\n",
       "    <tr>\n",
       "      <th>3</th>\n",
       "      <td>1</td>\n",
       "      <td>1</td>\n",
       "      <td>1</td>\n",
       "      <td>2</td>\n",
       "      <td>3</td>\n",
       "      <td>0</td>\n",
       "      <td>0</td>\n",
       "      <td>1</td>\n",
       "      <td>0</td>\n",
       "      <td>0</td>\n",
       "      <td>3</td>\n",
       "    </tr>\n",
       "    <tr>\n",
       "      <th>4</th>\n",
       "      <td>0</td>\n",
       "      <td>3</td>\n",
       "      <td>0</td>\n",
       "      <td>2</td>\n",
       "      <td>1</td>\n",
       "      <td>0</td>\n",
       "      <td>1</td>\n",
       "      <td>0</td>\n",
       "      <td>0</td>\n",
       "      <td>0</td>\n",
       "      <td>1</td>\n",
       "    </tr>\n",
       "  </tbody>\n",
       "</table>\n",
       "</div>"
      ],
      "text/plain": [
       "   Survived  Pclass  Sex  Age  Fare  Embarked  Single  SmallF  MedF  LargeF  \\\n",
       "0         0       3    0    1     0         0       0       1     0       0   \n",
       "1         1       1    1    2     3         1       0       1     0       0   \n",
       "2         1       3    1    1     1         0       1       0     0       0   \n",
       "3         1       1    1    2     3         0       0       1     0       0   \n",
       "4         0       3    0    2     1         0       1       0     0       0   \n",
       "\n",
       "   Title  \n",
       "0      1  \n",
       "1      3  \n",
       "2      2  \n",
       "3      3  \n",
       "4      1  "
      ]
     },
     "execution_count": 45,
     "metadata": {},
     "output_type": "execute_result"
    }
   ],
   "source": [
    "train_data.head()"
   ]
  },
  {
   "cell_type": "code",
   "execution_count": 46,
   "id": "988e2c43",
   "metadata": {
    "execution": {
     "iopub.execute_input": "2022-10-24T02:07:34.617111Z",
     "iopub.status.busy": "2022-10-24T02:07:34.616712Z",
     "iopub.status.idle": "2022-10-24T02:07:34.631101Z",
     "shell.execute_reply": "2022-10-24T02:07:34.629649Z"
    },
    "papermill": {
     "duration": 0.04657,
     "end_time": "2022-10-24T02:07:34.633809",
     "exception": false,
     "start_time": "2022-10-24T02:07:34.587239",
     "status": "completed"
    },
    "tags": []
   },
   "outputs": [
    {
     "data": {
      "text/html": [
       "<div>\n",
       "<style scoped>\n",
       "    .dataframe tbody tr th:only-of-type {\n",
       "        vertical-align: middle;\n",
       "    }\n",
       "\n",
       "    .dataframe tbody tr th {\n",
       "        vertical-align: top;\n",
       "    }\n",
       "\n",
       "    .dataframe thead th {\n",
       "        text-align: right;\n",
       "    }\n",
       "</style>\n",
       "<table border=\"1\" class=\"dataframe\">\n",
       "  <thead>\n",
       "    <tr style=\"text-align: right;\">\n",
       "      <th></th>\n",
       "      <th>PassengerId</th>\n",
       "      <th>Pclass</th>\n",
       "      <th>Sex</th>\n",
       "      <th>Age</th>\n",
       "      <th>Fare</th>\n",
       "      <th>Embarked</th>\n",
       "      <th>Single</th>\n",
       "      <th>SmallF</th>\n",
       "      <th>MedF</th>\n",
       "      <th>LargeF</th>\n",
       "      <th>Title</th>\n",
       "    </tr>\n",
       "  </thead>\n",
       "  <tbody>\n",
       "    <tr>\n",
       "      <th>0</th>\n",
       "      <td>892</td>\n",
       "      <td>3</td>\n",
       "      <td>0</td>\n",
       "      <td>2</td>\n",
       "      <td>0</td>\n",
       "      <td>2</td>\n",
       "      <td>1</td>\n",
       "      <td>0</td>\n",
       "      <td>0</td>\n",
       "      <td>0</td>\n",
       "      <td>1</td>\n",
       "    </tr>\n",
       "    <tr>\n",
       "      <th>1</th>\n",
       "      <td>893</td>\n",
       "      <td>3</td>\n",
       "      <td>1</td>\n",
       "      <td>2</td>\n",
       "      <td>0</td>\n",
       "      <td>0</td>\n",
       "      <td>0</td>\n",
       "      <td>1</td>\n",
       "      <td>0</td>\n",
       "      <td>0</td>\n",
       "      <td>3</td>\n",
       "    </tr>\n",
       "    <tr>\n",
       "      <th>2</th>\n",
       "      <td>894</td>\n",
       "      <td>2</td>\n",
       "      <td>0</td>\n",
       "      <td>3</td>\n",
       "      <td>1</td>\n",
       "      <td>2</td>\n",
       "      <td>1</td>\n",
       "      <td>0</td>\n",
       "      <td>0</td>\n",
       "      <td>0</td>\n",
       "      <td>1</td>\n",
       "    </tr>\n",
       "    <tr>\n",
       "      <th>3</th>\n",
       "      <td>895</td>\n",
       "      <td>3</td>\n",
       "      <td>0</td>\n",
       "      <td>1</td>\n",
       "      <td>1</td>\n",
       "      <td>0</td>\n",
       "      <td>1</td>\n",
       "      <td>0</td>\n",
       "      <td>0</td>\n",
       "      <td>0</td>\n",
       "      <td>1</td>\n",
       "    </tr>\n",
       "    <tr>\n",
       "      <th>4</th>\n",
       "      <td>896</td>\n",
       "      <td>3</td>\n",
       "      <td>1</td>\n",
       "      <td>1</td>\n",
       "      <td>1</td>\n",
       "      <td>0</td>\n",
       "      <td>0</td>\n",
       "      <td>0</td>\n",
       "      <td>1</td>\n",
       "      <td>0</td>\n",
       "      <td>3</td>\n",
       "    </tr>\n",
       "  </tbody>\n",
       "</table>\n",
       "</div>"
      ],
      "text/plain": [
       "   PassengerId  Pclass  Sex  Age  Fare  Embarked  Single  SmallF  MedF  \\\n",
       "0          892       3    0    2     0         2       1       0     0   \n",
       "1          893       3    1    2     0         0       0       1     0   \n",
       "2          894       2    0    3     1         2       1       0     0   \n",
       "3          895       3    0    1     1         0       1       0     0   \n",
       "4          896       3    1    1     1         0       0       0     1   \n",
       "\n",
       "   LargeF  Title  \n",
       "0       0      1  \n",
       "1       0      3  \n",
       "2       0      1  \n",
       "3       0      1  \n",
       "4       0      3  "
      ]
     },
     "execution_count": 46,
     "metadata": {},
     "output_type": "execute_result"
    }
   ],
   "source": [
    "test_data.head()"
   ]
  },
  {
   "cell_type": "markdown",
   "id": "33746c53",
   "metadata": {
    "papermill": {
     "duration": 0.028875,
     "end_time": "2022-10-24T02:07:34.692221",
     "exception": false,
     "start_time": "2022-10-24T02:07:34.663346",
     "status": "completed"
    },
    "tags": []
   },
   "source": [
    "<div style=\"color:#00ADB5;\n",
    "           display:fill;\n",
    "           border-radius:5px;\n",
    "           background-color:#393E46;\n",
    "           font-size:20px;\n",
    "           font-family:sans-serif;\n",
    "           letter-spacing:0.5px\">\n",
    "        <p style=\"padding: 10px;\n",
    "              color:white;\">\n",
    "            <b> 5 ) Modeling:</b>\n",
    "        </p>\n",
    "</div>\n",
    "\n"
   ]
  },
  {
   "cell_type": "code",
   "execution_count": 47,
   "id": "882844f5",
   "metadata": {
    "execution": {
     "iopub.execute_input": "2022-10-24T02:07:34.753151Z",
     "iopub.status.busy": "2022-10-24T02:07:34.752234Z",
     "iopub.status.idle": "2022-10-24T02:07:35.267045Z",
     "shell.execute_reply": "2022-10-24T02:07:35.265800Z"
    },
    "papermill": {
     "duration": 0.549201,
     "end_time": "2022-10-24T02:07:35.269825",
     "exception": false,
     "start_time": "2022-10-24T02:07:34.720624",
     "status": "completed"
    },
    "tags": []
   },
   "outputs": [],
   "source": [
    "from sklearn.ensemble import RandomForestClassifier, AdaBoostClassifier, GradientBoostingClassifier, ExtraTreesClassifier, VotingClassifier\n",
    "from sklearn.discriminant_analysis import LinearDiscriminantAnalysis\n",
    "from sklearn.linear_model import LogisticRegression\n",
    "from sklearn.neighbors import KNeighborsClassifier\n",
    "from sklearn.tree import DecisionTreeClassifier\n",
    "from sklearn.neural_network import MLPClassifier\n",
    "from sklearn.svm import SVC\n",
    "from sklearn.model_selection import GridSearchCV, cross_val_score, StratifiedKFold, learning_curve"
   ]
  },
  {
   "cell_type": "code",
   "execution_count": 48,
   "id": "935f2574",
   "metadata": {
    "execution": {
     "iopub.execute_input": "2022-10-24T02:07:35.330226Z",
     "iopub.status.busy": "2022-10-24T02:07:35.329478Z",
     "iopub.status.idle": "2022-10-24T02:07:35.339327Z",
     "shell.execute_reply": "2022-10-24T02:07:35.337431Z"
    },
    "papermill": {
     "duration": 0.04426,
     "end_time": "2022-10-24T02:07:35.343265",
     "exception": false,
     "start_time": "2022-10-24T02:07:35.299005",
     "status": "completed"
    },
    "tags": []
   },
   "outputs": [
    {
     "name": "stdout",
     "output_type": "stream",
     "text": [
      "X_train shape is = (891, 10)\n",
      "Y_train shape is = (891,)\n",
      "Test shape is = (418, 10)\n"
     ]
    }
   ],
   "source": [
    "# ==================================================================================\n",
    "# Preparing Data For Training:\n",
    "# ==================================================================================\n",
    "\n",
    "Y_train = train_data[\"Survived\"]\n",
    "X_train = train_data.drop(labels = [\"Survived\"],axis = 1)\n",
    "Test = test_data.drop(labels = [\"PassengerId\"],axis = 1)\n",
    "print(f\"X_train shape is = {X_train.shape}\" )\n",
    "print(f\"Y_train shape is = {Y_train.shape}\" )\n",
    "print(f\"Test shape is = {Test.shape}\" )"
   ]
  },
  {
   "cell_type": "code",
   "execution_count": 49,
   "id": "f872872f",
   "metadata": {
    "execution": {
     "iopub.execute_input": "2022-10-24T02:07:35.402734Z",
     "iopub.status.busy": "2022-10-24T02:07:35.401876Z",
     "iopub.status.idle": "2022-10-24T02:07:35.407559Z",
     "shell.execute_reply": "2022-10-24T02:07:35.406526Z"
    },
    "papermill": {
     "duration": 0.03797,
     "end_time": "2022-10-24T02:07:35.410209",
     "exception": false,
     "start_time": "2022-10-24T02:07:35.372239",
     "status": "completed"
    },
    "tags": []
   },
   "outputs": [],
   "source": [
    "# Cross validate model with Kfold stratified cross val\n",
    "kfold = StratifiedKFold(n_splits=10)"
   ]
  },
  {
   "cell_type": "code",
   "execution_count": 50,
   "id": "0019f9bb",
   "metadata": {
    "execution": {
     "iopub.execute_input": "2022-10-24T02:07:35.470274Z",
     "iopub.status.busy": "2022-10-24T02:07:35.469427Z",
     "iopub.status.idle": "2022-10-24T02:07:43.652802Z",
     "shell.execute_reply": "2022-10-24T02:07:43.651263Z"
    },
    "papermill": {
     "duration": 8.21652,
     "end_time": "2022-10-24T02:07:43.655474",
     "exception": false,
     "start_time": "2022-10-24T02:07:35.438954",
     "status": "completed"
    },
    "tags": []
   },
   "outputs": [
    {
     "data": {
      "image/png": "[encoded data removed]",
      "text/plain": [
       "<Figure size 720x432 with 1 Axes>"
      ]
     },
     "metadata": {},
     "output_type": "display_data"
    }
   ],
   "source": [
    "# Modeling step Test differents algorithms \n",
    "random_state = 2\n",
    "classifiers = []\n",
    "classifiers.append(SVC(random_state=random_state))\n",
    "classifiers.append(DecisionTreeClassifier(random_state=random_state))\n",
    "classifiers.append(AdaBoostClassifier(DecisionTreeClassifier(random_state=random_state),random_state=random_state,learning_rate=0.1))\n",
    "classifiers.append(RandomForestClassifier(random_state=random_state))\n",
    "classifiers.append(ExtraTreesClassifier(random_state=random_state))\n",
    "classifiers.append(GradientBoostingClassifier(random_state=random_state))\n",
    "classifiers.append(MLPClassifier(random_state=random_state))\n",
    "classifiers.append(KNeighborsClassifier())\n",
    "classifiers.append(LogisticRegression(random_state = random_state))\n",
    "classifiers.append(LinearDiscriminantAnalysis())\n",
    "\n",
    "cv_results = []\n",
    "for classifier in classifiers :\n",
    "    cv_results.append(cross_val_score(classifier, X_train, y = Y_train, scoring = \"accuracy\", cv = kfold, n_jobs=4))\n",
    "\n",
    "cv_means = []\n",
    "cv_std = []\n",
    "for cv_result in cv_results:\n",
    "    cv_means.append(cv_result.mean())\n",
    "    cv_std.append(cv_result.std())\n",
    "\n",
    "cv_res = pd.DataFrame({\"CrossValMeans\":cv_means,\"CrossValerrors\": cv_std,\"Algorithm\":[\"SVC\",\"DecisionTree\",\"AdaBoost\",\n",
    "\"RandomForest\",\"ExtraTrees\",\"GradientBoosting\",\"MultipleLayerPerceptron\",\"KNeighboors\",\"LogisticRegression\",\"LinearDiscriminantAnalysis\"]})\n",
    "\n",
    "g = sns.barplot(\"CrossValMeans\",\"Algorithm\",data = cv_res, palette=\"Set3\",orient = \"h\",**{'xerr':cv_std})\n",
    "g.set_xlabel(\"Mean Accuracy\")\n",
    "g = g.set_title(\"Cross validation scores\")"
   ]
  },
  {
   "cell_type": "code",
   "execution_count": 51,
   "id": "f18d747b",
   "metadata": {
    "execution": {
     "iopub.execute_input": "2022-10-24T02:07:43.717206Z",
     "iopub.status.busy": "2022-10-24T02:07:43.716382Z",
     "iopub.status.idle": "2022-10-24T02:07:48.109121Z",
     "shell.execute_reply": "2022-10-24T02:07:48.108003Z"
    },
    "papermill": {
     "duration": 4.426692,
     "end_time": "2022-10-24T02:07:48.111820",
     "exception": false,
     "start_time": "2022-10-24T02:07:43.685128",
     "status": "completed"
    },
    "tags": []
   },
   "outputs": [
    {
     "name": "stdout",
     "output_type": "stream",
     "text": [
      "Fitting 10 folds for each of 112 candidates, totalling 1120 fits\n"
     ]
    },
    {
     "data": {
      "text/plain": [
       "0.8159925093632958"
      ]
     },
     "execution_count": 51,
     "metadata": {},
     "output_type": "execute_result"
    }
   ],
   "source": [
    "### META MODELING  WITH ADABOOST, RF, EXTRATREES and GRADIENTBOOSTING\n",
    "\n",
    "# Adaboost\n",
    "DTC = DecisionTreeClassifier()\n",
    "\n",
    "adaDTC = AdaBoostClassifier(DTC, random_state=7)\n",
    "\n",
    "ada_param_grid = {\"base_estimator__criterion\" : [\"gini\", \"entropy\"],\n",
    "              \"base_estimator__splitter\" :   [\"best\", \"random\"],\n",
    "              \"algorithm\" : [\"SAMME\",\"SAMME.R\"],\n",
    "              \"n_estimators\" :[1,2],\n",
    "              \"learning_rate\":  [0.0001, 0.001, 0.01, 0.1, 0.2, 0.3,1.5]}\n",
    "\n",
    "gsadaDTC = GridSearchCV(adaDTC,param_grid = ada_param_grid, cv=kfold, scoring=\"accuracy\", n_jobs= 4, verbose = 1)\n",
    "\n",
    "gsadaDTC.fit(X_train,Y_train)\n",
    "\n",
    "ada_best = gsadaDTC.best_estimator_\n",
    "\n",
    "gsadaDTC.best_score_"
   ]
  },
  {
   "cell_type": "code",
   "execution_count": 52,
   "id": "8752d65c",
   "metadata": {
    "execution": {
     "iopub.execute_input": "2022-10-24T02:07:48.175321Z",
     "iopub.status.busy": "2022-10-24T02:07:48.174465Z",
     "iopub.status.idle": "2022-10-24T02:08:55.872143Z",
     "shell.execute_reply": "2022-10-24T02:08:55.870898Z"
    },
    "papermill": {
     "duration": 67.761537,
     "end_time": "2022-10-24T02:08:55.904013",
     "exception": false,
     "start_time": "2022-10-24T02:07:48.142476",
     "status": "completed"
    },
    "tags": []
   },
   "outputs": [
    {
     "name": "stdout",
     "output_type": "stream",
     "text": [
      "Fitting 10 folds for each of 54 candidates, totalling 540 fits\n"
     ]
    },
    {
     "data": {
      "text/plain": [
       "0.8294382022471909"
      ]
     },
     "execution_count": 52,
     "metadata": {},
     "output_type": "execute_result"
    }
   ],
   "source": [
    "#ExtraTrees \n",
    "ExtC = ExtraTreesClassifier()\n",
    "\n",
    "\n",
    "## Search grid for optimal parameters\n",
    "ex_param_grid = {\"max_depth\": [None],\n",
    "              \"max_features\": [1, 3, 10],\n",
    "              \"min_samples_split\": [2, 3, 10],\n",
    "              \"min_samples_leaf\": [1, 3, 10],\n",
    "              \"bootstrap\": [False],\n",
    "              \"n_estimators\" :[100,300],\n",
    "              \"criterion\": [\"gini\"]}\n",
    "\n",
    "\n",
    "gsExtC = GridSearchCV(ExtC,param_grid = ex_param_grid, cv=kfold, scoring=\"accuracy\", n_jobs= 4, verbose = 1)\n",
    "\n",
    "gsExtC.fit(X_train,Y_train)\n",
    "\n",
    "ExtC_best = gsExtC.best_estimator_\n",
    "\n",
    "# Best score\n",
    "gsExtC.best_score_"
   ]
  },
  {
   "cell_type": "code",
   "execution_count": 53,
   "id": "98465c91",
   "metadata": {
    "execution": {
     "iopub.execute_input": "2022-10-24T02:08:55.963715Z",
     "iopub.status.busy": "2022-10-24T02:08:55.963309Z",
     "iopub.status.idle": "2022-10-24T02:10:08.280319Z",
     "shell.execute_reply": "2022-10-24T02:10:08.278930Z"
    },
    "papermill": {
     "duration": 72.378899,
     "end_time": "2022-10-24T02:10:08.311666",
     "exception": false,
     "start_time": "2022-10-24T02:08:55.932767",
     "status": "completed"
    },
    "tags": []
   },
   "outputs": [
    {
     "name": "stdout",
     "output_type": "stream",
     "text": [
      "Fitting 10 folds for each of 54 candidates, totalling 540 fits\n"
     ]
    },
    {
     "data": {
      "text/plain": [
       "0.83167290886392"
      ]
     },
     "execution_count": 53,
     "metadata": {},
     "output_type": "execute_result"
    }
   ],
   "source": [
    "# RFC Parameters tunning \n",
    "RFC = RandomForestClassifier()\n",
    "\n",
    "\n",
    "## Search grid for optimal parameters\n",
    "rf_param_grid = {\"max_depth\": [None],\n",
    "              \"max_features\": [1, 3, 10],\n",
    "              \"min_samples_split\": [2, 3, 10],\n",
    "              \"min_samples_leaf\": [1, 3, 10],\n",
    "              \"bootstrap\": [False],\n",
    "              \"n_estimators\" :[100,300],\n",
    "              \"criterion\": [\"gini\"]}\n",
    "\n",
    "\n",
    "gsRFC = GridSearchCV(RFC,param_grid = rf_param_grid, cv=kfold, scoring=\"accuracy\", n_jobs= 4, verbose = 1)\n",
    "\n",
    "gsRFC.fit(X_train,Y_train)\n",
    "\n",
    "RFC_best = gsRFC.best_estimator_\n",
    "\n",
    "# Best score\n",
    "gsRFC.best_score_"
   ]
  },
  {
   "cell_type": "code",
   "execution_count": 54,
   "id": "86b96b0f",
   "metadata": {
    "execution": {
     "iopub.execute_input": "2022-10-24T02:10:08.375343Z",
     "iopub.status.busy": "2022-10-24T02:10:08.374900Z",
     "iopub.status.idle": "2022-10-24T02:10:46.775629Z",
     "shell.execute_reply": "2022-10-24T02:10:46.774326Z"
    },
    "papermill": {
     "duration": 38.46499,
     "end_time": "2022-10-24T02:10:46.807666",
     "exception": false,
     "start_time": "2022-10-24T02:10:08.342676",
     "status": "completed"
    },
    "tags": []
   },
   "outputs": [
    {
     "name": "stdout",
     "output_type": "stream",
     "text": [
      "Fitting 10 folds for each of 72 candidates, totalling 720 fits\n"
     ]
    },
    {
     "data": {
      "text/plain": [
       "0.8282771535580524"
      ]
     },
     "execution_count": 54,
     "metadata": {},
     "output_type": "execute_result"
    }
   ],
   "source": [
    "# Gradient boosting tunning\n",
    "\n",
    "GBC = GradientBoostingClassifier()\n",
    "gb_param_grid = {'loss' : [\"deviance\"],\n",
    "              'n_estimators' : [100,200,300],\n",
    "              'learning_rate': [0.1, 0.05, 0.01],\n",
    "              'max_depth': [4, 8],\n",
    "              'min_samples_leaf': [100,150],\n",
    "              'max_features': [0.3, 0.1] \n",
    "              }\n",
    "\n",
    "gsGBC = GridSearchCV(GBC,param_grid = gb_param_grid, cv=kfold, scoring=\"accuracy\", n_jobs= 4, verbose = 1)\n",
    "\n",
    "gsGBC.fit(X_train,Y_train)\n",
    "\n",
    "GBC_best = gsGBC.best_estimator_\n",
    "\n",
    "# Best score\n",
    "gsGBC.best_score_"
   ]
  },
  {
   "cell_type": "code",
   "execution_count": 55,
   "id": "1e1cb65b",
   "metadata": {
    "execution": {
     "iopub.execute_input": "2022-10-24T02:10:46.870808Z",
     "iopub.status.busy": "2022-10-24T02:10:46.870087Z",
     "iopub.status.idle": "2022-10-24T02:11:17.237900Z",
     "shell.execute_reply": "2022-10-24T02:11:17.236646Z"
    },
    "papermill": {
     "duration": 30.502367,
     "end_time": "2022-10-24T02:11:17.341206",
     "exception": false,
     "start_time": "2022-10-24T02:10:46.838839",
     "status": "completed"
    },
    "tags": []
   },
   "outputs": [
    {
     "name": "stdout",
     "output_type": "stream",
     "text": [
      "Fitting 10 folds for each of 28 candidates, totalling 280 fits\n"
     ]
    },
    {
     "data": {
      "text/plain": [
       "0.8338951310861423"
      ]
     },
     "execution_count": 55,
     "metadata": {},
     "output_type": "execute_result"
    }
   ],
   "source": [
    "### SVC classifier\n",
    "SVMC = SVC(probability=True)\n",
    "svc_param_grid = {'kernel': ['rbf'], \n",
    "                  'gamma': [ 0.001, 0.01, 0.1, 1],\n",
    "                  'C': [1, 10, 50, 100,200,300, 1000]}\n",
    "\n",
    "gsSVMC = GridSearchCV(SVMC,param_grid = svc_param_grid, cv=kfold, scoring=\"accuracy\", n_jobs= 4, verbose = 1)\n",
    "\n",
    "gsSVMC.fit(X_train,Y_train)\n",
    "\n",
    "SVMC_best = gsSVMC.best_estimator_\n",
    "\n",
    "# Best score\n",
    "gsSVMC.best_score_"
   ]
  },
  {
   "cell_type": "code",
   "execution_count": 56,
   "id": "e50bb5a3",
   "metadata": {
    "execution": {
     "iopub.execute_input": "2022-10-24T02:11:17.402355Z",
     "iopub.status.busy": "2022-10-24T02:11:17.401857Z",
     "iopub.status.idle": "2022-10-24T02:11:36.971896Z",
     "shell.execute_reply": "2022-10-24T02:11:36.970520Z"
    },
    "papermill": {
     "duration": 19.604352,
     "end_time": "2022-10-24T02:11:36.974630",
     "exception": false,
     "start_time": "2022-10-24T02:11:17.370278",
     "status": "completed"
    },
    "tags": []
   },
   "outputs": [
    {
     "data": {
      "image/png": "[encoded data removed]",
      "text/plain": [
       "<Figure size 720x432 with 1 Axes>"
      ]
     },
     "metadata": {},
     "output_type": "display_data"
    },
    {
     "data": {
      "image/png": "[encoded data removed]",
      "text/plain": [
       "<Figure size 720x432 with 1 Axes>"
      ]
     },
     "metadata": {},
     "output_type": "display_data"
    },
    {
     "data": {
      "image/png": "[encoded data removed]",
      "text/plain": [
       "<Figure size 720x432 with 1 Axes>"
      ]
     },
     "metadata": {},
     "output_type": "display_data"
    },
    {
     "data": {
      "image/png": "[encoded data removed]",
      "text/plain": [
       "<Figure size 720x432 with 1 Axes>"
      ]
     },
     "metadata": {},
     "output_type": "display_data"
    },
    {
     "data": {
      "image/png": "[encoded data removed]",
      "text/plain": [
       "<Figure size 720x432 with 1 Axes>"
      ]
     },
     "metadata": {},
     "output_type": "display_data"
    }
   ],
   "source": [
    "def plot_learning_curve(estimator, title, X, y, ylim=None, cv=None,\n",
    "                        n_jobs=-1, train_sizes=np.linspace(.1, 1.0, 5)):\n",
    "    \"\"\"Generate a simple plot of the test and training learning curve\"\"\"\n",
    "    plt.figure()\n",
    "    plt.title(title)\n",
    "    if ylim is not None:\n",
    "        plt.ylim(*ylim)\n",
    "    plt.xlabel(\"Training examples\")\n",
    "    plt.ylabel(\"Score\")\n",
    "    train_sizes, train_scores, test_scores = learning_curve(\n",
    "        estimator, X, y, cv=cv, n_jobs=n_jobs, train_sizes=train_sizes)\n",
    "    train_scores_mean = np.mean(train_scores, axis=1)\n",
    "    train_scores_std = np.std(train_scores, axis=1)\n",
    "    test_scores_mean = np.mean(test_scores, axis=1)\n",
    "    test_scores_std = np.std(test_scores, axis=1)\n",
    "    plt.grid()\n",
    "\n",
    "    plt.fill_between(train_sizes, train_scores_mean - train_scores_std,\n",
    "                     train_scores_mean + train_scores_std, alpha=0.1,\n",
    "                     color=\"r\")\n",
    "    plt.fill_between(train_sizes, test_scores_mean - test_scores_std,\n",
    "                     test_scores_mean + test_scores_std, alpha=0.1, color=\"g\")\n",
    "    plt.plot(train_sizes, train_scores_mean, 'o-', color=\"r\",\n",
    "             label=\"Training score\")\n",
    "    plt.plot(train_sizes, test_scores_mean, 'o-', color=\"g\",\n",
    "             label=\"Cross-validation score\")\n",
    "\n",
    "    plt.legend(loc=\"best\")\n",
    "    return plt\n",
    "\n",
    "g = plot_learning_curve(gsRFC.best_estimator_,\"RF mearning curves\",X_train,Y_train,cv=kfold)\n",
    "g = plot_learning_curve(gsExtC.best_estimator_,\"ExtraTrees learning curves\",X_train,Y_train,cv=kfold)\n",
    "g = plot_learning_curve(gsSVMC.best_estimator_,\"SVC learning curves\",X_train,Y_train,cv=kfold)\n",
    "g = plot_learning_curve(gsadaDTC.best_estimator_,\"AdaBoost learning curves\",X_train,Y_train,cv=kfold)\n",
    "g = plot_learning_curve(gsGBC.best_estimator_,\"GradientBoosting learning curves\",X_train,Y_train,cv=kfold)"
   ]
  },
  {
   "cell_type": "code",
   "execution_count": 57,
   "id": "4a485699",
   "metadata": {
    "execution": {
     "iopub.execute_input": "2022-10-24T02:11:37.045321Z",
     "iopub.status.busy": "2022-10-24T02:11:37.044212Z",
     "iopub.status.idle": "2022-10-24T02:11:37.506018Z",
     "shell.execute_reply": "2022-10-24T02:11:37.504527Z"
    },
    "papermill": {
     "duration": 0.5018,
     "end_time": "2022-10-24T02:11:37.509474",
     "exception": false,
     "start_time": "2022-10-24T02:11:37.007674",
     "status": "completed"
    },
    "tags": []
   },
   "outputs": [
    {
     "data": {
      "image/png": "[encoded data removed]",
      "text/plain": [
       "<Figure size 720x432 with 2 Axes>"
      ]
     },
     "metadata": {},
     "output_type": "display_data"
    }
   ],
   "source": [
    "test_Survived_RFC = pd.Series(RFC_best.predict(Test), name=\"RFC\")\n",
    "test_Survived_ExtC = pd.Series(ExtC_best.predict(Test), name=\"ExtC\")\n",
    "test_Survived_SVMC = pd.Series(SVMC_best.predict(Test), name=\"SVC\")\n",
    "test_Survived_AdaC = pd.Series(ada_best.predict(Test), name=\"Ada\")\n",
    "test_Survived_GBC = pd.Series(GBC_best.predict(Test), name=\"GBC\")\n",
    "\n",
    "\n",
    "\n",
    "# Concatenate all classifier results\n",
    "ensemble_results = pd.concat([test_Survived_RFC,test_Survived_ExtC,test_Survived_AdaC,test_Survived_GBC, test_Survived_SVMC],axis=1)\n",
    "\n",
    "\n",
    "g= sns.heatmap(ensemble_results.corr(),annot=True)"
   ]
  },
  {
   "cell_type": "code",
   "execution_count": 58,
   "id": "e8d6c2b1",
   "metadata": {
    "execution": {
     "iopub.execute_input": "2022-10-24T02:11:37.577874Z",
     "iopub.status.busy": "2022-10-24T02:11:37.577390Z",
     "iopub.status.idle": "2022-10-24T02:11:37.941301Z",
     "shell.execute_reply": "2022-10-24T02:11:37.939890Z"
    },
    "papermill": {
     "duration": 0.401504,
     "end_time": "2022-10-24T02:11:37.944240",
     "exception": false,
     "start_time": "2022-10-24T02:11:37.542736",
     "status": "completed"
    },
    "tags": []
   },
   "outputs": [
    {
     "data": {
      "image/png": "[encoded data removed]",
      "text/plain": [
       "<Figure size 720x432 with 2 Axes>"
      ]
     },
     "metadata": {},
     "output_type": "display_data"
    }
   ],
   "source": [
    "\n",
    "# Concatenate all classifier results\n",
    "ensemble_results = pd.concat([test_Survived_RFC,test_Survived_ExtC,test_Survived_AdaC,test_Survived_GBC, test_Survived_SVMC],axis=1)\n",
    "\n",
    "\n",
    "g= sns.heatmap(ensemble_results.corr(),annot=True)"
   ]
  },
  {
   "cell_type": "code",
   "execution_count": 59,
   "id": "5ecfd2ab",
   "metadata": {
    "execution": {
     "iopub.execute_input": "2022-10-24T02:11:38.015340Z",
     "iopub.status.busy": "2022-10-24T02:11:38.014931Z",
     "iopub.status.idle": "2022-10-24T02:11:38.691037Z",
     "shell.execute_reply": "2022-10-24T02:11:38.689863Z"
    },
    "papermill": {
     "duration": 0.714968,
     "end_time": "2022-10-24T02:11:38.694023",
     "exception": false,
     "start_time": "2022-10-24T02:11:37.979055",
     "status": "completed"
    },
    "tags": []
   },
   "outputs": [],
   "source": [
    "votingC = VotingClassifier(estimators=[('rfc', RFC_best), ('extc', ExtC_best),\n",
    "('svc', SVMC_best), ('adac',ada_best),('gbc',GBC_best)], voting='soft', n_jobs=4)\n",
    "\n",
    "votingC = votingC.fit(X_train, Y_train)"
   ]
  },
  {
   "cell_type": "code",
   "execution_count": 60,
   "id": "07cc39af",
   "metadata": {
    "execution": {
     "iopub.execute_input": "2022-10-24T02:11:38.763455Z",
     "iopub.status.busy": "2022-10-24T02:11:38.762979Z",
     "iopub.status.idle": "2022-10-24T02:11:38.869409Z",
     "shell.execute_reply": "2022-10-24T02:11:38.867990Z"
    },
    "papermill": {
     "duration": 0.144464,
     "end_time": "2022-10-24T02:11:38.872487",
     "exception": false,
     "start_time": "2022-10-24T02:11:38.728023",
     "status": "completed"
    },
    "tags": []
   },
   "outputs": [],
   "source": [
    "test_Survived = pd.Series(votingC.predict(Test), name=\"Survived\")\n",
    "\n",
    "results = pd.concat([test_data.PassengerId,test_Survived],axis=1)\n",
    "\n",
    "results.to_csv(\"ensemble_python_voting.csv\",index=False)"
   ]
  },
  {
   "cell_type": "markdown",
   "id": "5345c66d",
   "metadata": {
    "papermill": {
     "duration": 0.033541,
     "end_time": "2022-10-24T02:11:38.941340",
     "exception": false,
     "start_time": "2022-10-24T02:11:38.907799",
     "status": "completed"
    },
    "tags": []
   },
   "source": [
    "### References:\n",
    "- https://www.kaggle.com/code/startupsci/titanic-data-science-solutions\n",
    "- https://www.kaggle.com/code/yassineghouzam/titanic-top-4-with-ensemble-modeling"
   ]
  }
 ],
 "metadata": {
  "kernelspec": {
   "display_name": "Python 3",
   "language": "python",
   "name": "python3"
  },
  "language_info": {
   "codemirror_mode": {
    "name": "ipython",
    "version": 3
   },
   "file_extension": ".py",
   "mimetype": "text/x-python",
   "name": "python",
   "nbconvert_exporter": "python",
   "pygments_lexer": "ipython3",
   "version": "3.7.12"
  },
  "papermill": {
   "default_parameters": {},
   "duration": 268.237595,
   "end_time": "2022-10-24T02:11:41.598204",
   "environment_variables": {},
   "exception": null,
   "input_path": "__notebook__.ipynb",
   "output_path": "__notebook__.ipynb",
   "parameters": {},
   "start_time": "2022-10-24T02:07:13.360609",
   "version": "2.3.4"
  }
 },
 "nbformat": 4,
 "nbformat_minor": 5
}
