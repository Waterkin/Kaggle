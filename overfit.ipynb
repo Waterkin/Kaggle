{
 "cells": [
  {
   "cell_type": "code",
   "execution_count": 1,
   "id": "bf700984",
   "metadata": {
    "_cell_guid": "b1076dfc-b9ad-4769-8c92-a6c4dae69d19",
    "_uuid": "8f2839f25d086af736a60e9eeb907d3b93b6e0e5",
    "execution": {
     "iopub.execute_input": "2022-10-23T09:48:50.530240Z",
     "iopub.status.busy": "2022-10-23T09:48:50.529605Z",
     "iopub.status.idle": "2022-10-23T09:48:51.619753Z",
     "shell.execute_reply": "2022-10-23T09:48:51.618233Z"
    },
    "papermill": {
     "duration": 1.102551,
     "end_time": "2022-10-23T09:48:51.622951",
     "exception": false,
     "start_time": "2022-10-23T09:48:50.520400",
     "status": "completed"
    },
    "tags": []
   },
   "outputs": [
    {
     "name": "stdout",
     "output_type": "stream",
     "text": [
      "/kaggle/input/titanic/train.csv\n",
      "/kaggle/input/titanic/test.csv\n",
      "/kaggle/input/titanic/gender_submission.csv\n"
     ]
    }
   ],
   "source": [
    "import numpy as np # linear algebra\n",
    "import pandas as pd # data processing, CSV file I/O (e.g. pd.read_csv)\n",
    "import matplotlib.pyplot as plt # data visualization\n",
    "import seaborn as sns # data visualization\n",
    "import os \n",
    "\n",
    "for dirname, _, filenames in os.walk('/kaggle/input'): # fetch dataset\n",
    "    for filename in filenames:\n",
    "        print(os.path.join(dirname, filename))"
   ]
  },
  {
   "cell_type": "markdown",
   "id": "079a782a",
   "metadata": {
    "papermill": {
     "duration": 0.00559,
     "end_time": "2022-10-23T09:48:51.634748",
     "exception": false,
     "start_time": "2022-10-23T09:48:51.629158",
     "status": "completed"
    },
    "tags": []
   },
   "source": [
    "### Acquire data:"
   ]
  },
  {
   "cell_type": "code",
   "execution_count": 2,
   "id": "a60132c5",
   "metadata": {
    "execution": {
     "iopub.execute_input": "2022-10-23T09:48:51.647922Z",
     "iopub.status.busy": "2022-10-23T09:48:51.647484Z",
     "iopub.status.idle": "2022-10-23T09:48:51.679105Z",
     "shell.execute_reply": "2022-10-23T09:48:51.677521Z"
    },
    "papermill": {
     "duration": 0.041872,
     "end_time": "2022-10-23T09:48:51.682315",
     "exception": false,
     "start_time": "2022-10-23T09:48:51.640443",
     "status": "completed"
    },
    "tags": []
   },
   "outputs": [
    {
     "name": "stdout",
     "output_type": "stream",
     "text": [
      "Train data imported successfully!!\n",
      "--------------------------------------------------\n",
      "Test data imported successfully!!\n"
     ]
    }
   ],
   "source": [
    "def read_data():\n",
    "    train_data = pd.read_csv(\"/kaggle/input/titanic/train.csv\")\n",
    "    print(\"Train data imported successfully!!\")\n",
    "    print(\"-\"*50)\n",
    "    test_data = pd.read_csv(\"/kaggle/input/titanic/test.csv\")\n",
    "    print(\"Test data imported successfully!!\")\n",
    "    return train_data , test_data\n",
    "train_data , test_data = read_data()"
   ]
  },
  {
   "cell_type": "code",
   "execution_count": 3,
   "id": "af9f902b",
   "metadata": {
    "execution": {
     "iopub.execute_input": "2022-10-23T09:48:51.696300Z",
     "iopub.status.busy": "2022-10-23T09:48:51.695931Z",
     "iopub.status.idle": "2022-10-23T09:48:51.722736Z",
     "shell.execute_reply": "2022-10-23T09:48:51.721403Z"
    },
    "papermill": {
     "duration": 0.036481,
     "end_time": "2022-10-23T09:48:51.725191",
     "exception": false,
     "start_time": "2022-10-23T09:48:51.688710",
     "status": "completed"
    },
    "tags": []
   },
   "outputs": [
    {
     "data": {
      "text/html": [
       "<div>\n",
       "<style scoped>\n",
       "    .dataframe tbody tr th:only-of-type {\n",
       "        vertical-align: middle;\n",
       "    }\n",
       "\n",
       "    .dataframe tbody tr th {\n",
       "        vertical-align: top;\n",
       "    }\n",
       "\n",
       "    .dataframe thead th {\n",
       "        text-align: right;\n",
       "    }\n",
       "</style>\n",
       "<table border=\"1\" class=\"dataframe\">\n",
       "  <thead>\n",
       "    <tr style=\"text-align: right;\">\n",
       "      <th></th>\n",
       "      <th>PassengerId</th>\n",
       "      <th>Survived</th>\n",
       "      <th>Pclass</th>\n",
       "      <th>Name</th>\n",
       "      <th>Sex</th>\n",
       "      <th>Age</th>\n",
       "      <th>SibSp</th>\n",
       "      <th>Parch</th>\n",
       "      <th>Ticket</th>\n",
       "      <th>Fare</th>\n",
       "      <th>Cabin</th>\n",
       "      <th>Embarked</th>\n",
       "    </tr>\n",
       "  </thead>\n",
       "  <tbody>\n",
       "    <tr>\n",
       "      <th>0</th>\n",
       "      <td>1</td>\n",
       "      <td>0</td>\n",
       "      <td>3</td>\n",
       "      <td>Braund, Mr. Owen Harris</td>\n",
       "      <td>male</td>\n",
       "      <td>22.0</td>\n",
       "      <td>1</td>\n",
       "      <td>0</td>\n",
       "      <td>A/5 21171</td>\n",
       "      <td>7.2500</td>\n",
       "      <td>NaN</td>\n",
       "      <td>S</td>\n",
       "    </tr>\n",
       "    <tr>\n",
       "      <th>1</th>\n",
       "      <td>2</td>\n",
       "      <td>1</td>\n",
       "      <td>1</td>\n",
       "      <td>Cumings, Mrs. John Bradley (Florence Briggs Th...</td>\n",
       "      <td>female</td>\n",
       "      <td>38.0</td>\n",
       "      <td>1</td>\n",
       "      <td>0</td>\n",
       "      <td>PC 17599</td>\n",
       "      <td>71.2833</td>\n",
       "      <td>C85</td>\n",
       "      <td>C</td>\n",
       "    </tr>\n",
       "    <tr>\n",
       "      <th>2</th>\n",
       "      <td>3</td>\n",
       "      <td>1</td>\n",
       "      <td>3</td>\n",
       "      <td>Heikkinen, Miss. Laina</td>\n",
       "      <td>female</td>\n",
       "      <td>26.0</td>\n",
       "      <td>0</td>\n",
       "      <td>0</td>\n",
       "      <td>STON/O2. 3101282</td>\n",
       "      <td>7.9250</td>\n",
       "      <td>NaN</td>\n",
       "      <td>S</td>\n",
       "    </tr>\n",
       "    <tr>\n",
       "      <th>3</th>\n",
       "      <td>4</td>\n",
       "      <td>1</td>\n",
       "      <td>1</td>\n",
       "      <td>Futrelle, Mrs. Jacques Heath (Lily May Peel)</td>\n",
       "      <td>female</td>\n",
       "      <td>35.0</td>\n",
       "      <td>1</td>\n",
       "      <td>0</td>\n",
       "      <td>113803</td>\n",
       "      <td>53.1000</td>\n",
       "      <td>C123</td>\n",
       "      <td>S</td>\n",
       "    </tr>\n",
       "    <tr>\n",
       "      <th>4</th>\n",
       "      <td>5</td>\n",
       "      <td>0</td>\n",
       "      <td>3</td>\n",
       "      <td>Allen, Mr. William Henry</td>\n",
       "      <td>male</td>\n",
       "      <td>35.0</td>\n",
       "      <td>0</td>\n",
       "      <td>0</td>\n",
       "      <td>373450</td>\n",
       "      <td>8.0500</td>\n",
       "      <td>NaN</td>\n",
       "      <td>S</td>\n",
       "    </tr>\n",
       "  </tbody>\n",
       "</table>\n",
       "</div>"
      ],
      "text/plain": [
       "   PassengerId  Survived  Pclass  \\\n",
       "0            1         0       3   \n",
       "1            2         1       1   \n",
       "2            3         1       3   \n",
       "3            4         1       1   \n",
       "4            5         0       3   \n",
       "\n",
       "                                                Name     Sex   Age  SibSp  \\\n",
       "0                            Braund, Mr. Owen Harris    male  22.0      1   \n",
       "1  Cumings, Mrs. John Bradley (Florence Briggs Th...  female  38.0      1   \n",
       "2                             Heikkinen, Miss. Laina  female  26.0      0   \n",
       "3       Futrelle, Mrs. Jacques Heath (Lily May Peel)  female  35.0      1   \n",
       "4                           Allen, Mr. William Henry    male  35.0      0   \n",
       "\n",
       "   Parch            Ticket     Fare Cabin Embarked  \n",
       "0      0         A/5 21171   7.2500   NaN        S  \n",
       "1      0          PC 17599  71.2833   C85        C  \n",
       "2      0  STON/O2. 3101282   7.9250   NaN        S  \n",
       "3      0            113803  53.1000  C123        S  \n",
       "4      0            373450   8.0500   NaN        S  "
      ]
     },
     "execution_count": 3,
     "metadata": {},
     "output_type": "execute_result"
    }
   ],
   "source": [
    "# see the data structure\n",
    "train_data.head()"
   ]
  },
  {
   "cell_type": "markdown",
   "id": "2d94a6fb",
   "metadata": {
    "execution": {
     "iopub.execute_input": "2022-07-20T06:39:05.363944Z",
     "iopub.status.busy": "2022-07-20T06:39:05.363521Z",
     "iopub.status.idle": "2022-07-20T06:39:05.369594Z",
     "shell.execute_reply": "2022-07-20T06:39:05.368235Z",
     "shell.execute_reply.started": "2022-07-20T06:39:05.363911Z"
    },
    "papermill": {
     "duration": 0.005921,
     "end_time": "2022-10-23T09:48:51.737649",
     "exception": false,
     "start_time": "2022-10-23T09:48:51.731728",
     "status": "completed"
    },
    "tags": []
   },
   "source": [
    "#### Filling Blanks and Missed Data:"
   ]
  },
  {
   "cell_type": "code",
   "execution_count": 4,
   "id": "8fc86316",
   "metadata": {
    "execution": {
     "iopub.execute_input": "2022-10-23T09:48:51.751533Z",
     "iopub.status.busy": "2022-10-23T09:48:51.751085Z",
     "iopub.status.idle": "2022-10-23T09:48:51.762831Z",
     "shell.execute_reply": "2022-10-23T09:48:51.761733Z"
    },
    "papermill": {
     "duration": 0.021249,
     "end_time": "2022-10-23T09:48:51.764995",
     "exception": false,
     "start_time": "2022-10-23T09:48:51.743746",
     "status": "completed"
    },
    "tags": []
   },
   "outputs": [
    {
     "data": {
      "text/plain": [
       "PassengerId      0\n",
       "Survived         0\n",
       "Pclass           0\n",
       "Name             0\n",
       "Sex              0\n",
       "Age            177\n",
       "SibSp            0\n",
       "Parch            0\n",
       "Ticket           0\n",
       "Fare             0\n",
       "Cabin          687\n",
       "Embarked         2\n",
       "dtype: int64"
      ]
     },
     "execution_count": 4,
     "metadata": {},
     "output_type": "execute_result"
    }
   ],
   "source": [
    "train_data.isnull().sum()"
   ]
  },
  {
   "cell_type": "code",
   "execution_count": 5,
   "id": "a9010163",
   "metadata": {
    "execution": {
     "iopub.execute_input": "2022-10-23T09:48:51.779496Z",
     "iopub.status.busy": "2022-10-23T09:48:51.779097Z",
     "iopub.status.idle": "2022-10-23T09:48:51.788645Z",
     "shell.execute_reply": "2022-10-23T09:48:51.787425Z"
    },
    "papermill": {
     "duration": 0.01943,
     "end_time": "2022-10-23T09:48:51.790775",
     "exception": false,
     "start_time": "2022-10-23T09:48:51.771345",
     "status": "completed"
    },
    "tags": []
   },
   "outputs": [
    {
     "data": {
      "text/plain": [
       "PassengerId      0\n",
       "Pclass           0\n",
       "Name             0\n",
       "Sex              0\n",
       "Age             86\n",
       "SibSp            0\n",
       "Parch            0\n",
       "Ticket           0\n",
       "Fare             1\n",
       "Cabin          327\n",
       "Embarked         0\n",
       "dtype: int64"
      ]
     },
     "execution_count": 5,
     "metadata": {},
     "output_type": "execute_result"
    }
   ],
   "source": [
    "test_data.isnull().sum()"
   ]
  },
  {
   "cell_type": "markdown",
   "id": "e22aa013",
   "metadata": {
    "papermill": {
     "duration": 0.006328,
     "end_time": "2022-10-23T09:48:51.803585",
     "exception": false,
     "start_time": "2022-10-23T09:48:51.797257",
     "status": "completed"
    },
    "tags": []
   },
   "source": [
    "##### It's important to fill Age, Embarked, Fare features: "
   ]
  },
  {
   "cell_type": "code",
   "execution_count": 6,
   "id": "8fac8500",
   "metadata": {
    "execution": {
     "iopub.execute_input": "2022-10-23T09:48:51.818214Z",
     "iopub.status.busy": "2022-10-23T09:48:51.817837Z",
     "iopub.status.idle": "2022-10-23T09:48:51.829028Z",
     "shell.execute_reply": "2022-10-23T09:48:51.827815Z"
    },
    "papermill": {
     "duration": 0.02115,
     "end_time": "2022-10-23T09:48:51.831346",
     "exception": false,
     "start_time": "2022-10-23T09:48:51.810196",
     "status": "completed"
    },
    "tags": []
   },
   "outputs": [],
   "source": [
    "train_data['Embarked'] = train_data.Embarked.fillna(train_data.Embarked.dropna().max()) # 用最大值fillNA\n",
    "test_data['Fare'] = test_data.Fare.fillna(test_data.Fare.dropna().mean()) # 用平均值fillNA"
   ]
  },
  {
   "cell_type": "markdown",
   "id": "26ae0358",
   "metadata": {
    "papermill": {
     "duration": 0.00597,
     "end_time": "2022-10-23T09:48:51.843820",
     "exception": false,
     "start_time": "2022-10-23T09:48:51.837850",
     "status": "completed"
    },
    "tags": []
   },
   "source": [
    "##### we will guess the age from Pclass and Sex:"
   ]
  },
  {
   "cell_type": "code",
   "execution_count": 7,
   "id": "44163199",
   "metadata": {
    "execution": {
     "iopub.execute_input": "2022-10-23T09:48:51.858367Z",
     "iopub.status.busy": "2022-10-23T09:48:51.857968Z",
     "iopub.status.idle": "2022-10-23T09:48:51.865378Z",
     "shell.execute_reply": "2022-10-23T09:48:51.864291Z"
    },
    "papermill": {
     "duration": 0.017394,
     "end_time": "2022-10-23T09:48:51.867629",
     "exception": false,
     "start_time": "2022-10-23T09:48:51.850235",
     "status": "completed"
    },
    "tags": []
   },
   "outputs": [
    {
     "data": {
      "text/plain": [
       "array([[0., 0., 0.],\n",
       "       [0., 0., 0.]])"
      ]
     },
     "execution_count": 7,
     "metadata": {},
     "output_type": "execute_result"
    }
   ],
   "source": [
    "guess_ages = np.zeros((2,3))\n",
    "guess_ages"
   ]
  },
  {
   "cell_type": "markdown",
   "id": "3b28c39f",
   "metadata": {
    "papermill": {
     "duration": 0.006447,
     "end_time": "2022-10-23T09:48:51.881228",
     "exception": false,
     "start_time": "2022-10-23T09:48:51.874781",
     "status": "completed"
    },
    "tags": []
   },
   "source": [
    "Now we iterate over Sex (0 or 1) and Pclass (1, 2, 3) to calculate guessed values of Age for the six combinations."
   ]
  },
  {
   "cell_type": "code",
   "execution_count": 8,
   "id": "21c2bd2b",
   "metadata": {
    "execution": {
     "iopub.execute_input": "2022-10-23T09:48:51.897172Z",
     "iopub.status.busy": "2022-10-23T09:48:51.896327Z",
     "iopub.status.idle": "2022-10-23T09:48:51.954012Z",
     "shell.execute_reply": "2022-10-23T09:48:51.952747Z"
    },
    "papermill": {
     "duration": 0.068377,
     "end_time": "2022-10-23T09:48:51.956294",
     "exception": false,
     "start_time": "2022-10-23T09:48:51.887917",
     "status": "completed"
    },
    "tags": []
   },
   "outputs": [
    {
     "data": {
      "text/html": [
       "<div>\n",
       "<style scoped>\n",
       "    .dataframe tbody tr th:only-of-type {\n",
       "        vertical-align: middle;\n",
       "    }\n",
       "\n",
       "    .dataframe tbody tr th {\n",
       "        vertical-align: top;\n",
       "    }\n",
       "\n",
       "    .dataframe thead th {\n",
       "        text-align: right;\n",
       "    }\n",
       "</style>\n",
       "<table border=\"1\" class=\"dataframe\">\n",
       "  <thead>\n",
       "    <tr style=\"text-align: right;\">\n",
       "      <th></th>\n",
       "      <th>PassengerId</th>\n",
       "      <th>Survived</th>\n",
       "      <th>Pclass</th>\n",
       "      <th>Name</th>\n",
       "      <th>Sex</th>\n",
       "      <th>Age</th>\n",
       "      <th>SibSp</th>\n",
       "      <th>Parch</th>\n",
       "      <th>Ticket</th>\n",
       "      <th>Fare</th>\n",
       "      <th>Cabin</th>\n",
       "      <th>Embarked</th>\n",
       "    </tr>\n",
       "  </thead>\n",
       "  <tbody>\n",
       "    <tr>\n",
       "      <th>0</th>\n",
       "      <td>1</td>\n",
       "      <td>0</td>\n",
       "      <td>3</td>\n",
       "      <td>Braund, Mr. Owen Harris</td>\n",
       "      <td>0</td>\n",
       "      <td>22</td>\n",
       "      <td>1</td>\n",
       "      <td>0</td>\n",
       "      <td>A/5 21171</td>\n",
       "      <td>7.2500</td>\n",
       "      <td>NaN</td>\n",
       "      <td>S</td>\n",
       "    </tr>\n",
       "    <tr>\n",
       "      <th>1</th>\n",
       "      <td>2</td>\n",
       "      <td>1</td>\n",
       "      <td>1</td>\n",
       "      <td>Cumings, Mrs. John Bradley (Florence Briggs Th...</td>\n",
       "      <td>1</td>\n",
       "      <td>38</td>\n",
       "      <td>1</td>\n",
       "      <td>0</td>\n",
       "      <td>PC 17599</td>\n",
       "      <td>71.2833</td>\n",
       "      <td>C85</td>\n",
       "      <td>C</td>\n",
       "    </tr>\n",
       "    <tr>\n",
       "      <th>2</th>\n",
       "      <td>3</td>\n",
       "      <td>1</td>\n",
       "      <td>3</td>\n",
       "      <td>Heikkinen, Miss. Laina</td>\n",
       "      <td>1</td>\n",
       "      <td>26</td>\n",
       "      <td>0</td>\n",
       "      <td>0</td>\n",
       "      <td>STON/O2. 3101282</td>\n",
       "      <td>7.9250</td>\n",
       "      <td>NaN</td>\n",
       "      <td>S</td>\n",
       "    </tr>\n",
       "    <tr>\n",
       "      <th>3</th>\n",
       "      <td>4</td>\n",
       "      <td>1</td>\n",
       "      <td>1</td>\n",
       "      <td>Futrelle, Mrs. Jacques Heath (Lily May Peel)</td>\n",
       "      <td>1</td>\n",
       "      <td>35</td>\n",
       "      <td>1</td>\n",
       "      <td>0</td>\n",
       "      <td>113803</td>\n",
       "      <td>53.1000</td>\n",
       "      <td>C123</td>\n",
       "      <td>S</td>\n",
       "    </tr>\n",
       "    <tr>\n",
       "      <th>4</th>\n",
       "      <td>5</td>\n",
       "      <td>0</td>\n",
       "      <td>3</td>\n",
       "      <td>Allen, Mr. William Henry</td>\n",
       "      <td>0</td>\n",
       "      <td>35</td>\n",
       "      <td>0</td>\n",
       "      <td>0</td>\n",
       "      <td>373450</td>\n",
       "      <td>8.0500</td>\n",
       "      <td>NaN</td>\n",
       "      <td>S</td>\n",
       "    </tr>\n",
       "  </tbody>\n",
       "</table>\n",
       "</div>"
      ],
      "text/plain": [
       "   PassengerId  Survived  Pclass  \\\n",
       "0            1         0       3   \n",
       "1            2         1       1   \n",
       "2            3         1       3   \n",
       "3            4         1       1   \n",
       "4            5         0       3   \n",
       "\n",
       "                                                Name  Sex  Age  SibSp  Parch  \\\n",
       "0                            Braund, Mr. Owen Harris    0   22      1      0   \n",
       "1  Cumings, Mrs. John Bradley (Florence Briggs Th...    1   38      1      0   \n",
       "2                             Heikkinen, Miss. Laina    1   26      0      0   \n",
       "3       Futrelle, Mrs. Jacques Heath (Lily May Peel)    1   35      1      0   \n",
       "4                           Allen, Mr. William Henry    0   35      0      0   \n",
       "\n",
       "             Ticket     Fare Cabin Embarked  \n",
       "0         A/5 21171   7.2500   NaN        S  \n",
       "1          PC 17599  71.2833   C85        C  \n",
       "2  STON/O2. 3101282   7.9250   NaN        S  \n",
       "3            113803  53.1000  C123        S  \n",
       "4            373450   8.0500   NaN        S  "
      ]
     },
     "execution_count": 8,
     "metadata": {},
     "output_type": "execute_result"
    }
   ],
   "source": [
    "combine = [train_data , test_data]\n",
    "\n",
    "# Converting Sex categories (male and female) to 0 and 1: \n",
    "for dataset in combine:\n",
    "    dataset['Sex'] = dataset['Sex'].map( {'female': 1, 'male': 0} ).astype(int)\n",
    "\n",
    "# Filling missed age feature:\n",
    "\n",
    "for dataset in combine:\n",
    "    for i in range(0, 2):\n",
    "        for j in range(0, 3):\n",
    "            guess_df = dataset[(dataset['Sex'] == i) & \\\n",
    "                                  (dataset['Pclass'] == j+1)]['Age'].dropna()\n",
    "            age_guess = guess_df.median() # 根据Sex和Pclass填补Age为其对应的中位数\n",
    "\n",
    "            # Convert random age float to nearest .5 age\n",
    "            guess_ages[i,j] = int( age_guess/0.5 + 0.5 ) * 0.5\n",
    "            \n",
    "    for i in range(0, 2):\n",
    "        for j in range(0, 3):\n",
    "            dataset.loc[ (dataset.Age.isnull()) & (dataset.Sex == i) & (dataset.Pclass == j+1),\\\n",
    "                    'Age'] = guess_ages[i,j]\n",
    "\n",
    "    dataset['Age'] = dataset['Age'].astype(int)\n",
    "\n",
    "train_data.head()"
   ]
  },
  {
   "cell_type": "code",
   "execution_count": 9,
   "id": "7b8eb112",
   "metadata": {
    "execution": {
     "iopub.execute_input": "2022-10-23T09:48:51.972191Z",
     "iopub.status.busy": "2022-10-23T09:48:51.971796Z",
     "iopub.status.idle": "2022-10-23T09:48:51.981298Z",
     "shell.execute_reply": "2022-10-23T09:48:51.980281Z"
    },
    "papermill": {
     "duration": 0.020312,
     "end_time": "2022-10-23T09:48:51.983630",
     "exception": false,
     "start_time": "2022-10-23T09:48:51.963318",
     "status": "completed"
    },
    "tags": []
   },
   "outputs": [
    {
     "data": {
      "text/plain": [
       "PassengerId      0\n",
       "Survived         0\n",
       "Pclass           0\n",
       "Name             0\n",
       "Sex              0\n",
       "Age              0\n",
       "SibSp            0\n",
       "Parch            0\n",
       "Ticket           0\n",
       "Fare             0\n",
       "Cabin          687\n",
       "Embarked         0\n",
       "dtype: int64"
      ]
     },
     "execution_count": 9,
     "metadata": {},
     "output_type": "execute_result"
    }
   ],
   "source": [
    "train_data.isnull().sum()"
   ]
  },
  {
   "cell_type": "code",
   "execution_count": 10,
   "id": "a9a44c83",
   "metadata": {
    "execution": {
     "iopub.execute_input": "2022-10-23T09:48:51.999756Z",
     "iopub.status.busy": "2022-10-23T09:48:51.999323Z",
     "iopub.status.idle": "2022-10-23T09:48:52.008096Z",
     "shell.execute_reply": "2022-10-23T09:48:52.007305Z"
    },
    "papermill": {
     "duration": 0.019189,
     "end_time": "2022-10-23T09:48:52.010105",
     "exception": false,
     "start_time": "2022-10-23T09:48:51.990916",
     "status": "completed"
    },
    "tags": []
   },
   "outputs": [
    {
     "data": {
      "text/plain": [
       "PassengerId      0\n",
       "Pclass           0\n",
       "Name             0\n",
       "Sex              0\n",
       "Age              0\n",
       "SibSp            0\n",
       "Parch            0\n",
       "Ticket           0\n",
       "Fare             0\n",
       "Cabin          327\n",
       "Embarked         0\n",
       "dtype: int64"
      ]
     },
     "execution_count": 10,
     "metadata": {},
     "output_type": "execute_result"
    }
   ],
   "source": [
    "test_data.isnull().sum()"
   ]
  },
  {
   "cell_type": "markdown",
   "id": "616a25c5",
   "metadata": {
    "papermill": {
     "duration": 0.007069,
     "end_time": "2022-10-23T09:48:52.024112",
     "exception": false,
     "start_time": "2022-10-23T09:48:52.017043",
     "status": "completed"
    },
    "tags": []
   },
   "source": [
    "##### There are no important missed data anymore!!!"
   ]
  },
  {
   "cell_type": "markdown",
   "id": "0dfb5268",
   "metadata": {
    "execution": {
     "iopub.execute_input": "2022-07-20T07:00:02.081752Z",
     "iopub.status.busy": "2022-07-20T07:00:02.080654Z",
     "iopub.status.idle": "2022-07-20T07:00:02.087938Z",
     "shell.execute_reply": "2022-07-20T07:00:02.086151Z",
     "shell.execute_reply.started": "2022-07-20T07:00:02.081692Z"
    },
    "papermill": {
     "duration": 0.006422,
     "end_time": "2022-10-23T09:48:52.037289",
     "exception": false,
     "start_time": "2022-10-23T09:48:52.030867",
     "status": "completed"
    },
    "tags": []
   },
   "source": [
    "### Modeling:"
   ]
  },
  {
   "cell_type": "code",
   "execution_count": 11,
   "id": "3005944a",
   "metadata": {
    "execution": {
     "iopub.execute_input": "2022-10-23T09:48:52.052786Z",
     "iopub.status.busy": "2022-10-23T09:48:52.052173Z",
     "iopub.status.idle": "2022-10-23T09:48:52.378081Z",
     "shell.execute_reply": "2022-10-23T09:48:52.377019Z"
    },
    "papermill": {
     "duration": 0.336865,
     "end_time": "2022-10-23T09:48:52.380942",
     "exception": false,
     "start_time": "2022-10-23T09:48:52.044077",
     "status": "completed"
    },
    "tags": []
   },
   "outputs": [],
   "source": [
    "# ========================================================= #\n",
    "from sklearn.metrics import accuracy_score\n",
    "from sklearn.model_selection import cross_val_score\n",
    "# ========================================================= #\n",
    "from sklearn.tree import DecisionTreeClassifier\n",
    "# ========================================================= #\n",
    "from colorama import Fore"
   ]
  },
  {
   "cell_type": "code",
   "execution_count": 12,
   "id": "76e94bf9",
   "metadata": {
    "execution": {
     "iopub.execute_input": "2022-10-23T09:48:52.397036Z",
     "iopub.status.busy": "2022-10-23T09:48:52.396613Z",
     "iopub.status.idle": "2022-10-23T09:48:52.425594Z",
     "shell.execute_reply": "2022-10-23T09:48:52.424444Z"
    },
    "papermill": {
     "duration": 0.040121,
     "end_time": "2022-10-23T09:48:52.428319",
     "exception": false,
     "start_time": "2022-10-23T09:48:52.388198",
     "status": "completed"
    },
    "tags": []
   },
   "outputs": [
    {
     "data": {
      "text/html": [
       "<div>\n",
       "<style scoped>\n",
       "    .dataframe tbody tr th:only-of-type {\n",
       "        vertical-align: middle;\n",
       "    }\n",
       "\n",
       "    .dataframe tbody tr th {\n",
       "        vertical-align: top;\n",
       "    }\n",
       "\n",
       "    .dataframe thead th {\n",
       "        text-align: right;\n",
       "    }\n",
       "</style>\n",
       "<table border=\"1\" class=\"dataframe\">\n",
       "  <thead>\n",
       "    <tr style=\"text-align: right;\">\n",
       "      <th></th>\n",
       "      <th>Pclass</th>\n",
       "      <th>Sex</th>\n",
       "      <th>Age</th>\n",
       "      <th>SibSp</th>\n",
       "      <th>Parch</th>\n",
       "      <th>Fare</th>\n",
       "      <th>Embarked_C</th>\n",
       "      <th>Embarked_Q</th>\n",
       "      <th>Embarked_S</th>\n",
       "    </tr>\n",
       "  </thead>\n",
       "  <tbody>\n",
       "    <tr>\n",
       "      <th>0</th>\n",
       "      <td>3</td>\n",
       "      <td>0</td>\n",
       "      <td>22</td>\n",
       "      <td>1</td>\n",
       "      <td>0</td>\n",
       "      <td>7.2500</td>\n",
       "      <td>0</td>\n",
       "      <td>0</td>\n",
       "      <td>1</td>\n",
       "    </tr>\n",
       "    <tr>\n",
       "      <th>1</th>\n",
       "      <td>1</td>\n",
       "      <td>1</td>\n",
       "      <td>38</td>\n",
       "      <td>1</td>\n",
       "      <td>0</td>\n",
       "      <td>71.2833</td>\n",
       "      <td>1</td>\n",
       "      <td>0</td>\n",
       "      <td>0</td>\n",
       "    </tr>\n",
       "    <tr>\n",
       "      <th>2</th>\n",
       "      <td>3</td>\n",
       "      <td>1</td>\n",
       "      <td>26</td>\n",
       "      <td>0</td>\n",
       "      <td>0</td>\n",
       "      <td>7.9250</td>\n",
       "      <td>0</td>\n",
       "      <td>0</td>\n",
       "      <td>1</td>\n",
       "    </tr>\n",
       "    <tr>\n",
       "      <th>3</th>\n",
       "      <td>1</td>\n",
       "      <td>1</td>\n",
       "      <td>35</td>\n",
       "      <td>1</td>\n",
       "      <td>0</td>\n",
       "      <td>53.1000</td>\n",
       "      <td>0</td>\n",
       "      <td>0</td>\n",
       "      <td>1</td>\n",
       "    </tr>\n",
       "    <tr>\n",
       "      <th>4</th>\n",
       "      <td>3</td>\n",
       "      <td>0</td>\n",
       "      <td>35</td>\n",
       "      <td>0</td>\n",
       "      <td>0</td>\n",
       "      <td>8.0500</td>\n",
       "      <td>0</td>\n",
       "      <td>0</td>\n",
       "      <td>1</td>\n",
       "    </tr>\n",
       "  </tbody>\n",
       "</table>\n",
       "</div>"
      ],
      "text/plain": [
       "   Pclass  Sex  Age  SibSp  Parch     Fare  Embarked_C  Embarked_Q  Embarked_S\n",
       "0       3    0   22      1      0   7.2500           0           0           1\n",
       "1       1    1   38      1      0  71.2833           1           0           0\n",
       "2       3    1   26      0      0   7.9250           0           0           1\n",
       "3       1    1   35      1      0  53.1000           0           0           1\n",
       "4       3    0   35      0      0   8.0500           0           0           1"
      ]
     },
     "execution_count": 12,
     "metadata": {},
     "output_type": "execute_result"
    }
   ],
   "source": [
    "# First we will select the features that we will use:\n",
    "\n",
    "features = [\"Pclass\" , \"Sex\" , \"Age\" , \"SibSp\" , \"Parch\" , \"Fare\" , \"Embarked\"]\n",
    "\n",
    "# Categorical to indicator variables: 类别值0-1编码\n",
    "X_train = pd.get_dummies(train_data[features])\n",
    "Y_train = train_data[\"Survived\"]\n",
    "X_test = pd.get_dummies(test_data[features])\n",
    "\n",
    "X_train.head()"
   ]
  },
  {
   "cell_type": "code",
   "execution_count": 13,
   "id": "ff657f6b",
   "metadata": {
    "execution": {
     "iopub.execute_input": "2022-10-23T09:48:52.444658Z",
     "iopub.status.busy": "2022-10-23T09:48:52.444209Z",
     "iopub.status.idle": "2022-10-23T09:48:52.452790Z",
     "shell.execute_reply": "2022-10-23T09:48:52.451500Z"
    },
    "papermill": {
     "duration": 0.019816,
     "end_time": "2022-10-23T09:48:52.455488",
     "exception": false,
     "start_time": "2022-10-23T09:48:52.435672",
     "status": "completed"
    },
    "tags": []
   },
   "outputs": [],
   "source": [
    "def print_scores(model ,X_train , Y_train,predictions , cv_splites=10):\n",
    "    # Fore 不同颜色区分结果\n",
    "    # 通过mean accuracy和cross validation及test score看出是欠拟合、正常还是过拟合\n",
    "    # 欠拟合 = train val test acc都低，正常 = train val test acc差不多都高， 过拟合 = train 远高于 val test\n",
    "    print(Fore.BLUE , \"The mean accuracy score of the train data is %.5f\" % model.score(X_train, Y_train))\n",
    "    CV_scores = cross_val_score(model, X_train, Y_train, cv=cv_splites)\n",
    "    print(Fore.BLACK ,\"The individual cross-validation scores are: \\n\",CV_scores)\n",
    "    print(Fore.BLACK ,\"The minimum cross-validation score is %.3f\" % min(CV_scores))\n",
    "    print(Fore.BLACK ,\"The maximum cross-validation score is %.3f\" % max(CV_scores))\n",
    "    print(Fore.YELLOW ,\"The mean  cross-validation   score is %.5f ± %0.2f\" % (CV_scores.mean(), CV_scores.std() * 2))\n",
    "    #print(Fore.RED ,\"The test (i.e. leaderboard)  score is %.5f (this score is unknown)\" % accuracy_score(true_solution[\"Survived\"],predictions))"
   ]
  },
  {
   "cell_type": "code",
   "execution_count": 14,
   "id": "3808fa83",
   "metadata": {
    "execution": {
     "iopub.execute_input": "2022-10-23T09:48:52.472445Z",
     "iopub.status.busy": "2022-10-23T09:48:52.471671Z",
     "iopub.status.idle": "2022-10-23T09:48:52.541391Z",
     "shell.execute_reply": "2022-10-23T09:48:52.540092Z"
    },
    "papermill": {
     "duration": 0.081633,
     "end_time": "2022-10-23T09:48:52.544563",
     "exception": false,
     "start_time": "2022-10-23T09:48:52.462930",
     "status": "completed"
    },
    "tags": []
   },
   "outputs": [
    {
     "name": "stdout",
     "output_type": "stream",
     "text": [
      "\u001b[34m The mean accuracy score of the train data is 0.82379\n",
      "\u001b[30m The individual cross-validation scores are: \n",
      " [0.82222222 0.84269663 0.7752809  0.85393258 0.84269663 0.79775281\n",
      " 0.80898876 0.78651685 0.85393258 0.83146067]\n",
      "\u001b[30m The minimum cross-validation score is 0.775\n",
      "\u001b[30m The maximum cross-validation score is 0.854\n",
      "\u001b[33m The mean  cross-validation   score is 0.82155 ± 0.05\n"
     ]
    }
   ],
   "source": [
    "# 通过max_depth, max_features调整模型复杂度，从而调整模型的拟合程度\n",
    "model = DecisionTreeClassifier(max_depth=3 , max_features=4 ,random_state=7)\n",
    "model.fit(X_train, Y_train)\n",
    "predictions = model.predict(X_test)\n",
    "print_scores(model, X_train, Y_train, predictions)"
   ]
  },
  {
   "cell_type": "code",
   "execution_count": 15,
   "id": "a03c5d94",
   "metadata": {
    "execution": {
     "iopub.execute_input": "2022-10-23T09:48:52.562148Z",
     "iopub.status.busy": "2022-10-23T09:48:52.561757Z",
     "iopub.status.idle": "2022-10-23T09:48:54.514757Z",
     "shell.execute_reply": "2022-10-23T09:48:54.513525Z"
    },
    "papermill": {
     "duration": 1.966157,
     "end_time": "2022-10-23T09:48:54.518929",
     "exception": false,
     "start_time": "2022-10-23T09:48:52.552772",
     "status": "completed"
    },
    "tags": []
   },
   "outputs": [
    {
     "name": "stdout",
     "output_type": "stream",
     "text": [
      "\u001b[34m The mean accuracy score of the train data is 0.85859\n",
      "\u001b[30m The individual cross-validation scores are: \n",
      " [0.76666667 0.85393258 0.75280899 0.91011236 0.88764045 0.80898876\n",
      " 0.80898876 0.78651685 0.87640449 0.84269663]\n",
      "\u001b[30m The minimum cross-validation score is 0.753\n",
      "\u001b[30m The maximum cross-validation score is 0.910\n",
      "\u001b[33m The mean  cross-validation   score is 0.82948 ± 0.10\n"
     ]
    }
   ],
   "source": [
    "from sklearn.ensemble import RandomForestClassifier\n",
    "# 随机森林\n",
    "model = RandomForestClassifier(n_estimators= 80 ,max_depth=5 , max_features=8 ,min_samples_split=3 ,random_state=7)\n",
    "model.fit(X_train, Y_train)\n",
    "predictions = model.predict(X_test)\n",
    "print_scores(model, X_train, Y_train, predictions)"
   ]
  },
  {
   "cell_type": "markdown",
   "id": "254565cf",
   "metadata": {
    "papermill": {
     "duration": 0.007227,
     "end_time": "2022-10-23T09:48:54.534304",
     "exception": false,
     "start_time": "2022-10-23T09:48:54.527077",
     "status": "completed"
    },
    "tags": []
   },
   "source": [
    "#### Conclusions:"
   ]
  },
  {
   "cell_type": "markdown",
   "id": "be43a2f2",
   "metadata": {
    "papermill": {
     "duration": 0.007092,
     "end_time": "2022-10-23T09:48:54.548813",
     "exception": false,
     "start_time": "2022-10-23T09:48:54.541721",
     "status": "completed"
    },
    "tags": []
   },
   "source": [
    "- Titanic Dataset hasn't enough training examples, And this leads to Overfitting.\n",
    "\n",
    "- For other problems with big datasets you can control Overfitting and Underfitting by:  \n",
    "\n",
    "    -1- tradeoff between simple and complex models to find the sweet spot.  \n",
    "    -2- cross validation score very important to measure Overfitting and Underfitting  \n",
    "    -3- use grid search to find the best hyperparameters.  "
   ]
  }
 ],
 "metadata": {
  "kernelspec": {
   "display_name": "Python 3",
   "language": "python",
   "name": "python3"
  },
  "language_info": {
   "codemirror_mode": {
    "name": "ipython",
    "version": 3
   },
   "file_extension": ".py",
   "mimetype": "text/x-python",
   "name": "python",
   "nbconvert_exporter": "python",
   "pygments_lexer": "ipython3",
   "version": "3.7.12"
  },
  "papermill": {
   "default_parameters": {},
   "duration": 14.231476,
   "end_time": "2022-10-23T09:48:55.277616",
   "environment_variables": {},
   "exception": null,
   "input_path": "__notebook__.ipynb",
   "output_path": "__notebook__.ipynb",
   "parameters": {},
   "start_time": "2022-10-23T09:48:41.046140",
   "version": "2.3.4"
  }
 },
 "nbformat": 4,
 "nbformat_minor": 5
}
